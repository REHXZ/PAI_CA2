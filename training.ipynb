{
 "cells": [
  {
   "cell_type": "code",
   "execution_count": 1,
   "metadata": {},
   "outputs": [],
   "source": [
    "import pandas as pd\n",
    "import numpy as np\n",
    "import os\n",
    "import json\n",
    "import time\n",
    "from pathlib import Path\n",
    "\n",
    "# from pandas_profiling import ProfileReport\n",
    "\n",
    "from sklearn.model_selection import train_test_split\n",
    "from sklearn.preprocessing import OneHotEncoder\n",
    "from imblearn.over_sampling import SMOTENC, RandomOverSampler\n",
    "from imblearn.under_sampling import RandomUnderSampler\n",
    "\n",
    "from sklearn.compose import ColumnTransformer\n",
    "\n",
    "import warnings\n",
    "from urllib.parse import urlparse\n",
    "\n",
    "import mlflow\n",
    "from sklearn.pipeline import Pipeline\n",
    "from sklearn.model_selection import train_test_split\n",
    "from sklearn.metrics import accuracy_score\n",
    "from sklearn.preprocessing import StandardScaler, MinMaxScaler, RobustScaler, OneHotEncoder\n",
    "from sklearn.metrics import accuracy_score, precision_score, recall_score, f1_score, roc_auc_score\n",
    "from imblearn.over_sampling import SMOTE, RandomOverSampler\n",
    "from imblearn.under_sampling import RandomUnderSampler\n",
    "import itertools\n",
    "\n",
    "from sklearn.linear_model import LogisticRegression\n",
    "from sklearn.ensemble import RandomForestClassifier\n",
    "from xgboost import XGBClassifier\n",
    "from lightgbm import LGBMClassifier\n",
    "from sklearn.neighbors import KNeighborsClassifier\n",
    "from sklearn.naive_bayes import GaussianNB\n",
    "from sklearn.svm import LinearSVC\n",
    "from sklearn.tree import DecisionTreeClassifier\n",
    "from sklearn.ensemble import GradientBoostingClassifier\n",
    "\n",
    "\n",
    "\n",
    "\n",
    "\n",
    "# Show all columns\n",
    "pd.set_option('display.max_columns', None)\n",
    "warnings.filterwarnings(\"ignore\")"
   ]
  },
  {
   "cell_type": "code",
   "execution_count": 2,
   "metadata": {},
   "outputs": [],
   "source": [
    "data = pd.read_csv('./data/merged_data.csv')\n",
    "\n",
    "merged_df=data.copy()"
   ]
  },
  {
   "cell_type": "code",
   "execution_count": 3,
   "metadata": {},
   "outputs": [],
   "source": [
    "def convert_dtypes(df):\n",
    "    # Convert 'order_value' and 'refund_value' to float16 for memory efficiency\n",
    "    df['order_value'] = df['order_value'].astype('float32')\n",
    "    df['refund_value'] = df['refund_value'].astype('float32')\n",
    "    \n",
    "    # Convert 'num_items_ordered' to uint8 after rounding\n",
    "    df['num_items_ordered'] = df['num_items_ordered'].astype(float).round().astype('uint8')\n",
    "    \n",
    "    # Convert 'order_date' and 'first_order_datetime' to datetime\n",
    "    df['order_date'] = pd.to_datetime(df['order_date'])\n",
    "    df['first_order_datetime'] = pd.to_datetime(df['first_order_datetime'])\n",
    "    \n",
    "    # Convert categorical columns to category dtype for efficiency\n",
    "    df[['country_code', 'collect_type', 'payment_method']] = df[['country_code', 'collect_type', 'payment_method']].astype('category')\n",
    "    \n",
    "    # Convert numerical columns (those that represent counts or numeric features) to uint16\n",
    "    df[['num_orders_last_50days', 'num_cancelled_orders_last_50days', 'num_refund_orders_last_50days']] = df[['num_orders_last_50days', 'num_cancelled_orders_last_50days', 'num_refund_orders_last_50days']].astype('uint16')\n",
    "    \n",
    "    # Convert 'num_associated_customers' to uint8 for efficient memory usage\n",
    "    df['num_associated_customers'] = df['num_associated_customers'].astype('uint8')\n",
    "    \n",
    "    # Convert 'total_payment_last_50days' to float16 for memory efficiency\n",
    "    df['total_payment_last_50days'] = df['total_payment_last_50days'].astype('float32')\n",
    "    \n",
    "    # Convert 'mobile_verified' and 'is_fraud' columns to boolean (mapping string values)\n",
    "    # df['mobile_verified'] = df['mobile_verified'].map({'True': True, 'False': False})\n",
    "    # df['is_fraud'] = df['is_fraud'].map({'1': True, '0': False})\n",
    "    \n",
    "    return df"
   ]
  },
  {
   "cell_type": "code",
   "execution_count": 4,
   "metadata": {},
   "outputs": [],
   "source": [
    "def group_payment_methods(payment_method):\n",
    "    # Credit Card and Related Gateways\n",
    "    if payment_method in ['GenericCreditCard', 'CybersourceCreditCard', 'CybersourceApplePay', 'CreditCard']:\n",
    "        return 'CreditCard'\n",
    "    \n",
    "    # Digital Wallets\n",
    "    elif payment_method in ['GCash', 'AFbKash', 'JazzCashWallet', 'AFTrueMoney', 'AdyenBoost', 'AdyenMolpay',\n",
    "                            'AFTNG', 'AdyenHPPBoost', 'AdyenHPPMolpay', 'PayPal', 'AFGCash', 'AccountBalance']:\n",
    "        return 'DigitalWallet'\n",
    "    \n",
    "    # Bank Transfers and Direct Debit\n",
    "    elif payment_method in ['XenditDirectDebit', 'RazerOnlineBanking']:\n",
    "        return 'BankTransfer'\n",
    "    \n",
    "    # PayOnDelivery\n",
    "    elif payment_method in ['Invoice', 'PayOnDelivery']:\n",
    "        return 'PaymentOnDelivery'\n",
    "    \n",
    "    # Default case for unrecognized methods\n",
    "    else:\n",
    "        return 'Others'"
   ]
  },
  {
   "cell_type": "code",
   "execution_count": 5,
   "metadata": {},
   "outputs": [],
   "source": [
    "def days_since_first_order(data, order_date_column, first_order_column):\n",
    "    # Create a feature for the number of days since the first order\n",
    "    data['days_since_first_order'] = (data[order_date_column] - data[first_order_column]).dt.days\n",
    "    data.drop([first_order_column], axis=1, inplace=True)\n",
    "    return data\n",
    "\n",
    "\n",
    "def transform_datetime(data, column):\n",
    "    # Handle Datetime columns\n",
    "    data[column + '_day_of_week'] = data[column].dt.dayofweek\n",
    "    data[column + '_day'] = data[column].dt.day\n",
    "    data[column + '_month'] = data[column].dt.month\n",
    "    data[column + '_year'] = data[column].dt.year\n",
    "    data.drop([column], axis=1, inplace=True)\n",
    "    return data\n",
    "\n",
    "def date_transformations(data):\n",
    "    data = days_since_first_order(data, 'order_date', 'first_order_datetime')\n",
    "    data = transform_datetime(data, 'order_date')\n",
    "\n",
    "    return data"
   ]
  },
  {
   "cell_type": "code",
   "execution_count": 6,
   "metadata": {},
   "outputs": [],
   "source": [
    "merged_df = convert_dtypes(merged_df)\n",
    "merged_df['payment_method'] = merged_df['payment_method'].apply(group_payment_methods)\n",
    "merged_df = date_transformations(merged_df)\n",
    "merged_df.drop(columns=['order_id', 'customer_id'], inplace=True)\n",
    "X=merged_df.drop(columns=['is_fraud'])\n",
    "y=merged_df['is_fraud']\n",
    "X_train, X_test, y_train, y_test = train_test_split(X, y, test_size=0.2, random_state=42, stratify=y)"
   ]
  },
  {
   "cell_type": "code",
   "execution_count": 7,
   "metadata": {},
   "outputs": [],
   "source": [
    "from ExperimentTrackers import PhaseOneExperimentTracker"
   ]
  },
  {
   "cell_type": "code",
   "execution_count": 8,
   "metadata": {},
   "outputs": [],
   "source": [
    "# Define the search space\n",
    "search_space = search_space = {\n",
    "    'scaler': [StandardScaler(), MinMaxScaler(), RobustScaler(), None],\n",
    "    'encode': [{'apply': True, 'columns': ['categorical_col']}, {'apply': False}],\n",
    "    'models': [\n",
    "        {'name': 'LogisticRegression', 'instance': LogisticRegression()},\n",
    "        {'name': 'RandomForest', 'instance': RandomForestClassifier()},\n",
    "        {'name': 'LightGBM', 'instance': LGBMClassifier()},\n",
    "        {'name': 'GaussianNB', 'instance': GaussianNB()},\n",
    "        {'name': 'DecisionTree', 'instance': DecisionTreeClassifier()},\n",
    "        {'name': 'GradientBoosting', 'instance': GradientBoostingClassifier()},\n",
    "    ]\n",
    "}\n",
    "\n",
    "# Generate all combinations of the search space\n",
    "keys, values = zip(*search_space.items())\n",
    "experiment_combinations = [dict(zip(keys, v)) for v in itertools.product(*values)]\n",
    "categorical_cols = ['payment_method', 'country_code', 'collect_type']\n",
    "numeric_columns = ['order_value', 'refund_value', 'num_items_ordered', 'num_orders_last_50days', 'num_cancelled_orders_last_50days', 'num_refund_orders_last_50days', 'num_associated_customers', 'total_payment_last_50days', 'days_since_first_order', 'order_date_day_of_week', 'order_date_day', 'order_date_month', 'order_date_year']"
   ]
  },
  {
   "cell_type": "code",
   "execution_count": null,
   "metadata": {},
   "outputs": [
    {
     "name": "stdout",
     "output_type": "stream",
     "text": [
      "Starting run: LO_Standard_Enc_20250207_2236\n"
     ]
    },
    {
     "name": "stderr",
     "output_type": "stream",
     "text": [
      "2025/02/07 22:36:36 WARNING mlflow.models.signature: Failed to infer the model signature from the input example. Reason: MlflowException(\"Failed to enforce schema of data '        country_code  mobile_verified  num_orders_last_50days  \\\\\\n1206580           MY             True                     205   \\n\\n         num_cancelled_orders_last_50days  num_refund_orders_last_50days  \\\\\\n1206580                                 7                             10   \\n\\n         total_payment_last_50days  num_associated_customers collect_type  \\\\\\n1206580                1875.998413                         2     delivery   \\n\\n        payment_method  order_value  num_items_ordered  refund_value  \\\\\\n1206580   BankTransfer       6.5625                  3      6.558594   \\n\\n         days_since_first_order  order_date_day_of_week  order_date_day  \\\\\\n1206580                    1259                       1               3   \\n\\n         order_date_month  order_date_year  \\n1206580                 1             2023  ' with schema '['country_code': string (required), 'mobile_verified': boolean (required), 'num_orders_last_50days': integer (required), 'num_cancelled_orders_last_50days': integer (required), 'num_refund_orders_last_50days': integer (required), 'total_payment_last_50days': float (required), 'num_associated_customers': integer (required), 'collect_type': string (required), 'payment_method': string (required), 'order_value': float (required), 'num_items_ordered': integer (required), 'refund_value': float (required), 'days_since_first_order': long (required), 'order_date_day_of_week': integer (required), 'order_date_day': integer (required), 'order_date_month': integer (required), 'order_date_year': integer (required)]'. Error: Incompatible input types for column country_code. Can not safely convert category to <U0.\"). To see the full traceback, set the logging level to DEBUG via `logging.getLogger(\"mlflow\").setLevel(logging.DEBUG)`.\n"
     ]
    },
    {
     "name": "stdout",
     "output_type": "stream",
     "text": [
      "Completed run: LO_Standard_Enc_20250207_2236\n",
      "🏃 View run LO_Standard_Enc_20250207_2236 at: https://dagshub.com/REHXZ/PAI_CA2.mlflow/#/experiments/7/runs/a89b4464b73d4e9b851ac680b39b4ab0\n",
      "🧪 View experiment at: https://dagshub.com/REHXZ/PAI_CA2.mlflow/#/experiments/7\n",
      "Starting run: RA_Standard_Enc_20250207_2238\n"
     ]
    },
    {
     "name": "stderr",
     "output_type": "stream",
     "text": [
      "2025/02/07 22:47:07 WARNING mlflow.models.signature: Failed to infer the model signature from the input example. Reason: MlflowException(\"Failed to enforce schema of data '        country_code  mobile_verified  num_orders_last_50days  \\\\\\n1206580           MY             True                     205   \\n\\n         num_cancelled_orders_last_50days  num_refund_orders_last_50days  \\\\\\n1206580                                 7                             10   \\n\\n         total_payment_last_50days  num_associated_customers collect_type  \\\\\\n1206580                1875.998413                         2     delivery   \\n\\n        payment_method  order_value  num_items_ordered  refund_value  \\\\\\n1206580   BankTransfer       6.5625                  3      6.558594   \\n\\n         days_since_first_order  order_date_day_of_week  order_date_day  \\\\\\n1206580                    1259                       1               3   \\n\\n         order_date_month  order_date_year  \\n1206580                 1             2023  ' with schema '['country_code': string (required), 'mobile_verified': boolean (required), 'num_orders_last_50days': integer (required), 'num_cancelled_orders_last_50days': integer (required), 'num_refund_orders_last_50days': integer (required), 'total_payment_last_50days': float (required), 'num_associated_customers': integer (required), 'collect_type': string (required), 'payment_method': string (required), 'order_value': float (required), 'num_items_ordered': integer (required), 'refund_value': float (required), 'days_since_first_order': long (required), 'order_date_day_of_week': integer (required), 'order_date_day': integer (required), 'order_date_month': integer (required), 'order_date_year': integer (required)]'. Error: Incompatible input types for column country_code. Can not safely convert category to <U0.\"). To see the full traceback, set the logging level to DEBUG via `logging.getLogger(\"mlflow\").setLevel(logging.DEBUG)`.\n"
     ]
    },
    {
     "name": "stdout",
     "output_type": "stream",
     "text": [
      "Completed run: RA_Standard_Enc_20250207_2238\n",
      "🏃 View run RA_Standard_Enc_20250207_2238 at: https://dagshub.com/REHXZ/PAI_CA2.mlflow/#/experiments/7/runs/e13f138e8d174462830fa827f43c717b\n",
      "🧪 View experiment at: https://dagshub.com/REHXZ/PAI_CA2.mlflow/#/experiments/7\n",
      "Starting run: LI_Standard_Enc_20250207_2306\n",
      "[LightGBM] [Info] Number of positive: 199486, number of negative: 1611458\n",
      "[LightGBM] [Info] Auto-choosing row-wise multi-threading, the overhead of testing was 0.074307 seconds.\n",
      "You can set `force_row_wise=true` to remove the overhead.\n",
      "And if memory is not enough, you can set `force_col_wise=true`.\n",
      "[LightGBM] [Info] Total Bins 1723\n",
      "[LightGBM] [Info] Number of data points in the train set: 1810944, number of used features: 26\n",
      "[LightGBM] [Info] [binary:BoostFromScore]: pavg=0.110156 -> initscore=-2.089151\n",
      "[LightGBM] [Info] Start training from score -2.089151\n"
     ]
    },
    {
     "name": "stderr",
     "output_type": "stream",
     "text": [
      "2025/02/07 23:07:09 WARNING mlflow.models.signature: Failed to infer the model signature from the input example. Reason: MlflowException(\"Failed to enforce schema of data '        country_code  mobile_verified  num_orders_last_50days  \\\\\\n1206580           MY             True                     205   \\n\\n         num_cancelled_orders_last_50days  num_refund_orders_last_50days  \\\\\\n1206580                                 7                             10   \\n\\n         total_payment_last_50days  num_associated_customers collect_type  \\\\\\n1206580                1875.998413                         2     delivery   \\n\\n        payment_method  order_value  num_items_ordered  refund_value  \\\\\\n1206580   BankTransfer       6.5625                  3      6.558594   \\n\\n         days_since_first_order  order_date_day_of_week  order_date_day  \\\\\\n1206580                    1259                       1               3   \\n\\n         order_date_month  order_date_year  \\n1206580                 1             2023  ' with schema '['country_code': string (required), 'mobile_verified': boolean (required), 'num_orders_last_50days': integer (required), 'num_cancelled_orders_last_50days': integer (required), 'num_refund_orders_last_50days': integer (required), 'total_payment_last_50days': float (required), 'num_associated_customers': integer (required), 'collect_type': string (required), 'payment_method': string (required), 'order_value': float (required), 'num_items_ordered': integer (required), 'refund_value': float (required), 'days_since_first_order': long (required), 'order_date_day_of_week': integer (required), 'order_date_day': integer (required), 'order_date_month': integer (required), 'order_date_year': integer (required)]'. Error: Incompatible input types for column country_code. Can not safely convert category to <U0.\"). To see the full traceback, set the logging level to DEBUG via `logging.getLogger(\"mlflow\").setLevel(logging.DEBUG)`.\n"
     ]
    },
    {
     "name": "stdout",
     "output_type": "stream",
     "text": [
      "Completed run: LI_Standard_Enc_20250207_2306\n",
      "🏃 View run LI_Standard_Enc_20250207_2306 at: https://dagshub.com/REHXZ/PAI_CA2.mlflow/#/experiments/7/runs/78576872098641f1af8e90b7ff9a4640\n",
      "🧪 View experiment at: https://dagshub.com/REHXZ/PAI_CA2.mlflow/#/experiments/7\n",
      "Starting run: GA_Standard_Enc_20250207_2308\n"
     ]
    },
    {
     "name": "stderr",
     "output_type": "stream",
     "text": [
      "2025/02/07 23:08:57 WARNING mlflow.models.signature: Failed to infer the model signature from the input example. Reason: MlflowException(\"Failed to enforce schema of data '        country_code  mobile_verified  num_orders_last_50days  \\\\\\n1206580           MY             True                     205   \\n\\n         num_cancelled_orders_last_50days  num_refund_orders_last_50days  \\\\\\n1206580                                 7                             10   \\n\\n         total_payment_last_50days  num_associated_customers collect_type  \\\\\\n1206580                1875.998413                         2     delivery   \\n\\n        payment_method  order_value  num_items_ordered  refund_value  \\\\\\n1206580   BankTransfer       6.5625                  3      6.558594   \\n\\n         days_since_first_order  order_date_day_of_week  order_date_day  \\\\\\n1206580                    1259                       1               3   \\n\\n         order_date_month  order_date_year  \\n1206580                 1             2023  ' with schema '['country_code': string (required), 'mobile_verified': boolean (required), 'num_orders_last_50days': integer (required), 'num_cancelled_orders_last_50days': integer (required), 'num_refund_orders_last_50days': integer (required), 'total_payment_last_50days': float (required), 'num_associated_customers': integer (required), 'collect_type': string (required), 'payment_method': string (required), 'order_value': float (required), 'num_items_ordered': integer (required), 'refund_value': float (required), 'days_since_first_order': long (required), 'order_date_day_of_week': integer (required), 'order_date_day': integer (required), 'order_date_month': integer (required), 'order_date_year': integer (required)]'. Error: Incompatible input types for column country_code. Can not safely convert category to <U0.\"). To see the full traceback, set the logging level to DEBUG via `logging.getLogger(\"mlflow\").setLevel(logging.DEBUG)`.\n"
     ]
    },
    {
     "name": "stdout",
     "output_type": "stream",
     "text": [
      "Completed run: GA_Standard_Enc_20250207_2308\n",
      "🏃 View run GA_Standard_Enc_20250207_2308 at: https://dagshub.com/REHXZ/PAI_CA2.mlflow/#/experiments/7/runs/1034a64df4af4a6fa89b712101d08ef2\n",
      "🧪 View experiment at: https://dagshub.com/REHXZ/PAI_CA2.mlflow/#/experiments/7\n",
      "Starting run: DE_Standard_Enc_20250207_2309\n"
     ]
    },
    {
     "name": "stderr",
     "output_type": "stream",
     "text": [
      "2025/02/07 23:10:09 WARNING mlflow.models.signature: Failed to infer the model signature from the input example. Reason: MlflowException(\"Failed to enforce schema of data '        country_code  mobile_verified  num_orders_last_50days  \\\\\\n1206580           MY             True                     205   \\n\\n         num_cancelled_orders_last_50days  num_refund_orders_last_50days  \\\\\\n1206580                                 7                             10   \\n\\n         total_payment_last_50days  num_associated_customers collect_type  \\\\\\n1206580                1875.998413                         2     delivery   \\n\\n        payment_method  order_value  num_items_ordered  refund_value  \\\\\\n1206580   BankTransfer       6.5625                  3      6.558594   \\n\\n         days_since_first_order  order_date_day_of_week  order_date_day  \\\\\\n1206580                    1259                       1               3   \\n\\n         order_date_month  order_date_year  \\n1206580                 1             2023  ' with schema '['country_code': string (required), 'mobile_verified': boolean (required), 'num_orders_last_50days': integer (required), 'num_cancelled_orders_last_50days': integer (required), 'num_refund_orders_last_50days': integer (required), 'total_payment_last_50days': float (required), 'num_associated_customers': integer (required), 'collect_type': string (required), 'payment_method': string (required), 'order_value': float (required), 'num_items_ordered': integer (required), 'refund_value': float (required), 'days_since_first_order': long (required), 'order_date_day_of_week': integer (required), 'order_date_day': integer (required), 'order_date_month': integer (required), 'order_date_year': integer (required)]'. Error: Incompatible input types for column country_code. Can not safely convert category to <U0.\"). To see the full traceback, set the logging level to DEBUG via `logging.getLogger(\"mlflow\").setLevel(logging.DEBUG)`.\n"
     ]
    },
    {
     "name": "stdout",
     "output_type": "stream",
     "text": [
      "Completed run: DE_Standard_Enc_20250207_2309\n",
      "🏃 View run DE_Standard_Enc_20250207_2309 at: https://dagshub.com/REHXZ/PAI_CA2.mlflow/#/experiments/7/runs/396d460e017147cb9ec6dc95e4e23402\n",
      "🧪 View experiment at: https://dagshub.com/REHXZ/PAI_CA2.mlflow/#/experiments/7\n",
      "Starting run: GR_Standard_Enc_20250207_2311\n"
     ]
    },
    {
     "name": "stderr",
     "output_type": "stream",
     "text": [
      "2025/02/07 23:21:33 WARNING mlflow.models.signature: Failed to infer the model signature from the input example. Reason: MlflowException(\"Failed to enforce schema of data '        country_code  mobile_verified  num_orders_last_50days  \\\\\\n1206580           MY             True                     205   \\n\\n         num_cancelled_orders_last_50days  num_refund_orders_last_50days  \\\\\\n1206580                                 7                             10   \\n\\n         total_payment_last_50days  num_associated_customers collect_type  \\\\\\n1206580                1875.998413                         2     delivery   \\n\\n        payment_method  order_value  num_items_ordered  refund_value  \\\\\\n1206580   BankTransfer       6.5625                  3      6.558594   \\n\\n         days_since_first_order  order_date_day_of_week  order_date_day  \\\\\\n1206580                    1259                       1               3   \\n\\n         order_date_month  order_date_year  \\n1206580                 1             2023  ' with schema '['country_code': string (required), 'mobile_verified': boolean (required), 'num_orders_last_50days': integer (required), 'num_cancelled_orders_last_50days': integer (required), 'num_refund_orders_last_50days': integer (required), 'total_payment_last_50days': float (required), 'num_associated_customers': integer (required), 'collect_type': string (required), 'payment_method': string (required), 'order_value': float (required), 'num_items_ordered': integer (required), 'refund_value': float (required), 'days_since_first_order': long (required), 'order_date_day_of_week': integer (required), 'order_date_day': integer (required), 'order_date_month': integer (required), 'order_date_year': integer (required)]'. Error: Incompatible input types for column country_code. Can not safely convert category to <U0.\"). To see the full traceback, set the logging level to DEBUG via `logging.getLogger(\"mlflow\").setLevel(logging.DEBUG)`.\n"
     ]
    },
    {
     "name": "stdout",
     "output_type": "stream",
     "text": [
      "Completed run: GR_Standard_Enc_20250207_2311\n",
      "🏃 View run GR_Standard_Enc_20250207_2311 at: https://dagshub.com/REHXZ/PAI_CA2.mlflow/#/experiments/7/runs/25aff16f62104e3784a67753616b7db3\n",
      "🧪 View experiment at: https://dagshub.com/REHXZ/PAI_CA2.mlflow/#/experiments/7\n",
      "Starting run: LO_Standard_NoEnc_20250207_2349\n"
     ]
    },
    {
     "name": "stderr",
     "output_type": "stream",
     "text": [
      "2025/02/07 23:49:40 WARNING mlflow.models.signature: Failed to infer the model signature from the input example. Reason: MlflowException(\"Failed to enforce schema of data '        country_code  mobile_verified  num_orders_last_50days  \\\\\\n1206580           MY             True                     205   \\n\\n         num_cancelled_orders_last_50days  num_refund_orders_last_50days  \\\\\\n1206580                                 7                             10   \\n\\n         total_payment_last_50days  num_associated_customers collect_type  \\\\\\n1206580                1875.998413                         2     delivery   \\n\\n        payment_method  order_value  num_items_ordered  refund_value  \\\\\\n1206580   BankTransfer       6.5625                  3      6.558594   \\n\\n         days_since_first_order  order_date_day_of_week  order_date_day  \\\\\\n1206580                    1259                       1               3   \\n\\n         order_date_month  order_date_year  \\n1206580                 1             2023  ' with schema '['country_code': string (required), 'mobile_verified': boolean (required), 'num_orders_last_50days': integer (required), 'num_cancelled_orders_last_50days': integer (required), 'num_refund_orders_last_50days': integer (required), 'total_payment_last_50days': float (required), 'num_associated_customers': integer (required), 'collect_type': string (required), 'payment_method': string (required), 'order_value': float (required), 'num_items_ordered': integer (required), 'refund_value': float (required), 'days_since_first_order': long (required), 'order_date_day_of_week': integer (required), 'order_date_day': integer (required), 'order_date_month': integer (required), 'order_date_year': integer (required)]'. Error: Incompatible input types for column country_code. Can not safely convert category to <U0.\"). To see the full traceback, set the logging level to DEBUG via `logging.getLogger(\"mlflow\").setLevel(logging.DEBUG)`.\n"
     ]
    },
    {
     "name": "stdout",
     "output_type": "stream",
     "text": [
      "Completed run: LO_Standard_NoEnc_20250207_2349\n",
      "🏃 View run LO_Standard_NoEnc_20250207_2349 at: https://dagshub.com/REHXZ/PAI_CA2.mlflow/#/experiments/7/runs/cf8106ecd11b42e996646e716d59a6e0\n",
      "🧪 View experiment at: https://dagshub.com/REHXZ/PAI_CA2.mlflow/#/experiments/7\n",
      "Starting run: RA_Standard_NoEnc_20250207_2350\n"
     ]
    },
    {
     "name": "stderr",
     "output_type": "stream",
     "text": [
      "2025/02/07 23:57:19 WARNING mlflow.models.signature: Failed to infer the model signature from the input example. Reason: MlflowException(\"Failed to enforce schema of data '        country_code  mobile_verified  num_orders_last_50days  \\\\\\n1206580           MY             True                     205   \\n\\n         num_cancelled_orders_last_50days  num_refund_orders_last_50days  \\\\\\n1206580                                 7                             10   \\n\\n         total_payment_last_50days  num_associated_customers collect_type  \\\\\\n1206580                1875.998413                         2     delivery   \\n\\n        payment_method  order_value  num_items_ordered  refund_value  \\\\\\n1206580   BankTransfer       6.5625                  3      6.558594   \\n\\n         days_since_first_order  order_date_day_of_week  order_date_day  \\\\\\n1206580                    1259                       1               3   \\n\\n         order_date_month  order_date_year  \\n1206580                 1             2023  ' with schema '['country_code': string (required), 'mobile_verified': boolean (required), 'num_orders_last_50days': integer (required), 'num_cancelled_orders_last_50days': integer (required), 'num_refund_orders_last_50days': integer (required), 'total_payment_last_50days': float (required), 'num_associated_customers': integer (required), 'collect_type': string (required), 'payment_method': string (required), 'order_value': float (required), 'num_items_ordered': integer (required), 'refund_value': float (required), 'days_since_first_order': long (required), 'order_date_day_of_week': integer (required), 'order_date_day': integer (required), 'order_date_month': integer (required), 'order_date_year': integer (required)]'. Error: Incompatible input types for column country_code. Can not safely convert category to <U0.\"). To see the full traceback, set the logging level to DEBUG via `logging.getLogger(\"mlflow\").setLevel(logging.DEBUG)`.\n"
     ]
    },
    {
     "name": "stdout",
     "output_type": "stream",
     "text": [
      "Completed run: RA_Standard_NoEnc_20250207_2350\n",
      "🏃 View run RA_Standard_NoEnc_20250207_2350 at: https://dagshub.com/REHXZ/PAI_CA2.mlflow/#/experiments/7/runs/86531b940f7947d6889f38c9252264a0\n",
      "🧪 View experiment at: https://dagshub.com/REHXZ/PAI_CA2.mlflow/#/experiments/7\n",
      "Starting run: LI_Standard_NoEnc_20250208_0014\n",
      "[LightGBM] [Info] Number of positive: 199486, number of negative: 1611458\n",
      "[LightGBM] [Info] Auto-choosing row-wise multi-threading, the overhead of testing was 0.052147 seconds.\n",
      "You can set `force_row_wise=true` to remove the overhead.\n",
      "And if memory is not enough, you can set `force_col_wise=true`.\n",
      "[LightGBM] [Info] Total Bins 1699\n",
      "[LightGBM] [Info] Number of data points in the train set: 1810944, number of used features: 14\n",
      "[LightGBM] [Info] [binary:BoostFromScore]: pavg=0.110156 -> initscore=-2.089151\n",
      "[LightGBM] [Info] Start training from score -2.089151\n"
     ]
    },
    {
     "name": "stderr",
     "output_type": "stream",
     "text": [
      "2025/02/08 00:14:19 WARNING mlflow.models.signature: Failed to infer the model signature from the input example. Reason: MlflowException(\"Failed to enforce schema of data '        country_code  mobile_verified  num_orders_last_50days  \\\\\\n1206580           MY             True                     205   \\n\\n         num_cancelled_orders_last_50days  num_refund_orders_last_50days  \\\\\\n1206580                                 7                             10   \\n\\n         total_payment_last_50days  num_associated_customers collect_type  \\\\\\n1206580                1875.998413                         2     delivery   \\n\\n        payment_method  order_value  num_items_ordered  refund_value  \\\\\\n1206580   BankTransfer       6.5625                  3      6.558594   \\n\\n         days_since_first_order  order_date_day_of_week  order_date_day  \\\\\\n1206580                    1259                       1               3   \\n\\n         order_date_month  order_date_year  \\n1206580                 1             2023  ' with schema '['country_code': string (required), 'mobile_verified': boolean (required), 'num_orders_last_50days': integer (required), 'num_cancelled_orders_last_50days': integer (required), 'num_refund_orders_last_50days': integer (required), 'total_payment_last_50days': float (required), 'num_associated_customers': integer (required), 'collect_type': string (required), 'payment_method': string (required), 'order_value': float (required), 'num_items_ordered': integer (required), 'refund_value': float (required), 'days_since_first_order': long (required), 'order_date_day_of_week': integer (required), 'order_date_day': integer (required), 'order_date_month': integer (required), 'order_date_year': integer (required)]'. Error: Incompatible input types for column country_code. Can not safely convert category to <U0.\"). To see the full traceback, set the logging level to DEBUG via `logging.getLogger(\"mlflow\").setLevel(logging.DEBUG)`.\n"
     ]
    },
    {
     "name": "stdout",
     "output_type": "stream",
     "text": [
      "Completed run: LI_Standard_NoEnc_20250208_0014\n",
      "🏃 View run LI_Standard_NoEnc_20250208_0014 at: https://dagshub.com/REHXZ/PAI_CA2.mlflow/#/experiments/7/runs/7017b70dc9eb47d6970597374d779fb5\n",
      "🧪 View experiment at: https://dagshub.com/REHXZ/PAI_CA2.mlflow/#/experiments/7\n",
      "Starting run: GA_Standard_NoEnc_20250208_0015\n"
     ]
    },
    {
     "name": "stderr",
     "output_type": "stream",
     "text": [
      "2025/02/08 00:15:36 WARNING mlflow.models.signature: Failed to infer the model signature from the input example. Reason: MlflowException(\"Failed to enforce schema of data '        country_code  mobile_verified  num_orders_last_50days  \\\\\\n1206580           MY             True                     205   \\n\\n         num_cancelled_orders_last_50days  num_refund_orders_last_50days  \\\\\\n1206580                                 7                             10   \\n\\n         total_payment_last_50days  num_associated_customers collect_type  \\\\\\n1206580                1875.998413                         2     delivery   \\n\\n        payment_method  order_value  num_items_ordered  refund_value  \\\\\\n1206580   BankTransfer       6.5625                  3      6.558594   \\n\\n         days_since_first_order  order_date_day_of_week  order_date_day  \\\\\\n1206580                    1259                       1               3   \\n\\n         order_date_month  order_date_year  \\n1206580                 1             2023  ' with schema '['country_code': string (required), 'mobile_verified': boolean (required), 'num_orders_last_50days': integer (required), 'num_cancelled_orders_last_50days': integer (required), 'num_refund_orders_last_50days': integer (required), 'total_payment_last_50days': float (required), 'num_associated_customers': integer (required), 'collect_type': string (required), 'payment_method': string (required), 'order_value': float (required), 'num_items_ordered': integer (required), 'refund_value': float (required), 'days_since_first_order': long (required), 'order_date_day_of_week': integer (required), 'order_date_day': integer (required), 'order_date_month': integer (required), 'order_date_year': integer (required)]'. Error: Incompatible input types for column country_code. Can not safely convert category to <U0.\"). To see the full traceback, set the logging level to DEBUG via `logging.getLogger(\"mlflow\").setLevel(logging.DEBUG)`.\n"
     ]
    },
    {
     "name": "stdout",
     "output_type": "stream",
     "text": [
      "Completed run: GA_Standard_NoEnc_20250208_0015\n",
      "🏃 View run GA_Standard_NoEnc_20250208_0015 at: https://dagshub.com/REHXZ/PAI_CA2.mlflow/#/experiments/7/runs/f7c63ba88dd44a579309db5b7d1855b6\n",
      "🧪 View experiment at: https://dagshub.com/REHXZ/PAI_CA2.mlflow/#/experiments/7\n",
      "Starting run: DE_Standard_NoEnc_20250208_0016\n"
     ]
    },
    {
     "name": "stderr",
     "output_type": "stream",
     "text": [
      "2025/02/08 00:16:23 WARNING mlflow.models.signature: Failed to infer the model signature from the input example. Reason: MlflowException(\"Failed to enforce schema of data '        country_code  mobile_verified  num_orders_last_50days  \\\\\\n1206580           MY             True                     205   \\n\\n         num_cancelled_orders_last_50days  num_refund_orders_last_50days  \\\\\\n1206580                                 7                             10   \\n\\n         total_payment_last_50days  num_associated_customers collect_type  \\\\\\n1206580                1875.998413                         2     delivery   \\n\\n        payment_method  order_value  num_items_ordered  refund_value  \\\\\\n1206580   BankTransfer       6.5625                  3      6.558594   \\n\\n         days_since_first_order  order_date_day_of_week  order_date_day  \\\\\\n1206580                    1259                       1               3   \\n\\n         order_date_month  order_date_year  \\n1206580                 1             2023  ' with schema '['country_code': string (required), 'mobile_verified': boolean (required), 'num_orders_last_50days': integer (required), 'num_cancelled_orders_last_50days': integer (required), 'num_refund_orders_last_50days': integer (required), 'total_payment_last_50days': float (required), 'num_associated_customers': integer (required), 'collect_type': string (required), 'payment_method': string (required), 'order_value': float (required), 'num_items_ordered': integer (required), 'refund_value': float (required), 'days_since_first_order': long (required), 'order_date_day_of_week': integer (required), 'order_date_day': integer (required), 'order_date_month': integer (required), 'order_date_year': integer (required)]'. Error: Incompatible input types for column country_code. Can not safely convert category to <U0.\"). To see the full traceback, set the logging level to DEBUG via `logging.getLogger(\"mlflow\").setLevel(logging.DEBUG)`.\n"
     ]
    },
    {
     "name": "stdout",
     "output_type": "stream",
     "text": [
      "Completed run: DE_Standard_NoEnc_20250208_0016\n",
      "🏃 View run DE_Standard_NoEnc_20250208_0016 at: https://dagshub.com/REHXZ/PAI_CA2.mlflow/#/experiments/7/runs/d1b111920ea04ba5bd39ed0010d00957\n",
      "🧪 View experiment at: https://dagshub.com/REHXZ/PAI_CA2.mlflow/#/experiments/7\n",
      "Starting run: GR_Standard_NoEnc_20250208_0017\n"
     ]
    },
    {
     "name": "stderr",
     "output_type": "stream",
     "text": [
      "2025/02/08 00:24:32 WARNING mlflow.models.signature: Failed to infer the model signature from the input example. Reason: MlflowException(\"Failed to enforce schema of data '        country_code  mobile_verified  num_orders_last_50days  \\\\\\n1206580           MY             True                     205   \\n\\n         num_cancelled_orders_last_50days  num_refund_orders_last_50days  \\\\\\n1206580                                 7                             10   \\n\\n         total_payment_last_50days  num_associated_customers collect_type  \\\\\\n1206580                1875.998413                         2     delivery   \\n\\n        payment_method  order_value  num_items_ordered  refund_value  \\\\\\n1206580   BankTransfer       6.5625                  3      6.558594   \\n\\n         days_since_first_order  order_date_day_of_week  order_date_day  \\\\\\n1206580                    1259                       1               3   \\n\\n         order_date_month  order_date_year  \\n1206580                 1             2023  ' with schema '['country_code': string (required), 'mobile_verified': boolean (required), 'num_orders_last_50days': integer (required), 'num_cancelled_orders_last_50days': integer (required), 'num_refund_orders_last_50days': integer (required), 'total_payment_last_50days': float (required), 'num_associated_customers': integer (required), 'collect_type': string (required), 'payment_method': string (required), 'order_value': float (required), 'num_items_ordered': integer (required), 'refund_value': float (required), 'days_since_first_order': long (required), 'order_date_day_of_week': integer (required), 'order_date_day': integer (required), 'order_date_month': integer (required), 'order_date_year': integer (required)]'. Error: Incompatible input types for column country_code. Can not safely convert category to <U0.\"). To see the full traceback, set the logging level to DEBUG via `logging.getLogger(\"mlflow\").setLevel(logging.DEBUG)`.\n"
     ]
    },
    {
     "name": "stdout",
     "output_type": "stream",
     "text": [
      "Completed run: GR_Standard_NoEnc_20250208_0017\n",
      "🏃 View run GR_Standard_NoEnc_20250208_0017 at: https://dagshub.com/REHXZ/PAI_CA2.mlflow/#/experiments/7/runs/2310f39507f14201b3b4f0bd3894684c\n",
      "🧪 View experiment at: https://dagshub.com/REHXZ/PAI_CA2.mlflow/#/experiments/7\n",
      "Starting run: LO_MinMax_Enc_20250208_0042\n"
     ]
    },
    {
     "name": "stderr",
     "output_type": "stream",
     "text": [
      "2025/02/08 00:42:27 WARNING mlflow.models.signature: Failed to infer the model signature from the input example. Reason: MlflowException(\"Failed to enforce schema of data '        country_code  mobile_verified  num_orders_last_50days  \\\\\\n1206580           MY             True                     205   \\n\\n         num_cancelled_orders_last_50days  num_refund_orders_last_50days  \\\\\\n1206580                                 7                             10   \\n\\n         total_payment_last_50days  num_associated_customers collect_type  \\\\\\n1206580                1875.998413                         2     delivery   \\n\\n        payment_method  order_value  num_items_ordered  refund_value  \\\\\\n1206580   BankTransfer       6.5625                  3      6.558594   \\n\\n         days_since_first_order  order_date_day_of_week  order_date_day  \\\\\\n1206580                    1259                       1               3   \\n\\n         order_date_month  order_date_year  \\n1206580                 1             2023  ' with schema '['country_code': string (required), 'mobile_verified': boolean (required), 'num_orders_last_50days': integer (required), 'num_cancelled_orders_last_50days': integer (required), 'num_refund_orders_last_50days': integer (required), 'total_payment_last_50days': float (required), 'num_associated_customers': integer (required), 'collect_type': string (required), 'payment_method': string (required), 'order_value': float (required), 'num_items_ordered': integer (required), 'refund_value': float (required), 'days_since_first_order': long (required), 'order_date_day_of_week': integer (required), 'order_date_day': integer (required), 'order_date_month': integer (required), 'order_date_year': integer (required)]'. Error: Incompatible input types for column country_code. Can not safely convert category to <U0.\"). To see the full traceback, set the logging level to DEBUG via `logging.getLogger(\"mlflow\").setLevel(logging.DEBUG)`.\n"
     ]
    },
    {
     "name": "stdout",
     "output_type": "stream",
     "text": [
      "Completed run: LO_MinMax_Enc_20250208_0042\n",
      "🏃 View run LO_MinMax_Enc_20250208_0042 at: https://dagshub.com/REHXZ/PAI_CA2.mlflow/#/experiments/7/runs/7bd2942dfce8477ab19c81d0d9ba206f\n",
      "🧪 View experiment at: https://dagshub.com/REHXZ/PAI_CA2.mlflow/#/experiments/7\n",
      "Starting run: RA_MinMax_Enc_20250208_0044\n"
     ]
    },
    {
     "name": "stderr",
     "output_type": "stream",
     "text": [
      "2025/02/08 00:51:14 WARNING mlflow.models.signature: Failed to infer the model signature from the input example. Reason: MlflowException(\"Failed to enforce schema of data '        country_code  mobile_verified  num_orders_last_50days  \\\\\\n1206580           MY             True                     205   \\n\\n         num_cancelled_orders_last_50days  num_refund_orders_last_50days  \\\\\\n1206580                                 7                             10   \\n\\n         total_payment_last_50days  num_associated_customers collect_type  \\\\\\n1206580                1875.998413                         2     delivery   \\n\\n        payment_method  order_value  num_items_ordered  refund_value  \\\\\\n1206580   BankTransfer       6.5625                  3      6.558594   \\n\\n         days_since_first_order  order_date_day_of_week  order_date_day  \\\\\\n1206580                    1259                       1               3   \\n\\n         order_date_month  order_date_year  \\n1206580                 1             2023  ' with schema '['country_code': string (required), 'mobile_verified': boolean (required), 'num_orders_last_50days': integer (required), 'num_cancelled_orders_last_50days': integer (required), 'num_refund_orders_last_50days': integer (required), 'total_payment_last_50days': float (required), 'num_associated_customers': integer (required), 'collect_type': string (required), 'payment_method': string (required), 'order_value': float (required), 'num_items_ordered': integer (required), 'refund_value': float (required), 'days_since_first_order': long (required), 'order_date_day_of_week': integer (required), 'order_date_day': integer (required), 'order_date_month': integer (required), 'order_date_year': integer (required)]'. Error: Incompatible input types for column country_code. Can not safely convert category to <U0.\"). To see the full traceback, set the logging level to DEBUG via `logging.getLogger(\"mlflow\").setLevel(logging.DEBUG)`.\n"
     ]
    },
    {
     "name": "stdout",
     "output_type": "stream",
     "text": [
      "Completed run: RA_MinMax_Enc_20250208_0044\n",
      "🏃 View run RA_MinMax_Enc_20250208_0044 at: https://dagshub.com/REHXZ/PAI_CA2.mlflow/#/experiments/7/runs/79332447eaad4e3fbbc2a438791b8a3a\n",
      "🧪 View experiment at: https://dagshub.com/REHXZ/PAI_CA2.mlflow/#/experiments/7\n",
      "Starting run: LI_MinMax_Enc_20250208_0107\n",
      "[LightGBM] [Info] Number of positive: 199486, number of negative: 1611458\n",
      "[LightGBM] [Info] Auto-choosing row-wise multi-threading, the overhead of testing was 0.061349 seconds.\n",
      "You can set `force_row_wise=true` to remove the overhead.\n",
      "And if memory is not enough, you can set `force_col_wise=true`.\n",
      "[LightGBM] [Info] Total Bins 1715\n",
      "[LightGBM] [Info] Number of data points in the train set: 1810944, number of used features: 26\n",
      "[LightGBM] [Info] [binary:BoostFromScore]: pavg=0.110156 -> initscore=-2.089151\n",
      "[LightGBM] [Info] Start training from score -2.089151\n"
     ]
    },
    {
     "name": "stderr",
     "output_type": "stream",
     "text": [
      "2025/02/08 01:08:02 WARNING mlflow.models.signature: Failed to infer the model signature from the input example. Reason: MlflowException(\"Failed to enforce schema of data '        country_code  mobile_verified  num_orders_last_50days  \\\\\\n1206580           MY             True                     205   \\n\\n         num_cancelled_orders_last_50days  num_refund_orders_last_50days  \\\\\\n1206580                                 7                             10   \\n\\n         total_payment_last_50days  num_associated_customers collect_type  \\\\\\n1206580                1875.998413                         2     delivery   \\n\\n        payment_method  order_value  num_items_ordered  refund_value  \\\\\\n1206580   BankTransfer       6.5625                  3      6.558594   \\n\\n         days_since_first_order  order_date_day_of_week  order_date_day  \\\\\\n1206580                    1259                       1               3   \\n\\n         order_date_month  order_date_year  \\n1206580                 1             2023  ' with schema '['country_code': string (required), 'mobile_verified': boolean (required), 'num_orders_last_50days': integer (required), 'num_cancelled_orders_last_50days': integer (required), 'num_refund_orders_last_50days': integer (required), 'total_payment_last_50days': float (required), 'num_associated_customers': integer (required), 'collect_type': string (required), 'payment_method': string (required), 'order_value': float (required), 'num_items_ordered': integer (required), 'refund_value': float (required), 'days_since_first_order': long (required), 'order_date_day_of_week': integer (required), 'order_date_day': integer (required), 'order_date_month': integer (required), 'order_date_year': integer (required)]'. Error: Incompatible input types for column country_code. Can not safely convert category to <U0.\"). To see the full traceback, set the logging level to DEBUG via `logging.getLogger(\"mlflow\").setLevel(logging.DEBUG)`.\n"
     ]
    },
    {
     "name": "stdout",
     "output_type": "stream",
     "text": [
      "Completed run: LI_MinMax_Enc_20250208_0107\n",
      "🏃 View run LI_MinMax_Enc_20250208_0107 at: https://dagshub.com/REHXZ/PAI_CA2.mlflow/#/experiments/7/runs/33fd37cd81d44d18b13034edfc552d8d\n",
      "🧪 View experiment at: https://dagshub.com/REHXZ/PAI_CA2.mlflow/#/experiments/7\n",
      "Starting run: GA_MinMax_Enc_20250208_0109\n"
     ]
    },
    {
     "name": "stderr",
     "output_type": "stream",
     "text": [
      "2025/02/08 01:09:42 WARNING mlflow.models.signature: Failed to infer the model signature from the input example. Reason: MlflowException(\"Failed to enforce schema of data '        country_code  mobile_verified  num_orders_last_50days  \\\\\\n1206580           MY             True                     205   \\n\\n         num_cancelled_orders_last_50days  num_refund_orders_last_50days  \\\\\\n1206580                                 7                             10   \\n\\n         total_payment_last_50days  num_associated_customers collect_type  \\\\\\n1206580                1875.998413                         2     delivery   \\n\\n        payment_method  order_value  num_items_ordered  refund_value  \\\\\\n1206580   BankTransfer       6.5625                  3      6.558594   \\n\\n         days_since_first_order  order_date_day_of_week  order_date_day  \\\\\\n1206580                    1259                       1               3   \\n\\n         order_date_month  order_date_year  \\n1206580                 1             2023  ' with schema '['country_code': string (required), 'mobile_verified': boolean (required), 'num_orders_last_50days': integer (required), 'num_cancelled_orders_last_50days': integer (required), 'num_refund_orders_last_50days': integer (required), 'total_payment_last_50days': float (required), 'num_associated_customers': integer (required), 'collect_type': string (required), 'payment_method': string (required), 'order_value': float (required), 'num_items_ordered': integer (required), 'refund_value': float (required), 'days_since_first_order': long (required), 'order_date_day_of_week': integer (required), 'order_date_day': integer (required), 'order_date_month': integer (required), 'order_date_year': integer (required)]'. Error: Incompatible input types for column country_code. Can not safely convert category to <U0.\"). To see the full traceback, set the logging level to DEBUG via `logging.getLogger(\"mlflow\").setLevel(logging.DEBUG)`.\n"
     ]
    },
    {
     "name": "stdout",
     "output_type": "stream",
     "text": [
      "Completed run: GA_MinMax_Enc_20250208_0109\n",
      "🏃 View run GA_MinMax_Enc_20250208_0109 at: https://dagshub.com/REHXZ/PAI_CA2.mlflow/#/experiments/7/runs/ba2cf35c3fcd4f0e99a5a7bb40977d30\n",
      "🧪 View experiment at: https://dagshub.com/REHXZ/PAI_CA2.mlflow/#/experiments/7\n",
      "Starting run: DE_MinMax_Enc_20250208_0110\n"
     ]
    },
    {
     "name": "stderr",
     "output_type": "stream",
     "text": [
      "2025/02/08 01:10:46 WARNING mlflow.models.signature: Failed to infer the model signature from the input example. Reason: MlflowException(\"Failed to enforce schema of data '        country_code  mobile_verified  num_orders_last_50days  \\\\\\n1206580           MY             True                     205   \\n\\n         num_cancelled_orders_last_50days  num_refund_orders_last_50days  \\\\\\n1206580                                 7                             10   \\n\\n         total_payment_last_50days  num_associated_customers collect_type  \\\\\\n1206580                1875.998413                         2     delivery   \\n\\n        payment_method  order_value  num_items_ordered  refund_value  \\\\\\n1206580   BankTransfer       6.5625                  3      6.558594   \\n\\n         days_since_first_order  order_date_day_of_week  order_date_day  \\\\\\n1206580                    1259                       1               3   \\n\\n         order_date_month  order_date_year  \\n1206580                 1             2023  ' with schema '['country_code': string (required), 'mobile_verified': boolean (required), 'num_orders_last_50days': integer (required), 'num_cancelled_orders_last_50days': integer (required), 'num_refund_orders_last_50days': integer (required), 'total_payment_last_50days': float (required), 'num_associated_customers': integer (required), 'collect_type': string (required), 'payment_method': string (required), 'order_value': float (required), 'num_items_ordered': integer (required), 'refund_value': float (required), 'days_since_first_order': long (required), 'order_date_day_of_week': integer (required), 'order_date_day': integer (required), 'order_date_month': integer (required), 'order_date_year': integer (required)]'. Error: Incompatible input types for column country_code. Can not safely convert category to <U0.\"). To see the full traceback, set the logging level to DEBUG via `logging.getLogger(\"mlflow\").setLevel(logging.DEBUG)`.\n"
     ]
    },
    {
     "name": "stdout",
     "output_type": "stream",
     "text": [
      "Completed run: DE_MinMax_Enc_20250208_0110\n",
      "🏃 View run DE_MinMax_Enc_20250208_0110 at: https://dagshub.com/REHXZ/PAI_CA2.mlflow/#/experiments/7/runs/e3267cb445744a11be58e270020825c0\n",
      "🧪 View experiment at: https://dagshub.com/REHXZ/PAI_CA2.mlflow/#/experiments/7\n",
      "Starting run: GR_MinMax_Enc_20250208_0111\n"
     ]
    },
    {
     "name": "stderr",
     "output_type": "stream",
     "text": [
      "2025/02/08 01:21:17 WARNING mlflow.models.signature: Failed to infer the model signature from the input example. Reason: MlflowException(\"Failed to enforce schema of data '        country_code  mobile_verified  num_orders_last_50days  \\\\\\n1206580           MY             True                     205   \\n\\n         num_cancelled_orders_last_50days  num_refund_orders_last_50days  \\\\\\n1206580                                 7                             10   \\n\\n         total_payment_last_50days  num_associated_customers collect_type  \\\\\\n1206580                1875.998413                         2     delivery   \\n\\n        payment_method  order_value  num_items_ordered  refund_value  \\\\\\n1206580   BankTransfer       6.5625                  3      6.558594   \\n\\n         days_since_first_order  order_date_day_of_week  order_date_day  \\\\\\n1206580                    1259                       1               3   \\n\\n         order_date_month  order_date_year  \\n1206580                 1             2023  ' with schema '['country_code': string (required), 'mobile_verified': boolean (required), 'num_orders_last_50days': integer (required), 'num_cancelled_orders_last_50days': integer (required), 'num_refund_orders_last_50days': integer (required), 'total_payment_last_50days': float (required), 'num_associated_customers': integer (required), 'collect_type': string (required), 'payment_method': string (required), 'order_value': float (required), 'num_items_ordered': integer (required), 'refund_value': float (required), 'days_since_first_order': long (required), 'order_date_day_of_week': integer (required), 'order_date_day': integer (required), 'order_date_month': integer (required), 'order_date_year': integer (required)]'. Error: Incompatible input types for column country_code. Can not safely convert category to <U0.\"). To see the full traceback, set the logging level to DEBUG via `logging.getLogger(\"mlflow\").setLevel(logging.DEBUG)`.\n"
     ]
    },
    {
     "name": "stdout",
     "output_type": "stream",
     "text": [
      "Completed run: GR_MinMax_Enc_20250208_0111\n",
      "🏃 View run GR_MinMax_Enc_20250208_0111 at: https://dagshub.com/REHXZ/PAI_CA2.mlflow/#/experiments/7/runs/32c2f899aff04b11932b75b4e4ca683f\n",
      "🧪 View experiment at: https://dagshub.com/REHXZ/PAI_CA2.mlflow/#/experiments/7\n",
      "Starting run: LO_MinMax_NoEnc_20250208_0147\n"
     ]
    },
    {
     "name": "stderr",
     "output_type": "stream",
     "text": [
      "2025/02/08 01:47:33 WARNING mlflow.models.signature: Failed to infer the model signature from the input example. Reason: MlflowException(\"Failed to enforce schema of data '        country_code  mobile_verified  num_orders_last_50days  \\\\\\n1206580           MY             True                     205   \\n\\n         num_cancelled_orders_last_50days  num_refund_orders_last_50days  \\\\\\n1206580                                 7                             10   \\n\\n         total_payment_last_50days  num_associated_customers collect_type  \\\\\\n1206580                1875.998413                         2     delivery   \\n\\n        payment_method  order_value  num_items_ordered  refund_value  \\\\\\n1206580   BankTransfer       6.5625                  3      6.558594   \\n\\n         days_since_first_order  order_date_day_of_week  order_date_day  \\\\\\n1206580                    1259                       1               3   \\n\\n         order_date_month  order_date_year  \\n1206580                 1             2023  ' with schema '['country_code': string (required), 'mobile_verified': boolean (required), 'num_orders_last_50days': integer (required), 'num_cancelled_orders_last_50days': integer (required), 'num_refund_orders_last_50days': integer (required), 'total_payment_last_50days': float (required), 'num_associated_customers': integer (required), 'collect_type': string (required), 'payment_method': string (required), 'order_value': float (required), 'num_items_ordered': integer (required), 'refund_value': float (required), 'days_since_first_order': long (required), 'order_date_day_of_week': integer (required), 'order_date_day': integer (required), 'order_date_month': integer (required), 'order_date_year': integer (required)]'. Error: Incompatible input types for column country_code. Can not safely convert category to <U0.\"). To see the full traceback, set the logging level to DEBUG via `logging.getLogger(\"mlflow\").setLevel(logging.DEBUG)`.\n"
     ]
    },
    {
     "name": "stdout",
     "output_type": "stream",
     "text": [
      "Completed run: LO_MinMax_NoEnc_20250208_0147\n",
      "🏃 View run LO_MinMax_NoEnc_20250208_0147 at: https://dagshub.com/REHXZ/PAI_CA2.mlflow/#/experiments/7/runs/4082f3f7635642d1a6c9a1b71109565e\n",
      "🧪 View experiment at: https://dagshub.com/REHXZ/PAI_CA2.mlflow/#/experiments/7\n",
      "Starting run: RA_MinMax_NoEnc_20250208_0148\n"
     ]
    },
    {
     "name": "stderr",
     "output_type": "stream",
     "text": [
      "2025/02/08 01:55:19 WARNING mlflow.models.signature: Failed to infer the model signature from the input example. Reason: MlflowException(\"Failed to enforce schema of data '        country_code  mobile_verified  num_orders_last_50days  \\\\\\n1206580           MY             True                     205   \\n\\n         num_cancelled_orders_last_50days  num_refund_orders_last_50days  \\\\\\n1206580                                 7                             10   \\n\\n         total_payment_last_50days  num_associated_customers collect_type  \\\\\\n1206580                1875.998413                         2     delivery   \\n\\n        payment_method  order_value  num_items_ordered  refund_value  \\\\\\n1206580   BankTransfer       6.5625                  3      6.558594   \\n\\n         days_since_first_order  order_date_day_of_week  order_date_day  \\\\\\n1206580                    1259                       1               3   \\n\\n         order_date_month  order_date_year  \\n1206580                 1             2023  ' with schema '['country_code': string (required), 'mobile_verified': boolean (required), 'num_orders_last_50days': integer (required), 'num_cancelled_orders_last_50days': integer (required), 'num_refund_orders_last_50days': integer (required), 'total_payment_last_50days': float (required), 'num_associated_customers': integer (required), 'collect_type': string (required), 'payment_method': string (required), 'order_value': float (required), 'num_items_ordered': integer (required), 'refund_value': float (required), 'days_since_first_order': long (required), 'order_date_day_of_week': integer (required), 'order_date_day': integer (required), 'order_date_month': integer (required), 'order_date_year': integer (required)]'. Error: Incompatible input types for column country_code. Can not safely convert category to <U0.\"). To see the full traceback, set the logging level to DEBUG via `logging.getLogger(\"mlflow\").setLevel(logging.DEBUG)`.\n"
     ]
    },
    {
     "name": "stdout",
     "output_type": "stream",
     "text": [
      "Completed run: RA_MinMax_NoEnc_20250208_0148\n",
      "🏃 View run RA_MinMax_NoEnc_20250208_0148 at: https://dagshub.com/REHXZ/PAI_CA2.mlflow/#/experiments/7/runs/7ace0e2a6dc345c3becf46fed315e43a\n",
      "🧪 View experiment at: https://dagshub.com/REHXZ/PAI_CA2.mlflow/#/experiments/7\n",
      "Starting run: LI_MinMax_NoEnc_20250208_0210\n",
      "[LightGBM] [Info] Number of positive: 199486, number of negative: 1611458\n",
      "[LightGBM] [Info] Auto-choosing row-wise multi-threading, the overhead of testing was 0.061202 seconds.\n",
      "You can set `force_row_wise=true` to remove the overhead.\n",
      "And if memory is not enough, you can set `force_col_wise=true`.\n",
      "[LightGBM] [Info] Total Bins 1691\n",
      "[LightGBM] [Info] Number of data points in the train set: 1810944, number of used features: 14\n",
      "[LightGBM] [Info] [binary:BoostFromScore]: pavg=0.110156 -> initscore=-2.089151\n",
      "[LightGBM] [Info] Start training from score -2.089151\n"
     ]
    },
    {
     "name": "stderr",
     "output_type": "stream",
     "text": [
      "2025/02/08 02:10:36 WARNING mlflow.models.signature: Failed to infer the model signature from the input example. Reason: MlflowException(\"Failed to enforce schema of data '        country_code  mobile_verified  num_orders_last_50days  \\\\\\n1206580           MY             True                     205   \\n\\n         num_cancelled_orders_last_50days  num_refund_orders_last_50days  \\\\\\n1206580                                 7                             10   \\n\\n         total_payment_last_50days  num_associated_customers collect_type  \\\\\\n1206580                1875.998413                         2     delivery   \\n\\n        payment_method  order_value  num_items_ordered  refund_value  \\\\\\n1206580   BankTransfer       6.5625                  3      6.558594   \\n\\n         days_since_first_order  order_date_day_of_week  order_date_day  \\\\\\n1206580                    1259                       1               3   \\n\\n         order_date_month  order_date_year  \\n1206580                 1             2023  ' with schema '['country_code': string (required), 'mobile_verified': boolean (required), 'num_orders_last_50days': integer (required), 'num_cancelled_orders_last_50days': integer (required), 'num_refund_orders_last_50days': integer (required), 'total_payment_last_50days': float (required), 'num_associated_customers': integer (required), 'collect_type': string (required), 'payment_method': string (required), 'order_value': float (required), 'num_items_ordered': integer (required), 'refund_value': float (required), 'days_since_first_order': long (required), 'order_date_day_of_week': integer (required), 'order_date_day': integer (required), 'order_date_month': integer (required), 'order_date_year': integer (required)]'. Error: Incompatible input types for column country_code. Can not safely convert category to <U0.\"). To see the full traceback, set the logging level to DEBUG via `logging.getLogger(\"mlflow\").setLevel(logging.DEBUG)`.\n"
     ]
    },
    {
     "name": "stdout",
     "output_type": "stream",
     "text": [
      "Completed run: LI_MinMax_NoEnc_20250208_0210\n",
      "🏃 View run LI_MinMax_NoEnc_20250208_0210 at: https://dagshub.com/REHXZ/PAI_CA2.mlflow/#/experiments/7/runs/4d51deadc5484cb2ba5a456c9a5e6df2\n",
      "🧪 View experiment at: https://dagshub.com/REHXZ/PAI_CA2.mlflow/#/experiments/7\n",
      "Starting run: GA_MinMax_NoEnc_20250208_0211\n"
     ]
    },
    {
     "name": "stderr",
     "output_type": "stream",
     "text": [
      "2025/02/08 02:11:56 WARNING mlflow.models.signature: Failed to infer the model signature from the input example. Reason: MlflowException(\"Failed to enforce schema of data '        country_code  mobile_verified  num_orders_last_50days  \\\\\\n1206580           MY             True                     205   \\n\\n         num_cancelled_orders_last_50days  num_refund_orders_last_50days  \\\\\\n1206580                                 7                             10   \\n\\n         total_payment_last_50days  num_associated_customers collect_type  \\\\\\n1206580                1875.998413                         2     delivery   \\n\\n        payment_method  order_value  num_items_ordered  refund_value  \\\\\\n1206580   BankTransfer       6.5625                  3      6.558594   \\n\\n         days_since_first_order  order_date_day_of_week  order_date_day  \\\\\\n1206580                    1259                       1               3   \\n\\n         order_date_month  order_date_year  \\n1206580                 1             2023  ' with schema '['country_code': string (required), 'mobile_verified': boolean (required), 'num_orders_last_50days': integer (required), 'num_cancelled_orders_last_50days': integer (required), 'num_refund_orders_last_50days': integer (required), 'total_payment_last_50days': float (required), 'num_associated_customers': integer (required), 'collect_type': string (required), 'payment_method': string (required), 'order_value': float (required), 'num_items_ordered': integer (required), 'refund_value': float (required), 'days_since_first_order': long (required), 'order_date_day_of_week': integer (required), 'order_date_day': integer (required), 'order_date_month': integer (required), 'order_date_year': integer (required)]'. Error: Incompatible input types for column country_code. Can not safely convert category to <U0.\"). To see the full traceback, set the logging level to DEBUG via `logging.getLogger(\"mlflow\").setLevel(logging.DEBUG)`.\n"
     ]
    },
    {
     "name": "stdout",
     "output_type": "stream",
     "text": [
      "Completed run: GA_MinMax_NoEnc_20250208_0211\n",
      "🏃 View run GA_MinMax_NoEnc_20250208_0211 at: https://dagshub.com/REHXZ/PAI_CA2.mlflow/#/experiments/7/runs/b568098587bc4176adcf89de6299a3af\n",
      "🧪 View experiment at: https://dagshub.com/REHXZ/PAI_CA2.mlflow/#/experiments/7\n",
      "Starting run: DE_MinMax_NoEnc_20250208_0212\n"
     ]
    },
    {
     "name": "stderr",
     "output_type": "stream",
     "text": [
      "2025/02/08 02:12:42 WARNING mlflow.models.signature: Failed to infer the model signature from the input example. Reason: MlflowException(\"Failed to enforce schema of data '        country_code  mobile_verified  num_orders_last_50days  \\\\\\n1206580           MY             True                     205   \\n\\n         num_cancelled_orders_last_50days  num_refund_orders_last_50days  \\\\\\n1206580                                 7                             10   \\n\\n         total_payment_last_50days  num_associated_customers collect_type  \\\\\\n1206580                1875.998413                         2     delivery   \\n\\n        payment_method  order_value  num_items_ordered  refund_value  \\\\\\n1206580   BankTransfer       6.5625                  3      6.558594   \\n\\n         days_since_first_order  order_date_day_of_week  order_date_day  \\\\\\n1206580                    1259                       1               3   \\n\\n         order_date_month  order_date_year  \\n1206580                 1             2023  ' with schema '['country_code': string (required), 'mobile_verified': boolean (required), 'num_orders_last_50days': integer (required), 'num_cancelled_orders_last_50days': integer (required), 'num_refund_orders_last_50days': integer (required), 'total_payment_last_50days': float (required), 'num_associated_customers': integer (required), 'collect_type': string (required), 'payment_method': string (required), 'order_value': float (required), 'num_items_ordered': integer (required), 'refund_value': float (required), 'days_since_first_order': long (required), 'order_date_day_of_week': integer (required), 'order_date_day': integer (required), 'order_date_month': integer (required), 'order_date_year': integer (required)]'. Error: Incompatible input types for column country_code. Can not safely convert category to <U0.\"). To see the full traceback, set the logging level to DEBUG via `logging.getLogger(\"mlflow\").setLevel(logging.DEBUG)`.\n"
     ]
    },
    {
     "name": "stdout",
     "output_type": "stream",
     "text": [
      "Completed run: DE_MinMax_NoEnc_20250208_0212\n",
      "🏃 View run DE_MinMax_NoEnc_20250208_0212 at: https://dagshub.com/REHXZ/PAI_CA2.mlflow/#/experiments/7/runs/923b29b4a9014b2e8907f1abc89c9001\n",
      "🧪 View experiment at: https://dagshub.com/REHXZ/PAI_CA2.mlflow/#/experiments/7\n",
      "Starting run: GR_MinMax_NoEnc_20250208_0213\n"
     ]
    },
    {
     "name": "stderr",
     "output_type": "stream",
     "text": [
      "2025/02/08 02:20:34 WARNING mlflow.models.signature: Failed to infer the model signature from the input example. Reason: MlflowException(\"Failed to enforce schema of data '        country_code  mobile_verified  num_orders_last_50days  \\\\\\n1206580           MY             True                     205   \\n\\n         num_cancelled_orders_last_50days  num_refund_orders_last_50days  \\\\\\n1206580                                 7                             10   \\n\\n         total_payment_last_50days  num_associated_customers collect_type  \\\\\\n1206580                1875.998413                         2     delivery   \\n\\n        payment_method  order_value  num_items_ordered  refund_value  \\\\\\n1206580   BankTransfer       6.5625                  3      6.558594   \\n\\n         days_since_first_order  order_date_day_of_week  order_date_day  \\\\\\n1206580                    1259                       1               3   \\n\\n         order_date_month  order_date_year  \\n1206580                 1             2023  ' with schema '['country_code': string (required), 'mobile_verified': boolean (required), 'num_orders_last_50days': integer (required), 'num_cancelled_orders_last_50days': integer (required), 'num_refund_orders_last_50days': integer (required), 'total_payment_last_50days': float (required), 'num_associated_customers': integer (required), 'collect_type': string (required), 'payment_method': string (required), 'order_value': float (required), 'num_items_ordered': integer (required), 'refund_value': float (required), 'days_since_first_order': long (required), 'order_date_day_of_week': integer (required), 'order_date_day': integer (required), 'order_date_month': integer (required), 'order_date_year': integer (required)]'. Error: Incompatible input types for column country_code. Can not safely convert category to <U0.\"). To see the full traceback, set the logging level to DEBUG via `logging.getLogger(\"mlflow\").setLevel(logging.DEBUG)`.\n"
     ]
    },
    {
     "name": "stdout",
     "output_type": "stream",
     "text": [
      "Completed run: GR_MinMax_NoEnc_20250208_0213\n",
      "🏃 View run GR_MinMax_NoEnc_20250208_0213 at: https://dagshub.com/REHXZ/PAI_CA2.mlflow/#/experiments/7/runs/c6279af3d0124d89b5aee61dbcd0f897\n",
      "🧪 View experiment at: https://dagshub.com/REHXZ/PAI_CA2.mlflow/#/experiments/7\n",
      "Starting run: LO_Robust_Enc_20250208_0237\n"
     ]
    },
    {
     "name": "stderr",
     "output_type": "stream",
     "text": [
      "2025/02/08 02:37:34 WARNING mlflow.models.signature: Failed to infer the model signature from the input example. Reason: MlflowException(\"Failed to enforce schema of data '        country_code  mobile_verified  num_orders_last_50days  \\\\\\n1206580           MY             True                     205   \\n\\n         num_cancelled_orders_last_50days  num_refund_orders_last_50days  \\\\\\n1206580                                 7                             10   \\n\\n         total_payment_last_50days  num_associated_customers collect_type  \\\\\\n1206580                1875.998413                         2     delivery   \\n\\n        payment_method  order_value  num_items_ordered  refund_value  \\\\\\n1206580   BankTransfer       6.5625                  3      6.558594   \\n\\n         days_since_first_order  order_date_day_of_week  order_date_day  \\\\\\n1206580                    1259                       1               3   \\n\\n         order_date_month  order_date_year  \\n1206580                 1             2023  ' with schema '['country_code': string (required), 'mobile_verified': boolean (required), 'num_orders_last_50days': integer (required), 'num_cancelled_orders_last_50days': integer (required), 'num_refund_orders_last_50days': integer (required), 'total_payment_last_50days': float (required), 'num_associated_customers': integer (required), 'collect_type': string (required), 'payment_method': string (required), 'order_value': float (required), 'num_items_ordered': integer (required), 'refund_value': float (required), 'days_since_first_order': long (required), 'order_date_day_of_week': integer (required), 'order_date_day': integer (required), 'order_date_month': integer (required), 'order_date_year': integer (required)]'. Error: Incompatible input types for column country_code. Can not safely convert category to <U0.\"). To see the full traceback, set the logging level to DEBUG via `logging.getLogger(\"mlflow\").setLevel(logging.DEBUG)`.\n"
     ]
    },
    {
     "name": "stdout",
     "output_type": "stream",
     "text": [
      "Completed run: LO_Robust_Enc_20250208_0237\n",
      "🏃 View run LO_Robust_Enc_20250208_0237 at: https://dagshub.com/REHXZ/PAI_CA2.mlflow/#/experiments/7/runs/ca4091e1a7524d9aa8e21680dcaf6541\n",
      "🧪 View experiment at: https://dagshub.com/REHXZ/PAI_CA2.mlflow/#/experiments/7\n",
      "Starting run: RA_Robust_Enc_20250208_0239\n"
     ]
    },
    {
     "name": "stderr",
     "output_type": "stream",
     "text": [
      "2025/02/08 02:46:09 WARNING mlflow.models.signature: Failed to infer the model signature from the input example. Reason: MlflowException(\"Failed to enforce schema of data '        country_code  mobile_verified  num_orders_last_50days  \\\\\\n1206580           MY             True                     205   \\n\\n         num_cancelled_orders_last_50days  num_refund_orders_last_50days  \\\\\\n1206580                                 7                             10   \\n\\n         total_payment_last_50days  num_associated_customers collect_type  \\\\\\n1206580                1875.998413                         2     delivery   \\n\\n        payment_method  order_value  num_items_ordered  refund_value  \\\\\\n1206580   BankTransfer       6.5625                  3      6.558594   \\n\\n         days_since_first_order  order_date_day_of_week  order_date_day  \\\\\\n1206580                    1259                       1               3   \\n\\n         order_date_month  order_date_year  \\n1206580                 1             2023  ' with schema '['country_code': string (required), 'mobile_verified': boolean (required), 'num_orders_last_50days': integer (required), 'num_cancelled_orders_last_50days': integer (required), 'num_refund_orders_last_50days': integer (required), 'total_payment_last_50days': float (required), 'num_associated_customers': integer (required), 'collect_type': string (required), 'payment_method': string (required), 'order_value': float (required), 'num_items_ordered': integer (required), 'refund_value': float (required), 'days_since_first_order': long (required), 'order_date_day_of_week': integer (required), 'order_date_day': integer (required), 'order_date_month': integer (required), 'order_date_year': integer (required)]'. Error: Incompatible input types for column country_code. Can not safely convert category to <U0.\"). To see the full traceback, set the logging level to DEBUG via `logging.getLogger(\"mlflow\").setLevel(logging.DEBUG)`.\n"
     ]
    },
    {
     "name": "stdout",
     "output_type": "stream",
     "text": [
      "Completed run: RA_Robust_Enc_20250208_0239\n",
      "🏃 View run RA_Robust_Enc_20250208_0239 at: https://dagshub.com/REHXZ/PAI_CA2.mlflow/#/experiments/7/runs/e5cd2fc9fa464d3ea672ff1828e18a3f\n",
      "🧪 View experiment at: https://dagshub.com/REHXZ/PAI_CA2.mlflow/#/experiments/7\n",
      "Starting run: LI_Robust_Enc_20250208_0302\n",
      "[LightGBM] [Info] Number of positive: 199486, number of negative: 1611458\n",
      "[LightGBM] [Info] Auto-choosing row-wise multi-threading, the overhead of testing was 0.064115 seconds.\n",
      "You can set `force_row_wise=true` to remove the overhead.\n",
      "And if memory is not enough, you can set `force_col_wise=true`.\n",
      "[LightGBM] [Info] Total Bins 1715\n",
      "[LightGBM] [Info] Number of data points in the train set: 1810944, number of used features: 26\n",
      "[LightGBM] [Info] [binary:BoostFromScore]: pavg=0.110156 -> initscore=-2.089151\n",
      "[LightGBM] [Info] Start training from score -2.089151\n"
     ]
    },
    {
     "name": "stderr",
     "output_type": "stream",
     "text": [
      "2025/02/08 03:02:17 WARNING mlflow.models.signature: Failed to infer the model signature from the input example. Reason: MlflowException(\"Failed to enforce schema of data '        country_code  mobile_verified  num_orders_last_50days  \\\\\\n1206580           MY             True                     205   \\n\\n         num_cancelled_orders_last_50days  num_refund_orders_last_50days  \\\\\\n1206580                                 7                             10   \\n\\n         total_payment_last_50days  num_associated_customers collect_type  \\\\\\n1206580                1875.998413                         2     delivery   \\n\\n        payment_method  order_value  num_items_ordered  refund_value  \\\\\\n1206580   BankTransfer       6.5625                  3      6.558594   \\n\\n         days_since_first_order  order_date_day_of_week  order_date_day  \\\\\\n1206580                    1259                       1               3   \\n\\n         order_date_month  order_date_year  \\n1206580                 1             2023  ' with schema '['country_code': string (required), 'mobile_verified': boolean (required), 'num_orders_last_50days': integer (required), 'num_cancelled_orders_last_50days': integer (required), 'num_refund_orders_last_50days': integer (required), 'total_payment_last_50days': float (required), 'num_associated_customers': integer (required), 'collect_type': string (required), 'payment_method': string (required), 'order_value': float (required), 'num_items_ordered': integer (required), 'refund_value': float (required), 'days_since_first_order': long (required), 'order_date_day_of_week': integer (required), 'order_date_day': integer (required), 'order_date_month': integer (required), 'order_date_year': integer (required)]'. Error: Incompatible input types for column country_code. Can not safely convert category to <U0.\"). To see the full traceback, set the logging level to DEBUG via `logging.getLogger(\"mlflow\").setLevel(logging.DEBUG)`.\n"
     ]
    },
    {
     "name": "stdout",
     "output_type": "stream",
     "text": [
      "Completed run: LI_Robust_Enc_20250208_0302\n",
      "🏃 View run LI_Robust_Enc_20250208_0302 at: https://dagshub.com/REHXZ/PAI_CA2.mlflow/#/experiments/7/runs/216b9cabc727492fa3a044db9de3d185\n",
      "🧪 View experiment at: https://dagshub.com/REHXZ/PAI_CA2.mlflow/#/experiments/7\n",
      "Starting run: GA_Robust_Enc_20250208_0303\n"
     ]
    },
    {
     "name": "stderr",
     "output_type": "stream",
     "text": [
      "2025/02/08 03:03:57 WARNING mlflow.models.signature: Failed to infer the model signature from the input example. Reason: MlflowException(\"Failed to enforce schema of data '        country_code  mobile_verified  num_orders_last_50days  \\\\\\n1206580           MY             True                     205   \\n\\n         num_cancelled_orders_last_50days  num_refund_orders_last_50days  \\\\\\n1206580                                 7                             10   \\n\\n         total_payment_last_50days  num_associated_customers collect_type  \\\\\\n1206580                1875.998413                         2     delivery   \\n\\n        payment_method  order_value  num_items_ordered  refund_value  \\\\\\n1206580   BankTransfer       6.5625                  3      6.558594   \\n\\n         days_since_first_order  order_date_day_of_week  order_date_day  \\\\\\n1206580                    1259                       1               3   \\n\\n         order_date_month  order_date_year  \\n1206580                 1             2023  ' with schema '['country_code': string (required), 'mobile_verified': boolean (required), 'num_orders_last_50days': integer (required), 'num_cancelled_orders_last_50days': integer (required), 'num_refund_orders_last_50days': integer (required), 'total_payment_last_50days': float (required), 'num_associated_customers': integer (required), 'collect_type': string (required), 'payment_method': string (required), 'order_value': float (required), 'num_items_ordered': integer (required), 'refund_value': float (required), 'days_since_first_order': long (required), 'order_date_day_of_week': integer (required), 'order_date_day': integer (required), 'order_date_month': integer (required), 'order_date_year': integer (required)]'. Error: Incompatible input types for column country_code. Can not safely convert category to <U0.\"). To see the full traceback, set the logging level to DEBUG via `logging.getLogger(\"mlflow\").setLevel(logging.DEBUG)`.\n"
     ]
    },
    {
     "name": "stdout",
     "output_type": "stream",
     "text": [
      "Completed run: GA_Robust_Enc_20250208_0303\n",
      "🏃 View run GA_Robust_Enc_20250208_0303 at: https://dagshub.com/REHXZ/PAI_CA2.mlflow/#/experiments/7/runs/348990422ed24503b9e4ca3e6f230b83\n",
      "🧪 View experiment at: https://dagshub.com/REHXZ/PAI_CA2.mlflow/#/experiments/7\n",
      "Starting run: DE_Robust_Enc_20250208_0304\n"
     ]
    },
    {
     "name": "stderr",
     "output_type": "stream",
     "text": [
      "2025/02/08 03:05:04 WARNING mlflow.models.signature: Failed to infer the model signature from the input example. Reason: MlflowException(\"Failed to enforce schema of data '        country_code  mobile_verified  num_orders_last_50days  \\\\\\n1206580           MY             True                     205   \\n\\n         num_cancelled_orders_last_50days  num_refund_orders_last_50days  \\\\\\n1206580                                 7                             10   \\n\\n         total_payment_last_50days  num_associated_customers collect_type  \\\\\\n1206580                1875.998413                         2     delivery   \\n\\n        payment_method  order_value  num_items_ordered  refund_value  \\\\\\n1206580   BankTransfer       6.5625                  3      6.558594   \\n\\n         days_since_first_order  order_date_day_of_week  order_date_day  \\\\\\n1206580                    1259                       1               3   \\n\\n         order_date_month  order_date_year  \\n1206580                 1             2023  ' with schema '['country_code': string (required), 'mobile_verified': boolean (required), 'num_orders_last_50days': integer (required), 'num_cancelled_orders_last_50days': integer (required), 'num_refund_orders_last_50days': integer (required), 'total_payment_last_50days': float (required), 'num_associated_customers': integer (required), 'collect_type': string (required), 'payment_method': string (required), 'order_value': float (required), 'num_items_ordered': integer (required), 'refund_value': float (required), 'days_since_first_order': long (required), 'order_date_day_of_week': integer (required), 'order_date_day': integer (required), 'order_date_month': integer (required), 'order_date_year': integer (required)]'. Error: Incompatible input types for column country_code. Can not safely convert category to <U0.\"). To see the full traceback, set the logging level to DEBUG via `logging.getLogger(\"mlflow\").setLevel(logging.DEBUG)`.\n"
     ]
    },
    {
     "name": "stdout",
     "output_type": "stream",
     "text": [
      "Completed run: DE_Robust_Enc_20250208_0304\n",
      "🏃 View run DE_Robust_Enc_20250208_0304 at: https://dagshub.com/REHXZ/PAI_CA2.mlflow/#/experiments/7/runs/d365006601154380b2241016e66782c9\n",
      "🧪 View experiment at: https://dagshub.com/REHXZ/PAI_CA2.mlflow/#/experiments/7\n",
      "Starting run: GR_Robust_Enc_20250208_0306\n"
     ]
    },
    {
     "name": "stderr",
     "output_type": "stream",
     "text": [
      "2025/02/08 03:15:32 WARNING mlflow.models.signature: Failed to infer the model signature from the input example. Reason: MlflowException(\"Failed to enforce schema of data '        country_code  mobile_verified  num_orders_last_50days  \\\\\\n1206580           MY             True                     205   \\n\\n         num_cancelled_orders_last_50days  num_refund_orders_last_50days  \\\\\\n1206580                                 7                             10   \\n\\n         total_payment_last_50days  num_associated_customers collect_type  \\\\\\n1206580                1875.998413                         2     delivery   \\n\\n        payment_method  order_value  num_items_ordered  refund_value  \\\\\\n1206580   BankTransfer       6.5625                  3      6.558594   \\n\\n         days_since_first_order  order_date_day_of_week  order_date_day  \\\\\\n1206580                    1259                       1               3   \\n\\n         order_date_month  order_date_year  \\n1206580                 1             2023  ' with schema '['country_code': string (required), 'mobile_verified': boolean (required), 'num_orders_last_50days': integer (required), 'num_cancelled_orders_last_50days': integer (required), 'num_refund_orders_last_50days': integer (required), 'total_payment_last_50days': float (required), 'num_associated_customers': integer (required), 'collect_type': string (required), 'payment_method': string (required), 'order_value': float (required), 'num_items_ordered': integer (required), 'refund_value': float (required), 'days_since_first_order': long (required), 'order_date_day_of_week': integer (required), 'order_date_day': integer (required), 'order_date_month': integer (required), 'order_date_year': integer (required)]'. Error: Incompatible input types for column country_code. Can not safely convert category to <U0.\"). To see the full traceback, set the logging level to DEBUG via `logging.getLogger(\"mlflow\").setLevel(logging.DEBUG)`.\n"
     ]
    },
    {
     "name": "stdout",
     "output_type": "stream",
     "text": [
      "Completed run: GR_Robust_Enc_20250208_0306\n",
      "🏃 View run GR_Robust_Enc_20250208_0306 at: https://dagshub.com/REHXZ/PAI_CA2.mlflow/#/experiments/7/runs/ed2d154bb2574bfd85c176780816a61d\n",
      "🧪 View experiment at: https://dagshub.com/REHXZ/PAI_CA2.mlflow/#/experiments/7\n",
      "Starting run: LO_Robust_NoEnc_20250208_0340\n"
     ]
    },
    {
     "name": "stderr",
     "output_type": "stream",
     "text": [
      "2025/02/08 03:41:14 WARNING mlflow.models.signature: Failed to infer the model signature from the input example. Reason: MlflowException(\"Failed to enforce schema of data '        country_code  mobile_verified  num_orders_last_50days  \\\\\\n1206580           MY             True                     205   \\n\\n         num_cancelled_orders_last_50days  num_refund_orders_last_50days  \\\\\\n1206580                                 7                             10   \\n\\n         total_payment_last_50days  num_associated_customers collect_type  \\\\\\n1206580                1875.998413                         2     delivery   \\n\\n        payment_method  order_value  num_items_ordered  refund_value  \\\\\\n1206580   BankTransfer       6.5625                  3      6.558594   \\n\\n         days_since_first_order  order_date_day_of_week  order_date_day  \\\\\\n1206580                    1259                       1               3   \\n\\n         order_date_month  order_date_year  \\n1206580                 1             2023  ' with schema '['country_code': string (required), 'mobile_verified': boolean (required), 'num_orders_last_50days': integer (required), 'num_cancelled_orders_last_50days': integer (required), 'num_refund_orders_last_50days': integer (required), 'total_payment_last_50days': float (required), 'num_associated_customers': integer (required), 'collect_type': string (required), 'payment_method': string (required), 'order_value': float (required), 'num_items_ordered': integer (required), 'refund_value': float (required), 'days_since_first_order': long (required), 'order_date_day_of_week': integer (required), 'order_date_day': integer (required), 'order_date_month': integer (required), 'order_date_year': integer (required)]'. Error: Incompatible input types for column country_code. Can not safely convert category to <U0.\"). To see the full traceback, set the logging level to DEBUG via `logging.getLogger(\"mlflow\").setLevel(logging.DEBUG)`.\n"
     ]
    },
    {
     "name": "stdout",
     "output_type": "stream",
     "text": [
      "Completed run: LO_Robust_NoEnc_20250208_0340\n",
      "🏃 View run LO_Robust_NoEnc_20250208_0340 at: https://dagshub.com/REHXZ/PAI_CA2.mlflow/#/experiments/7/runs/cbcc06e977044153bfd6f2a85bdf7afe\n",
      "🧪 View experiment at: https://dagshub.com/REHXZ/PAI_CA2.mlflow/#/experiments/7\n",
      "Starting run: RA_Robust_NoEnc_20250208_0342\n"
     ]
    },
    {
     "name": "stderr",
     "output_type": "stream",
     "text": [
      "2025/02/08 03:48:50 WARNING mlflow.models.signature: Failed to infer the model signature from the input example. Reason: MlflowException(\"Failed to enforce schema of data '        country_code  mobile_verified  num_orders_last_50days  \\\\\\n1206580           MY             True                     205   \\n\\n         num_cancelled_orders_last_50days  num_refund_orders_last_50days  \\\\\\n1206580                                 7                             10   \\n\\n         total_payment_last_50days  num_associated_customers collect_type  \\\\\\n1206580                1875.998413                         2     delivery   \\n\\n        payment_method  order_value  num_items_ordered  refund_value  \\\\\\n1206580   BankTransfer       6.5625                  3      6.558594   \\n\\n         days_since_first_order  order_date_day_of_week  order_date_day  \\\\\\n1206580                    1259                       1               3   \\n\\n         order_date_month  order_date_year  \\n1206580                 1             2023  ' with schema '['country_code': string (required), 'mobile_verified': boolean (required), 'num_orders_last_50days': integer (required), 'num_cancelled_orders_last_50days': integer (required), 'num_refund_orders_last_50days': integer (required), 'total_payment_last_50days': float (required), 'num_associated_customers': integer (required), 'collect_type': string (required), 'payment_method': string (required), 'order_value': float (required), 'num_items_ordered': integer (required), 'refund_value': float (required), 'days_since_first_order': long (required), 'order_date_day_of_week': integer (required), 'order_date_day': integer (required), 'order_date_month': integer (required), 'order_date_year': integer (required)]'. Error: Incompatible input types for column country_code. Can not safely convert category to <U0.\"). To see the full traceback, set the logging level to DEBUG via `logging.getLogger(\"mlflow\").setLevel(logging.DEBUG)`.\n"
     ]
    },
    {
     "name": "stdout",
     "output_type": "stream",
     "text": [
      "Completed run: RA_Robust_NoEnc_20250208_0342\n",
      "🏃 View run RA_Robust_NoEnc_20250208_0342 at: https://dagshub.com/REHXZ/PAI_CA2.mlflow/#/experiments/7/runs/f851e8388f44463d9a65dab687d8d017\n",
      "🧪 View experiment at: https://dagshub.com/REHXZ/PAI_CA2.mlflow/#/experiments/7\n",
      "Starting run: LI_Robust_NoEnc_20250208_0406\n",
      "[LightGBM] [Info] Number of positive: 199486, number of negative: 1611458\n",
      "[LightGBM] [Info] Auto-choosing row-wise multi-threading, the overhead of testing was 0.064500 seconds.\n",
      "You can set `force_row_wise=true` to remove the overhead.\n",
      "And if memory is not enough, you can set `force_col_wise=true`.\n",
      "[LightGBM] [Info] Total Bins 1691\n",
      "[LightGBM] [Info] Number of data points in the train set: 1810944, number of used features: 14\n",
      "[LightGBM] [Info] [binary:BoostFromScore]: pavg=0.110156 -> initscore=-2.089151\n",
      "[LightGBM] [Info] Start training from score -2.089151\n"
     ]
    },
    {
     "name": "stderr",
     "output_type": "stream",
     "text": [
      "2025/02/08 04:06:46 WARNING mlflow.models.signature: Failed to infer the model signature from the input example. Reason: MlflowException(\"Failed to enforce schema of data '        country_code  mobile_verified  num_orders_last_50days  \\\\\\n1206580           MY             True                     205   \\n\\n         num_cancelled_orders_last_50days  num_refund_orders_last_50days  \\\\\\n1206580                                 7                             10   \\n\\n         total_payment_last_50days  num_associated_customers collect_type  \\\\\\n1206580                1875.998413                         2     delivery   \\n\\n        payment_method  order_value  num_items_ordered  refund_value  \\\\\\n1206580   BankTransfer       6.5625                  3      6.558594   \\n\\n         days_since_first_order  order_date_day_of_week  order_date_day  \\\\\\n1206580                    1259                       1               3   \\n\\n         order_date_month  order_date_year  \\n1206580                 1             2023  ' with schema '['country_code': string (required), 'mobile_verified': boolean (required), 'num_orders_last_50days': integer (required), 'num_cancelled_orders_last_50days': integer (required), 'num_refund_orders_last_50days': integer (required), 'total_payment_last_50days': float (required), 'num_associated_customers': integer (required), 'collect_type': string (required), 'payment_method': string (required), 'order_value': float (required), 'num_items_ordered': integer (required), 'refund_value': float (required), 'days_since_first_order': long (required), 'order_date_day_of_week': integer (required), 'order_date_day': integer (required), 'order_date_month': integer (required), 'order_date_year': integer (required)]'. Error: Incompatible input types for column country_code. Can not safely convert category to <U0.\"). To see the full traceback, set the logging level to DEBUG via `logging.getLogger(\"mlflow\").setLevel(logging.DEBUG)`.\n"
     ]
    },
    {
     "name": "stdout",
     "output_type": "stream",
     "text": [
      "Completed run: LI_Robust_NoEnc_20250208_0406\n",
      "🏃 View run LI_Robust_NoEnc_20250208_0406 at: https://dagshub.com/REHXZ/PAI_CA2.mlflow/#/experiments/7/runs/e18cd40e0d6240e4b1eff57737a0ae63\n",
      "🧪 View experiment at: https://dagshub.com/REHXZ/PAI_CA2.mlflow/#/experiments/7\n",
      "Starting run: GA_Robust_NoEnc_20250208_0408\n"
     ]
    },
    {
     "name": "stderr",
     "output_type": "stream",
     "text": [
      "2025/02/08 04:08:08 WARNING mlflow.models.signature: Failed to infer the model signature from the input example. Reason: MlflowException(\"Failed to enforce schema of data '        country_code  mobile_verified  num_orders_last_50days  \\\\\\n1206580           MY             True                     205   \\n\\n         num_cancelled_orders_last_50days  num_refund_orders_last_50days  \\\\\\n1206580                                 7                             10   \\n\\n         total_payment_last_50days  num_associated_customers collect_type  \\\\\\n1206580                1875.998413                         2     delivery   \\n\\n        payment_method  order_value  num_items_ordered  refund_value  \\\\\\n1206580   BankTransfer       6.5625                  3      6.558594   \\n\\n         days_since_first_order  order_date_day_of_week  order_date_day  \\\\\\n1206580                    1259                       1               3   \\n\\n         order_date_month  order_date_year  \\n1206580                 1             2023  ' with schema '['country_code': string (required), 'mobile_verified': boolean (required), 'num_orders_last_50days': integer (required), 'num_cancelled_orders_last_50days': integer (required), 'num_refund_orders_last_50days': integer (required), 'total_payment_last_50days': float (required), 'num_associated_customers': integer (required), 'collect_type': string (required), 'payment_method': string (required), 'order_value': float (required), 'num_items_ordered': integer (required), 'refund_value': float (required), 'days_since_first_order': long (required), 'order_date_day_of_week': integer (required), 'order_date_day': integer (required), 'order_date_month': integer (required), 'order_date_year': integer (required)]'. Error: Incompatible input types for column country_code. Can not safely convert category to <U0.\"). To see the full traceback, set the logging level to DEBUG via `logging.getLogger(\"mlflow\").setLevel(logging.DEBUG)`.\n"
     ]
    },
    {
     "name": "stdout",
     "output_type": "stream",
     "text": [
      "Completed run: GA_Robust_NoEnc_20250208_0408\n",
      "🏃 View run GA_Robust_NoEnc_20250208_0408 at: https://dagshub.com/REHXZ/PAI_CA2.mlflow/#/experiments/7/runs/5184ff256f9e4d3d9a9c63a3c50e7b17\n",
      "🧪 View experiment at: https://dagshub.com/REHXZ/PAI_CA2.mlflow/#/experiments/7\n",
      "Starting run: DE_Robust_NoEnc_20250208_0408\n"
     ]
    },
    {
     "name": "stderr",
     "output_type": "stream",
     "text": [
      "2025/02/08 04:08:54 WARNING mlflow.models.signature: Failed to infer the model signature from the input example. Reason: MlflowException(\"Failed to enforce schema of data '        country_code  mobile_verified  num_orders_last_50days  \\\\\\n1206580           MY             True                     205   \\n\\n         num_cancelled_orders_last_50days  num_refund_orders_last_50days  \\\\\\n1206580                                 7                             10   \\n\\n         total_payment_last_50days  num_associated_customers collect_type  \\\\\\n1206580                1875.998413                         2     delivery   \\n\\n        payment_method  order_value  num_items_ordered  refund_value  \\\\\\n1206580   BankTransfer       6.5625                  3      6.558594   \\n\\n         days_since_first_order  order_date_day_of_week  order_date_day  \\\\\\n1206580                    1259                       1               3   \\n\\n         order_date_month  order_date_year  \\n1206580                 1             2023  ' with schema '['country_code': string (required), 'mobile_verified': boolean (required), 'num_orders_last_50days': integer (required), 'num_cancelled_orders_last_50days': integer (required), 'num_refund_orders_last_50days': integer (required), 'total_payment_last_50days': float (required), 'num_associated_customers': integer (required), 'collect_type': string (required), 'payment_method': string (required), 'order_value': float (required), 'num_items_ordered': integer (required), 'refund_value': float (required), 'days_since_first_order': long (required), 'order_date_day_of_week': integer (required), 'order_date_day': integer (required), 'order_date_month': integer (required), 'order_date_year': integer (required)]'. Error: Incompatible input types for column country_code. Can not safely convert category to <U0.\"). To see the full traceback, set the logging level to DEBUG via `logging.getLogger(\"mlflow\").setLevel(logging.DEBUG)`.\n"
     ]
    },
    {
     "name": "stdout",
     "output_type": "stream",
     "text": [
      "Completed run: DE_Robust_NoEnc_20250208_0408\n",
      "🏃 View run DE_Robust_NoEnc_20250208_0408 at: https://dagshub.com/REHXZ/PAI_CA2.mlflow/#/experiments/7/runs/95956a1c69c643e094040b4235634c65\n",
      "🧪 View experiment at: https://dagshub.com/REHXZ/PAI_CA2.mlflow/#/experiments/7\n",
      "Starting run: GR_Robust_NoEnc_20250208_0409\n"
     ]
    },
    {
     "name": "stderr",
     "output_type": "stream",
     "text": [
      "2025/02/08 04:16:44 WARNING mlflow.models.signature: Failed to infer the model signature from the input example. Reason: MlflowException(\"Failed to enforce schema of data '        country_code  mobile_verified  num_orders_last_50days  \\\\\\n1206580           MY             True                     205   \\n\\n         num_cancelled_orders_last_50days  num_refund_orders_last_50days  \\\\\\n1206580                                 7                             10   \\n\\n         total_payment_last_50days  num_associated_customers collect_type  \\\\\\n1206580                1875.998413                         2     delivery   \\n\\n        payment_method  order_value  num_items_ordered  refund_value  \\\\\\n1206580   BankTransfer       6.5625                  3      6.558594   \\n\\n         days_since_first_order  order_date_day_of_week  order_date_day  \\\\\\n1206580                    1259                       1               3   \\n\\n         order_date_month  order_date_year  \\n1206580                 1             2023  ' with schema '['country_code': string (required), 'mobile_verified': boolean (required), 'num_orders_last_50days': integer (required), 'num_cancelled_orders_last_50days': integer (required), 'num_refund_orders_last_50days': integer (required), 'total_payment_last_50days': float (required), 'num_associated_customers': integer (required), 'collect_type': string (required), 'payment_method': string (required), 'order_value': float (required), 'num_items_ordered': integer (required), 'refund_value': float (required), 'days_since_first_order': long (required), 'order_date_day_of_week': integer (required), 'order_date_day': integer (required), 'order_date_month': integer (required), 'order_date_year': integer (required)]'. Error: Incompatible input types for column country_code. Can not safely convert category to <U0.\"). To see the full traceback, set the logging level to DEBUG via `logging.getLogger(\"mlflow\").setLevel(logging.DEBUG)`.\n"
     ]
    },
    {
     "name": "stdout",
     "output_type": "stream",
     "text": [
      "Completed run: GR_Robust_NoEnc_20250208_0409\n",
      "🏃 View run GR_Robust_NoEnc_20250208_0409 at: https://dagshub.com/REHXZ/PAI_CA2.mlflow/#/experiments/7/runs/126f08423a1140379bffeea396af79eb\n",
      "🧪 View experiment at: https://dagshub.com/REHXZ/PAI_CA2.mlflow/#/experiments/7\n",
      "Starting run: LO_NoneType_Enc_20250208_0433\n"
     ]
    },
    {
     "name": "stderr",
     "output_type": "stream",
     "text": [
      "2025/02/08 04:33:50 WARNING mlflow.models.signature: Failed to infer the model signature from the input example. Reason: MlflowException(\"Failed to enforce schema of data '        country_code  mobile_verified  num_orders_last_50days  \\\\\\n1206580           MY             True                     205   \\n\\n         num_cancelled_orders_last_50days  num_refund_orders_last_50days  \\\\\\n1206580                                 7                             10   \\n\\n         total_payment_last_50days  num_associated_customers collect_type  \\\\\\n1206580                1875.998413                         2     delivery   \\n\\n        payment_method  order_value  num_items_ordered  refund_value  \\\\\\n1206580   BankTransfer       6.5625                  3      6.558594   \\n\\n         days_since_first_order  order_date_day_of_week  order_date_day  \\\\\\n1206580                    1259                       1               3   \\n\\n         order_date_month  order_date_year  \\n1206580                 1             2023  ' with schema '['country_code': string (required), 'mobile_verified': boolean (required), 'num_orders_last_50days': integer (required), 'num_cancelled_orders_last_50days': integer (required), 'num_refund_orders_last_50days': integer (required), 'total_payment_last_50days': float (required), 'num_associated_customers': integer (required), 'collect_type': string (required), 'payment_method': string (required), 'order_value': float (required), 'num_items_ordered': integer (required), 'refund_value': float (required), 'days_since_first_order': long (required), 'order_date_day_of_week': integer (required), 'order_date_day': integer (required), 'order_date_month': integer (required), 'order_date_year': integer (required)]'. Error: Incompatible input types for column country_code. Can not safely convert category to <U0.\"). To see the full traceback, set the logging level to DEBUG via `logging.getLogger(\"mlflow\").setLevel(logging.DEBUG)`.\n"
     ]
    },
    {
     "name": "stdout",
     "output_type": "stream",
     "text": [
      "Completed run: LO_NoneType_Enc_20250208_0433\n",
      "🏃 View run LO_NoneType_Enc_20250208_0433 at: https://dagshub.com/REHXZ/PAI_CA2.mlflow/#/experiments/7/runs/38800f115fbe400784891305847377cd\n",
      "🧪 View experiment at: https://dagshub.com/REHXZ/PAI_CA2.mlflow/#/experiments/7\n",
      "Starting run: RA_NoneType_Enc_20250208_0435\n"
     ]
    },
    {
     "name": "stderr",
     "output_type": "stream",
     "text": [
      "2025/02/08 04:42:52 WARNING mlflow.models.signature: Failed to infer the model signature from the input example. Reason: MlflowException(\"Failed to enforce schema of data '        country_code  mobile_verified  num_orders_last_50days  \\\\\\n1206580           MY             True                     205   \\n\\n         num_cancelled_orders_last_50days  num_refund_orders_last_50days  \\\\\\n1206580                                 7                             10   \\n\\n         total_payment_last_50days  num_associated_customers collect_type  \\\\\\n1206580                1875.998413                         2     delivery   \\n\\n        payment_method  order_value  num_items_ordered  refund_value  \\\\\\n1206580   BankTransfer       6.5625                  3      6.558594   \\n\\n         days_since_first_order  order_date_day_of_week  order_date_day  \\\\\\n1206580                    1259                       1               3   \\n\\n         order_date_month  order_date_year  \\n1206580                 1             2023  ' with schema '['country_code': string (required), 'mobile_verified': boolean (required), 'num_orders_last_50days': integer (required), 'num_cancelled_orders_last_50days': integer (required), 'num_refund_orders_last_50days': integer (required), 'total_payment_last_50days': float (required), 'num_associated_customers': integer (required), 'collect_type': string (required), 'payment_method': string (required), 'order_value': float (required), 'num_items_ordered': integer (required), 'refund_value': float (required), 'days_since_first_order': long (required), 'order_date_day_of_week': integer (required), 'order_date_day': integer (required), 'order_date_month': integer (required), 'order_date_year': integer (required)]'. Error: Incompatible input types for column country_code. Can not safely convert category to <U0.\"). To see the full traceback, set the logging level to DEBUG via `logging.getLogger(\"mlflow\").setLevel(logging.DEBUG)`.\n"
     ]
    },
    {
     "name": "stdout",
     "output_type": "stream",
     "text": [
      "Completed run: RA_NoneType_Enc_20250208_0435\n",
      "🏃 View run RA_NoneType_Enc_20250208_0435 at: https://dagshub.com/REHXZ/PAI_CA2.mlflow/#/experiments/7/runs/3cf6554e7f634341a4e34951902f0f04\n",
      "🧪 View experiment at: https://dagshub.com/REHXZ/PAI_CA2.mlflow/#/experiments/7\n",
      "Starting run: LI_NoneType_Enc_20250208_0459\n",
      "[LightGBM] [Info] Number of positive: 199486, number of negative: 1611458\n",
      "[LightGBM] [Info] Auto-choosing row-wise multi-threading, the overhead of testing was 0.067377 seconds.\n",
      "You can set `force_row_wise=true` to remove the overhead.\n",
      "And if memory is not enough, you can set `force_col_wise=true`.\n",
      "[LightGBM] [Info] Total Bins 1720\n",
      "[LightGBM] [Info] Number of data points in the train set: 1810944, number of used features: 26\n",
      "[LightGBM] [Info] [binary:BoostFromScore]: pavg=0.110156 -> initscore=-2.089151\n",
      "[LightGBM] [Info] Start training from score -2.089151\n"
     ]
    },
    {
     "name": "stderr",
     "output_type": "stream",
     "text": [
      "2025/02/08 04:59:39 WARNING mlflow.models.signature: Failed to infer the model signature from the input example. Reason: MlflowException(\"Failed to enforce schema of data '        country_code  mobile_verified  num_orders_last_50days  \\\\\\n1206580           MY             True                     205   \\n\\n         num_cancelled_orders_last_50days  num_refund_orders_last_50days  \\\\\\n1206580                                 7                             10   \\n\\n         total_payment_last_50days  num_associated_customers collect_type  \\\\\\n1206580                1875.998413                         2     delivery   \\n\\n        payment_method  order_value  num_items_ordered  refund_value  \\\\\\n1206580   BankTransfer       6.5625                  3      6.558594   \\n\\n         days_since_first_order  order_date_day_of_week  order_date_day  \\\\\\n1206580                    1259                       1               3   \\n\\n         order_date_month  order_date_year  \\n1206580                 1             2023  ' with schema '['country_code': string (required), 'mobile_verified': boolean (required), 'num_orders_last_50days': integer (required), 'num_cancelled_orders_last_50days': integer (required), 'num_refund_orders_last_50days': integer (required), 'total_payment_last_50days': float (required), 'num_associated_customers': integer (required), 'collect_type': string (required), 'payment_method': string (required), 'order_value': float (required), 'num_items_ordered': integer (required), 'refund_value': float (required), 'days_since_first_order': long (required), 'order_date_day_of_week': integer (required), 'order_date_day': integer (required), 'order_date_month': integer (required), 'order_date_year': integer (required)]'. Error: Incompatible input types for column country_code. Can not safely convert category to <U0.\"). To see the full traceback, set the logging level to DEBUG via `logging.getLogger(\"mlflow\").setLevel(logging.DEBUG)`.\n"
     ]
    },
    {
     "name": "stdout",
     "output_type": "stream",
     "text": [
      "Completed run: LI_NoneType_Enc_20250208_0459\n",
      "🏃 View run LI_NoneType_Enc_20250208_0459 at: https://dagshub.com/REHXZ/PAI_CA2.mlflow/#/experiments/7/runs/53d08c3a269b4fd6b448d506ce36a793\n",
      "🧪 View experiment at: https://dagshub.com/REHXZ/PAI_CA2.mlflow/#/experiments/7\n",
      "Starting run: GA_NoneType_Enc_20250208_0501\n"
     ]
    },
    {
     "name": "stderr",
     "output_type": "stream",
     "text": [
      "2025/02/08 05:01:36 WARNING mlflow.models.signature: Failed to infer the model signature from the input example. Reason: MlflowException(\"Failed to enforce schema of data '        country_code  mobile_verified  num_orders_last_50days  \\\\\\n1206580           MY             True                     205   \\n\\n         num_cancelled_orders_last_50days  num_refund_orders_last_50days  \\\\\\n1206580                                 7                             10   \\n\\n         total_payment_last_50days  num_associated_customers collect_type  \\\\\\n1206580                1875.998413                         2     delivery   \\n\\n        payment_method  order_value  num_items_ordered  refund_value  \\\\\\n1206580   BankTransfer       6.5625                  3      6.558594   \\n\\n         days_since_first_order  order_date_day_of_week  order_date_day  \\\\\\n1206580                    1259                       1               3   \\n\\n         order_date_month  order_date_year  \\n1206580                 1             2023  ' with schema '['country_code': string (required), 'mobile_verified': boolean (required), 'num_orders_last_50days': integer (required), 'num_cancelled_orders_last_50days': integer (required), 'num_refund_orders_last_50days': integer (required), 'total_payment_last_50days': float (required), 'num_associated_customers': integer (required), 'collect_type': string (required), 'payment_method': string (required), 'order_value': float (required), 'num_items_ordered': integer (required), 'refund_value': float (required), 'days_since_first_order': long (required), 'order_date_day_of_week': integer (required), 'order_date_day': integer (required), 'order_date_month': integer (required), 'order_date_year': integer (required)]'. Error: Incompatible input types for column country_code. Can not safely convert category to <U0.\"). To see the full traceback, set the logging level to DEBUG via `logging.getLogger(\"mlflow\").setLevel(logging.DEBUG)`.\n"
     ]
    },
    {
     "name": "stdout",
     "output_type": "stream",
     "text": [
      "Completed run: GA_NoneType_Enc_20250208_0501\n",
      "🏃 View run GA_NoneType_Enc_20250208_0501 at: https://dagshub.com/REHXZ/PAI_CA2.mlflow/#/experiments/7/runs/25c6a7192962416983a8d30c0bc94d5a\n",
      "🧪 View experiment at: https://dagshub.com/REHXZ/PAI_CA2.mlflow/#/experiments/7\n",
      "Starting run: DE_NoneType_Enc_20250208_0502\n"
     ]
    },
    {
     "name": "stderr",
     "output_type": "stream",
     "text": [
      "2025/02/08 05:03:04 WARNING mlflow.models.signature: Failed to infer the model signature from the input example. Reason: MlflowException(\"Failed to enforce schema of data '        country_code  mobile_verified  num_orders_last_50days  \\\\\\n1206580           MY             True                     205   \\n\\n         num_cancelled_orders_last_50days  num_refund_orders_last_50days  \\\\\\n1206580                                 7                             10   \\n\\n         total_payment_last_50days  num_associated_customers collect_type  \\\\\\n1206580                1875.998413                         2     delivery   \\n\\n        payment_method  order_value  num_items_ordered  refund_value  \\\\\\n1206580   BankTransfer       6.5625                  3      6.558594   \\n\\n         days_since_first_order  order_date_day_of_week  order_date_day  \\\\\\n1206580                    1259                       1               3   \\n\\n         order_date_month  order_date_year  \\n1206580                 1             2023  ' with schema '['country_code': string (required), 'mobile_verified': boolean (required), 'num_orders_last_50days': integer (required), 'num_cancelled_orders_last_50days': integer (required), 'num_refund_orders_last_50days': integer (required), 'total_payment_last_50days': float (required), 'num_associated_customers': integer (required), 'collect_type': string (required), 'payment_method': string (required), 'order_value': float (required), 'num_items_ordered': integer (required), 'refund_value': float (required), 'days_since_first_order': long (required), 'order_date_day_of_week': integer (required), 'order_date_day': integer (required), 'order_date_month': integer (required), 'order_date_year': integer (required)]'. Error: Incompatible input types for column country_code. Can not safely convert category to <U0.\"). To see the full traceback, set the logging level to DEBUG via `logging.getLogger(\"mlflow\").setLevel(logging.DEBUG)`.\n"
     ]
    },
    {
     "name": "stdout",
     "output_type": "stream",
     "text": [
      "Completed run: DE_NoneType_Enc_20250208_0502\n",
      "🏃 View run DE_NoneType_Enc_20250208_0502 at: https://dagshub.com/REHXZ/PAI_CA2.mlflow/#/experiments/7/runs/712691e07c634b8b80c4dfba031ce2d5\n",
      "🧪 View experiment at: https://dagshub.com/REHXZ/PAI_CA2.mlflow/#/experiments/7\n",
      "Starting run: GR_NoneType_Enc_20250208_0504\n"
     ]
    },
    {
     "name": "stderr",
     "output_type": "stream",
     "text": [
      "2025/02/08 05:13:48 WARNING mlflow.models.signature: Failed to infer the model signature from the input example. Reason: MlflowException(\"Failed to enforce schema of data '        country_code  mobile_verified  num_orders_last_50days  \\\\\\n1206580           MY             True                     205   \\n\\n         num_cancelled_orders_last_50days  num_refund_orders_last_50days  \\\\\\n1206580                                 7                             10   \\n\\n         total_payment_last_50days  num_associated_customers collect_type  \\\\\\n1206580                1875.998413                         2     delivery   \\n\\n        payment_method  order_value  num_items_ordered  refund_value  \\\\\\n1206580   BankTransfer       6.5625                  3      6.558594   \\n\\n         days_since_first_order  order_date_day_of_week  order_date_day  \\\\\\n1206580                    1259                       1               3   \\n\\n         order_date_month  order_date_year  \\n1206580                 1             2023  ' with schema '['country_code': string (required), 'mobile_verified': boolean (required), 'num_orders_last_50days': integer (required), 'num_cancelled_orders_last_50days': integer (required), 'num_refund_orders_last_50days': integer (required), 'total_payment_last_50days': float (required), 'num_associated_customers': integer (required), 'collect_type': string (required), 'payment_method': string (required), 'order_value': float (required), 'num_items_ordered': integer (required), 'refund_value': float (required), 'days_since_first_order': long (required), 'order_date_day_of_week': integer (required), 'order_date_day': integer (required), 'order_date_month': integer (required), 'order_date_year': integer (required)]'. Error: Incompatible input types for column country_code. Can not safely convert category to <U0.\"). To see the full traceback, set the logging level to DEBUG via `logging.getLogger(\"mlflow\").setLevel(logging.DEBUG)`.\n"
     ]
    },
    {
     "name": "stdout",
     "output_type": "stream",
     "text": [
      "Completed run: GR_NoneType_Enc_20250208_0504\n",
      "🏃 View run GR_NoneType_Enc_20250208_0504 at: https://dagshub.com/REHXZ/PAI_CA2.mlflow/#/experiments/7/runs/19fcc46f0cf542c4892fa616e6751230\n",
      "🧪 View experiment at: https://dagshub.com/REHXZ/PAI_CA2.mlflow/#/experiments/7\n",
      "Starting run: LO_NoneType_NoEnc_20250208_0539\n"
     ]
    },
    {
     "name": "stderr",
     "output_type": "stream",
     "text": [
      "2025/02/08 05:40:02 WARNING mlflow.models.signature: Failed to infer the model signature from the input example. Reason: MlflowException(\"Failed to enforce schema of data '        country_code  mobile_verified  num_orders_last_50days  \\\\\\n1206580           MY             True                     205   \\n\\n         num_cancelled_orders_last_50days  num_refund_orders_last_50days  \\\\\\n1206580                                 7                             10   \\n\\n         total_payment_last_50days  num_associated_customers collect_type  \\\\\\n1206580                1875.998413                         2     delivery   \\n\\n        payment_method  order_value  num_items_ordered  refund_value  \\\\\\n1206580   BankTransfer       6.5625                  3      6.558594   \\n\\n         days_since_first_order  order_date_day_of_week  order_date_day  \\\\\\n1206580                    1259                       1               3   \\n\\n         order_date_month  order_date_year  \\n1206580                 1             2023  ' with schema '['country_code': string (required), 'mobile_verified': boolean (required), 'num_orders_last_50days': integer (required), 'num_cancelled_orders_last_50days': integer (required), 'num_refund_orders_last_50days': integer (required), 'total_payment_last_50days': float (required), 'num_associated_customers': integer (required), 'collect_type': string (required), 'payment_method': string (required), 'order_value': float (required), 'num_items_ordered': integer (required), 'refund_value': float (required), 'days_since_first_order': long (required), 'order_date_day_of_week': integer (required), 'order_date_day': integer (required), 'order_date_month': integer (required), 'order_date_year': integer (required)]'. Error: Incompatible input types for column country_code. Can not safely convert category to <U0.\"). To see the full traceback, set the logging level to DEBUG via `logging.getLogger(\"mlflow\").setLevel(logging.DEBUG)`.\n"
     ]
    },
    {
     "name": "stdout",
     "output_type": "stream",
     "text": [
      "Completed run: LO_NoneType_NoEnc_20250208_0539\n",
      "🏃 View run LO_NoneType_NoEnc_20250208_0539 at: https://dagshub.com/REHXZ/PAI_CA2.mlflow/#/experiments/7/runs/1b3dceb24e1d409cb7b2fda218144bce\n",
      "🧪 View experiment at: https://dagshub.com/REHXZ/PAI_CA2.mlflow/#/experiments/7\n",
      "Starting run: RA_NoneType_NoEnc_20250208_0541\n"
     ]
    },
    {
     "name": "stderr",
     "output_type": "stream",
     "text": [
      "2025/02/08 05:48:06 WARNING mlflow.models.signature: Failed to infer the model signature from the input example. Reason: MlflowException(\"Failed to enforce schema of data '        country_code  mobile_verified  num_orders_last_50days  \\\\\\n1206580           MY             True                     205   \\n\\n         num_cancelled_orders_last_50days  num_refund_orders_last_50days  \\\\\\n1206580                                 7                             10   \\n\\n         total_payment_last_50days  num_associated_customers collect_type  \\\\\\n1206580                1875.998413                         2     delivery   \\n\\n        payment_method  order_value  num_items_ordered  refund_value  \\\\\\n1206580   BankTransfer       6.5625                  3      6.558594   \\n\\n         days_since_first_order  order_date_day_of_week  order_date_day  \\\\\\n1206580                    1259                       1               3   \\n\\n         order_date_month  order_date_year  \\n1206580                 1             2023  ' with schema '['country_code': string (required), 'mobile_verified': boolean (required), 'num_orders_last_50days': integer (required), 'num_cancelled_orders_last_50days': integer (required), 'num_refund_orders_last_50days': integer (required), 'total_payment_last_50days': float (required), 'num_associated_customers': integer (required), 'collect_type': string (required), 'payment_method': string (required), 'order_value': float (required), 'num_items_ordered': integer (required), 'refund_value': float (required), 'days_since_first_order': long (required), 'order_date_day_of_week': integer (required), 'order_date_day': integer (required), 'order_date_month': integer (required), 'order_date_year': integer (required)]'. Error: Incompatible input types for column country_code. Can not safely convert category to <U0.\"). To see the full traceback, set the logging level to DEBUG via `logging.getLogger(\"mlflow\").setLevel(logging.DEBUG)`.\n"
     ]
    },
    {
     "name": "stdout",
     "output_type": "stream",
     "text": [
      "Completed run: RA_NoneType_NoEnc_20250208_0541\n",
      "🏃 View run RA_NoneType_NoEnc_20250208_0541 at: https://dagshub.com/REHXZ/PAI_CA2.mlflow/#/experiments/7/runs/516cd11c2504490db67e40d1dd400e10\n",
      "🧪 View experiment at: https://dagshub.com/REHXZ/PAI_CA2.mlflow/#/experiments/7\n",
      "Starting run: LI_NoneType_NoEnc_20250208_0603\n",
      "[LightGBM] [Info] Number of positive: 199486, number of negative: 1611458\n",
      "[LightGBM] [Info] Auto-choosing row-wise multi-threading, the overhead of testing was 0.061816 seconds.\n",
      "You can set `force_row_wise=true` to remove the overhead.\n",
      "And if memory is not enough, you can set `force_col_wise=true`.\n",
      "[LightGBM] [Info] Total Bins 1696\n",
      "[LightGBM] [Info] Number of data points in the train set: 1810944, number of used features: 14\n",
      "[LightGBM] [Info] [binary:BoostFromScore]: pavg=0.110156 -> initscore=-2.089151\n",
      "[LightGBM] [Info] Start training from score -2.089151\n"
     ]
    },
    {
     "name": "stderr",
     "output_type": "stream",
     "text": [
      "2025/02/08 06:03:54 WARNING mlflow.models.signature: Failed to infer the model signature from the input example. Reason: MlflowException(\"Failed to enforce schema of data '        country_code  mobile_verified  num_orders_last_50days  \\\\\\n1206580           MY             True                     205   \\n\\n         num_cancelled_orders_last_50days  num_refund_orders_last_50days  \\\\\\n1206580                                 7                             10   \\n\\n         total_payment_last_50days  num_associated_customers collect_type  \\\\\\n1206580                1875.998413                         2     delivery   \\n\\n        payment_method  order_value  num_items_ordered  refund_value  \\\\\\n1206580   BankTransfer       6.5625                  3      6.558594   \\n\\n         days_since_first_order  order_date_day_of_week  order_date_day  \\\\\\n1206580                    1259                       1               3   \\n\\n         order_date_month  order_date_year  \\n1206580                 1             2023  ' with schema '['country_code': string (required), 'mobile_verified': boolean (required), 'num_orders_last_50days': integer (required), 'num_cancelled_orders_last_50days': integer (required), 'num_refund_orders_last_50days': integer (required), 'total_payment_last_50days': float (required), 'num_associated_customers': integer (required), 'collect_type': string (required), 'payment_method': string (required), 'order_value': float (required), 'num_items_ordered': integer (required), 'refund_value': float (required), 'days_since_first_order': long (required), 'order_date_day_of_week': integer (required), 'order_date_day': integer (required), 'order_date_month': integer (required), 'order_date_year': integer (required)]'. Error: Incompatible input types for column country_code. Can not safely convert category to <U0.\"). To see the full traceback, set the logging level to DEBUG via `logging.getLogger(\"mlflow\").setLevel(logging.DEBUG)`.\n"
     ]
    },
    {
     "name": "stdout",
     "output_type": "stream",
     "text": [
      "Completed run: LI_NoneType_NoEnc_20250208_0603\n",
      "🏃 View run LI_NoneType_NoEnc_20250208_0603 at: https://dagshub.com/REHXZ/PAI_CA2.mlflow/#/experiments/7/runs/2e3b0091029d4d2285a3821a95b66a9f\n",
      "🧪 View experiment at: https://dagshub.com/REHXZ/PAI_CA2.mlflow/#/experiments/7\n",
      "Starting run: GA_NoneType_NoEnc_20250208_0605\n"
     ]
    },
    {
     "name": "stderr",
     "output_type": "stream",
     "text": [
      "2025/02/08 06:05:33 WARNING mlflow.models.signature: Failed to infer the model signature from the input example. Reason: MlflowException(\"Failed to enforce schema of data '        country_code  mobile_verified  num_orders_last_50days  \\\\\\n1206580           MY             True                     205   \\n\\n         num_cancelled_orders_last_50days  num_refund_orders_last_50days  \\\\\\n1206580                                 7                             10   \\n\\n         total_payment_last_50days  num_associated_customers collect_type  \\\\\\n1206580                1875.998413                         2     delivery   \\n\\n        payment_method  order_value  num_items_ordered  refund_value  \\\\\\n1206580   BankTransfer       6.5625                  3      6.558594   \\n\\n         days_since_first_order  order_date_day_of_week  order_date_day  \\\\\\n1206580                    1259                       1               3   \\n\\n         order_date_month  order_date_year  \\n1206580                 1             2023  ' with schema '['country_code': string (required), 'mobile_verified': boolean (required), 'num_orders_last_50days': integer (required), 'num_cancelled_orders_last_50days': integer (required), 'num_refund_orders_last_50days': integer (required), 'total_payment_last_50days': float (required), 'num_associated_customers': integer (required), 'collect_type': string (required), 'payment_method': string (required), 'order_value': float (required), 'num_items_ordered': integer (required), 'refund_value': float (required), 'days_since_first_order': long (required), 'order_date_day_of_week': integer (required), 'order_date_day': integer (required), 'order_date_month': integer (required), 'order_date_year': integer (required)]'. Error: Incompatible input types for column country_code. Can not safely convert category to <U0.\"). To see the full traceback, set the logging level to DEBUG via `logging.getLogger(\"mlflow\").setLevel(logging.DEBUG)`.\n"
     ]
    },
    {
     "name": "stdout",
     "output_type": "stream",
     "text": [
      "Completed run: GA_NoneType_NoEnc_20250208_0605\n",
      "🏃 View run GA_NoneType_NoEnc_20250208_0605 at: https://dagshub.com/REHXZ/PAI_CA2.mlflow/#/experiments/7/runs/61bc19b23b8146ada753fe7d5a6f437d\n",
      "🧪 View experiment at: https://dagshub.com/REHXZ/PAI_CA2.mlflow/#/experiments/7\n",
      "Starting run: DE_NoneType_NoEnc_20250208_0606\n"
     ]
    },
    {
     "name": "stderr",
     "output_type": "stream",
     "text": [
      "2025/02/08 06:06:35 WARNING mlflow.models.signature: Failed to infer the model signature from the input example. Reason: MlflowException(\"Failed to enforce schema of data '        country_code  mobile_verified  num_orders_last_50days  \\\\\\n1206580           MY             True                     205   \\n\\n         num_cancelled_orders_last_50days  num_refund_orders_last_50days  \\\\\\n1206580                                 7                             10   \\n\\n         total_payment_last_50days  num_associated_customers collect_type  \\\\\\n1206580                1875.998413                         2     delivery   \\n\\n        payment_method  order_value  num_items_ordered  refund_value  \\\\\\n1206580   BankTransfer       6.5625                  3      6.558594   \\n\\n         days_since_first_order  order_date_day_of_week  order_date_day  \\\\\\n1206580                    1259                       1               3   \\n\\n         order_date_month  order_date_year  \\n1206580                 1             2023  ' with schema '['country_code': string (required), 'mobile_verified': boolean (required), 'num_orders_last_50days': integer (required), 'num_cancelled_orders_last_50days': integer (required), 'num_refund_orders_last_50days': integer (required), 'total_payment_last_50days': float (required), 'num_associated_customers': integer (required), 'collect_type': string (required), 'payment_method': string (required), 'order_value': float (required), 'num_items_ordered': integer (required), 'refund_value': float (required), 'days_since_first_order': long (required), 'order_date_day_of_week': integer (required), 'order_date_day': integer (required), 'order_date_month': integer (required), 'order_date_year': integer (required)]'. Error: Incompatible input types for column country_code. Can not safely convert category to <U0.\"). To see the full traceback, set the logging level to DEBUG via `logging.getLogger(\"mlflow\").setLevel(logging.DEBUG)`.\n"
     ]
    },
    {
     "name": "stdout",
     "output_type": "stream",
     "text": [
      "Completed run: DE_NoneType_NoEnc_20250208_0606\n",
      "🏃 View run DE_NoneType_NoEnc_20250208_0606 at: https://dagshub.com/REHXZ/PAI_CA2.mlflow/#/experiments/7/runs/7b2d42de258943bd8073bce2394b5daa\n",
      "🧪 View experiment at: https://dagshub.com/REHXZ/PAI_CA2.mlflow/#/experiments/7\n",
      "Starting run: GR_NoneType_NoEnc_20250208_0607\n"
     ]
    },
    {
     "name": "stderr",
     "output_type": "stream",
     "text": [
      "2025/02/08 06:14:33 WARNING mlflow.models.signature: Failed to infer the model signature from the input example. Reason: MlflowException(\"Failed to enforce schema of data '        country_code  mobile_verified  num_orders_last_50days  \\\\\\n1206580           MY             True                     205   \\n\\n         num_cancelled_orders_last_50days  num_refund_orders_last_50days  \\\\\\n1206580                                 7                             10   \\n\\n         total_payment_last_50days  num_associated_customers collect_type  \\\\\\n1206580                1875.998413                         2     delivery   \\n\\n        payment_method  order_value  num_items_ordered  refund_value  \\\\\\n1206580   BankTransfer       6.5625                  3      6.558594   \\n\\n         days_since_first_order  order_date_day_of_week  order_date_day  \\\\\\n1206580                    1259                       1               3   \\n\\n         order_date_month  order_date_year  \\n1206580                 1             2023  ' with schema '['country_code': string (required), 'mobile_verified': boolean (required), 'num_orders_last_50days': integer (required), 'num_cancelled_orders_last_50days': integer (required), 'num_refund_orders_last_50days': integer (required), 'total_payment_last_50days': float (required), 'num_associated_customers': integer (required), 'collect_type': string (required), 'payment_method': string (required), 'order_value': float (required), 'num_items_ordered': integer (required), 'refund_value': float (required), 'days_since_first_order': long (required), 'order_date_day_of_week': integer (required), 'order_date_day': integer (required), 'order_date_month': integer (required), 'order_date_year': integer (required)]'. Error: Incompatible input types for column country_code. Can not safely convert category to <U0.\"). To see the full traceback, set the logging level to DEBUG via `logging.getLogger(\"mlflow\").setLevel(logging.DEBUG)`.\n"
     ]
    },
    {
     "name": "stdout",
     "output_type": "stream",
     "text": [
      "Completed run: GR_NoneType_NoEnc_20250208_0607\n",
      "🏃 View run GR_NoneType_NoEnc_20250208_0607 at: https://dagshub.com/REHXZ/PAI_CA2.mlflow/#/experiments/7/runs/12268145beac42fd9a60203500cfbf3a\n",
      "🧪 View experiment at: https://dagshub.com/REHXZ/PAI_CA2.mlflow/#/experiments/7\n"
     ]
    }
   ],
   "source": [
    "# Initialize the tracker\n",
    "tracker = PhaseOneExperimentTracker(\"Phase1.1\")\n",
    "\n",
    "# Load checkpoint file\n",
    "tracker.completed_runs\n",
    "\n",
    "# Run experiments with checkpointing\n",
    "tracker.run_experiments(\n",
    "    experiment_combinations=experiment_combinations,\n",
    "    X_train=X_train,\n",
    "    y_train=y_train,\n",
    "    X_test=X_test,\n",
    "    y_test=y_test,\n",
    "    numeric_columns=numeric_columns,\n",
    "    categorical_cols=categorical_cols\n",
    ")"
   ]
  },
  {
   "cell_type": "code",
   "execution_count": 11,
   "metadata": {},
   "outputs": [],
   "source": [
    "# Load datasets\n",
    "X_train = pd.read_csv('./data/X_train.csv')\n",
    "y_train = pd.read_csv('./data/y_train.csv')\n",
    "\n",
    "X_test = pd.read_csv('./data/X_test.csv')\n",
    "y_test = pd.read_csv('./data/y_test.csv')\n",
    "\n",
    "X_train_ISO = pd.read_csv('./data/X_train_ISO.csv')\n",
    "y_train_ISO = pd.read_csv('./data/y_train_ISO.csv')\n",
    "\n",
    "X_train_ISO_SMOTE = pd.read_csv('./data/X_train_ISO_smote.csv')\n",
    "y_train_ISO_SMOTE = pd.read_csv('./data/y_train_ISO_smote.csv')\n",
    "\n",
    "X_train_ISO_ROS = pd.read_csv('./data/X_train_ISO_ros.csv')\n",
    "y_train_ISO_ROS = pd.read_csv('./data/y_train_ISO_ros.csv')\n",
    "\n",
    "X_train_ISO_RUS = pd.read_csv('./data/X_train_ISO_rus.csv')\n",
    "y_train_ISO_RUS = pd.read_csv('./data/y_train_ISO_rus.csv')\n",
    "\n",
    "X_train_LOF = pd.read_csv('./data/X_train_LOF.csv')\n",
    "y_train_LOF = pd.read_csv('./data/y_train_LOF.csv')\n",
    "\n",
    "X_train_LOF_SMOTE = pd.read_csv('./data/X_train_LOF_smote.csv')\n",
    "y_train_LOF_SMOTE = pd.read_csv('./data/y_train_LOF_smote.csv')\n",
    "\n",
    "X_train_LOF_ROS = pd.read_csv('./data/X_train_LOF_ros.csv')\n",
    "y_train_LOF_ROS = pd.read_csv('./data/y_train_LOF_ros.csv')\n",
    "\n",
    "X_train_LOF_RUS = pd.read_csv('./data/X_train_LOF_rus.csv')\n",
    "y_train_LOF_RUS = pd.read_csv('./data/y_train_LOF_rus.csv')\n",
    "\n",
    "X_train_smote = pd.read_csv('./data/X_train_smote.csv')\n",
    "y_train_smote = pd.read_csv('./data/y_train_smote.csv')\n",
    "\n",
    "X_train_ros = pd.read_csv('./data/X_train_ros.csv')\n",
    "y_train_ros = pd.read_csv('./data/y_train_ros.csv')\n",
    "\n",
    "X_train_rus = pd.read_csv('./data/X_train_rus.csv')\n",
    "y_train_rus = pd.read_csv('./data/y_train_rus.csv')"
   ]
  },
  {
   "cell_type": "code",
   "execution_count": 12,
   "metadata": {},
   "outputs": [],
   "source": [
    "datasets = [\n",
    "    (\"dataset_default\", X_train, y_train),\n",
    "    (\"dataset_ISO\", X_train_ISO, y_train_ISO),\n",
    "    (\"dataset_ISO_SMOTE\", X_train_ISO_SMOTE, y_train_ISO_SMOTE),\n",
    "    (\"dataset_ISO_ROS\", X_train_ISO_ROS, y_train_ISO_ROS),\n",
    "    (\"dataset_ISO_RUS\", X_train_ISO_RUS, y_train_ISO_RUS),\n",
    "    (\"dataset_LOF\", X_train_LOF, y_train_LOF),\n",
    "    (\"dataset_LOF_SMOTE\", X_train_LOF_SMOTE, y_train_LOF_SMOTE),\n",
    "    (\"dataset_LOF_ROS\", X_train_LOF_ROS, y_train_LOF_ROS),\n",
    "    (\"dataset_LOF_RUS\", X_train_LOF_RUS, y_train_LOF_RUS),\n",
    "    (\"dataset_SMOTE\", X_train_smote, y_train_smote),\n",
    "    (\"dataset_ROS\", X_train_ros, y_train_ros),\n",
    "    (\"dataset_RUS\", X_train_rus, y_train_rus)\n",
    "]"
   ]
  },
  {
   "cell_type": "code",
   "execution_count": 14,
   "metadata": {},
   "outputs": [
    {
     "name": "stdout",
     "output_type": "stream",
     "text": [
      "Starting run: LO_NoneType_Enc_20250129_0328\n",
      "Completed run: LO_NoneType_Enc_20250129_0328\n",
      "🏃 View run LO_NoneType_Enc_20250129_0328 at: https://dagshub.com/REHXZ/PAI_CA2.mlflow/#/experiments/5/runs/c538c919fe7548818f95338fbfdca19e\n",
      "🧪 View experiment at: https://dagshub.com/REHXZ/PAI_CA2.mlflow/#/experiments/5\n",
      "Starting run: RA_NoneType_Enc_20250129_0328\n",
      "Completed run: RA_NoneType_Enc_20250129_0328\n",
      "🏃 View run RA_NoneType_Enc_20250129_0328 at: https://dagshub.com/REHXZ/PAI_CA2.mlflow/#/experiments/5/runs/e55d6062ccb04270811e019fe2d3af50\n",
      "🧪 View experiment at: https://dagshub.com/REHXZ/PAI_CA2.mlflow/#/experiments/5\n",
      "Starting run: LI_NoneType_Enc_20250129_0337\n",
      "[LightGBM] [Info] Number of positive: 199486, number of negative: 1611458\n",
      "[LightGBM] [Info] Auto-choosing row-wise multi-threading, the overhead of testing was 0.071599 seconds.\n",
      "You can set `force_row_wise=true` to remove the overhead.\n",
      "And if memory is not enough, you can set `force_col_wise=true`.\n",
      "[LightGBM] [Info] Total Bins 1744\n",
      "[LightGBM] [Info] Number of data points in the train set: 1810944, number of used features: 38\n",
      "[LightGBM] [Info] [binary:BoostFromScore]: pavg=0.110156 -> initscore=-2.089151\n",
      "[LightGBM] [Info] Start training from score -2.089151\n",
      "Completed run: LI_NoneType_Enc_20250129_0337\n",
      "🏃 View run LI_NoneType_Enc_20250129_0337 at: https://dagshub.com/REHXZ/PAI_CA2.mlflow/#/experiments/5/runs/f446f51aa2304da68d7460d548d22112\n",
      "🧪 View experiment at: https://dagshub.com/REHXZ/PAI_CA2.mlflow/#/experiments/5\n",
      "Starting run: GA_NoneType_Enc_20250129_0337\n",
      "Completed run: GA_NoneType_Enc_20250129_0337\n",
      "🏃 View run GA_NoneType_Enc_20250129_0337 at: https://dagshub.com/REHXZ/PAI_CA2.mlflow/#/experiments/5/runs/01484e5473124152b19d4867e98ab6f4\n",
      "🧪 View experiment at: https://dagshub.com/REHXZ/PAI_CA2.mlflow/#/experiments/5\n",
      "Starting run: DE_NoneType_Enc_20250129_0338\n",
      "Completed run: DE_NoneType_Enc_20250129_0338\n",
      "🏃 View run DE_NoneType_Enc_20250129_0338 at: https://dagshub.com/REHXZ/PAI_CA2.mlflow/#/experiments/5/runs/24a078925e0544a495920e3ae74a7270\n",
      "🧪 View experiment at: https://dagshub.com/REHXZ/PAI_CA2.mlflow/#/experiments/5\n",
      "Starting run: GR_NoneType_Enc_20250129_0338\n",
      "Completed run: GR_NoneType_Enc_20250129_0338\n",
      "🏃 View run GR_NoneType_Enc_20250129_0338 at: https://dagshub.com/REHXZ/PAI_CA2.mlflow/#/experiments/5/runs/36c80e703052477280d5380419a04171\n",
      "🧪 View experiment at: https://dagshub.com/REHXZ/PAI_CA2.mlflow/#/experiments/5\n",
      "Starting run: LO_NoneType_Enc_20250129_0348\n",
      "Completed run: LO_NoneType_Enc_20250129_0348\n",
      "🏃 View run LO_NoneType_Enc_20250129_0348 at: https://dagshub.com/REHXZ/PAI_CA2.mlflow/#/experiments/5/runs/bf8683230bd541fd8d04f27f1805bc07\n",
      "🧪 View experiment at: https://dagshub.com/REHXZ/PAI_CA2.mlflow/#/experiments/5\n",
      "Starting run: RA_NoneType_Enc_20250129_0349\n",
      "Completed run: RA_NoneType_Enc_20250129_0349\n",
      "🏃 View run RA_NoneType_Enc_20250129_0349 at: https://dagshub.com/REHXZ/PAI_CA2.mlflow/#/experiments/5/runs/5bd71050c6d2402f8b407d6c1b75c985\n",
      "🧪 View experiment at: https://dagshub.com/REHXZ/PAI_CA2.mlflow/#/experiments/5\n",
      "Starting run: LI_NoneType_Enc_20250129_0356\n",
      "[LightGBM] [Info] Number of positive: 165970, number of negative: 1463879\n",
      "[LightGBM] [Info] Auto-choosing row-wise multi-threading, the overhead of testing was 0.069872 seconds.\n",
      "You can set `force_row_wise=true` to remove the overhead.\n",
      "And if memory is not enough, you can set `force_col_wise=true`.\n",
      "[LightGBM] [Info] Total Bins 1500\n",
      "[LightGBM] [Info] Number of data points in the train set: 1629849, number of used features: 38\n",
      "[LightGBM] [Info] [binary:BoostFromScore]: pavg=0.101832 -> initscore=-2.177038\n",
      "[LightGBM] [Info] Start training from score -2.177038\n",
      "Completed run: LI_NoneType_Enc_20250129_0356\n",
      "🏃 View run LI_NoneType_Enc_20250129_0356 at: https://dagshub.com/REHXZ/PAI_CA2.mlflow/#/experiments/5/runs/9bf95dfa3c3a4aa9a47e588f585ff542\n",
      "🧪 View experiment at: https://dagshub.com/REHXZ/PAI_CA2.mlflow/#/experiments/5\n",
      "Starting run: GA_NoneType_Enc_20250129_0357\n",
      "Completed run: GA_NoneType_Enc_20250129_0357\n",
      "🏃 View run GA_NoneType_Enc_20250129_0357 at: https://dagshub.com/REHXZ/PAI_CA2.mlflow/#/experiments/5/runs/4c1fffc5f69242adb2105ae34185fa5b\n",
      "🧪 View experiment at: https://dagshub.com/REHXZ/PAI_CA2.mlflow/#/experiments/5\n",
      "Starting run: DE_NoneType_Enc_20250129_0357\n",
      "Completed run: DE_NoneType_Enc_20250129_0357\n",
      "🏃 View run DE_NoneType_Enc_20250129_0357 at: https://dagshub.com/REHXZ/PAI_CA2.mlflow/#/experiments/5/runs/0054e4e2f5b742e3887a7639ab9fdeed\n",
      "🧪 View experiment at: https://dagshub.com/REHXZ/PAI_CA2.mlflow/#/experiments/5\n",
      "Starting run: GR_NoneType_Enc_20250129_0358\n",
      "Completed run: GR_NoneType_Enc_20250129_0358\n",
      "🏃 View run GR_NoneType_Enc_20250129_0358 at: https://dagshub.com/REHXZ/PAI_CA2.mlflow/#/experiments/5/runs/a47b0a9e754947ccab170866fa5ec762\n",
      "🧪 View experiment at: https://dagshub.com/REHXZ/PAI_CA2.mlflow/#/experiments/5\n",
      "Starting run: LO_NoneType_Enc_20250129_0407\n",
      "Completed run: LO_NoneType_Enc_20250129_0407\n",
      "🏃 View run LO_NoneType_Enc_20250129_0407 at: https://dagshub.com/REHXZ/PAI_CA2.mlflow/#/experiments/5/runs/f1dce2d2873c48f2be4b604607693b6b\n",
      "🧪 View experiment at: https://dagshub.com/REHXZ/PAI_CA2.mlflow/#/experiments/5\n",
      "Starting run: RA_NoneType_Enc_20250129_0407\n",
      "Completed run: RA_NoneType_Enc_20250129_0407\n",
      "🏃 View run RA_NoneType_Enc_20250129_0407 at: https://dagshub.com/REHXZ/PAI_CA2.mlflow/#/experiments/5/runs/d0b2036d886e453381b515e52aeb9bdd\n",
      "🧪 View experiment at: https://dagshub.com/REHXZ/PAI_CA2.mlflow/#/experiments/5\n",
      "Starting run: LI_NoneType_Enc_20250129_0427\n",
      "[LightGBM] [Info] Number of positive: 1463879, number of negative: 1463879\n",
      "[LightGBM] [Info] Auto-choosing row-wise multi-threading, the overhead of testing was 0.143697 seconds.\n",
      "You can set `force_row_wise=true` to remove the overhead.\n",
      "And if memory is not enough, you can set `force_col_wise=true`.\n",
      "[LightGBM] [Info] Total Bins 1516\n",
      "[LightGBM] [Info] Number of data points in the train set: 2927758, number of used features: 38\n",
      "[LightGBM] [Info] [binary:BoostFromScore]: pavg=0.500000 -> initscore=0.000000\n",
      "Completed run: LI_NoneType_Enc_20250129_0427\n",
      "🏃 View run LI_NoneType_Enc_20250129_0427 at: https://dagshub.com/REHXZ/PAI_CA2.mlflow/#/experiments/5/runs/260a1e412906423493f5438f8f1ee653\n",
      "🧪 View experiment at: https://dagshub.com/REHXZ/PAI_CA2.mlflow/#/experiments/5\n",
      "Starting run: GA_NoneType_Enc_20250129_0427\n",
      "Completed run: GA_NoneType_Enc_20250129_0427\n",
      "🏃 View run GA_NoneType_Enc_20250129_0427 at: https://dagshub.com/REHXZ/PAI_CA2.mlflow/#/experiments/5/runs/56ac71e1f3b64f3e88986e04ab4a106d\n",
      "🧪 View experiment at: https://dagshub.com/REHXZ/PAI_CA2.mlflow/#/experiments/5\n",
      "Starting run: DE_NoneType_Enc_20250129_0428\n",
      "Completed run: DE_NoneType_Enc_20250129_0428\n",
      "🏃 View run DE_NoneType_Enc_20250129_0428 at: https://dagshub.com/REHXZ/PAI_CA2.mlflow/#/experiments/5/runs/5b06ac7ab51940d9896d8b6691e0c526\n",
      "🧪 View experiment at: https://dagshub.com/REHXZ/PAI_CA2.mlflow/#/experiments/5\n",
      "Starting run: GR_NoneType_Enc_20250129_0429\n",
      "Completed run: GR_NoneType_Enc_20250129_0429\n",
      "🏃 View run GR_NoneType_Enc_20250129_0429 at: https://dagshub.com/REHXZ/PAI_CA2.mlflow/#/experiments/5/runs/dec71364de3b4214afb94fa5c0d56dfb\n",
      "🧪 View experiment at: https://dagshub.com/REHXZ/PAI_CA2.mlflow/#/experiments/5\n",
      "Starting run: LO_NoneType_Enc_20250129_0447\n",
      "Completed run: LO_NoneType_Enc_20250129_0447\n",
      "🏃 View run LO_NoneType_Enc_20250129_0447 at: https://dagshub.com/REHXZ/PAI_CA2.mlflow/#/experiments/5/runs/695afac717604596b707e3804984e75f\n",
      "🧪 View experiment at: https://dagshub.com/REHXZ/PAI_CA2.mlflow/#/experiments/5\n",
      "Starting run: RA_NoneType_Enc_20250129_0448\n",
      "Completed run: RA_NoneType_Enc_20250129_0448\n",
      "🏃 View run RA_NoneType_Enc_20250129_0448 at: https://dagshub.com/REHXZ/PAI_CA2.mlflow/#/experiments/5/runs/220a2075d1af46cd8693a1d8b1bb6225\n",
      "🧪 View experiment at: https://dagshub.com/REHXZ/PAI_CA2.mlflow/#/experiments/5\n",
      "Starting run: LI_NoneType_Enc_20250129_0503\n",
      "[LightGBM] [Info] Number of positive: 1463879, number of negative: 1463879\n",
      "[LightGBM] [Info] Auto-choosing row-wise multi-threading, the overhead of testing was 0.139984 seconds.\n",
      "You can set `force_row_wise=true` to remove the overhead.\n",
      "And if memory is not enough, you can set `force_col_wise=true`.\n",
      "[LightGBM] [Info] Total Bins 1530\n",
      "[LightGBM] [Info] Number of data points in the train set: 2927758, number of used features: 38\n",
      "[LightGBM] [Info] [binary:BoostFromScore]: pavg=0.500000 -> initscore=0.000000\n",
      "Completed run: LI_NoneType_Enc_20250129_0503\n",
      "🏃 View run LI_NoneType_Enc_20250129_0503 at: https://dagshub.com/REHXZ/PAI_CA2.mlflow/#/experiments/5/runs/4d513726790f43a1856232d3a96f9bb1\n",
      "🧪 View experiment at: https://dagshub.com/REHXZ/PAI_CA2.mlflow/#/experiments/5\n",
      "Starting run: GA_NoneType_Enc_20250129_0503\n",
      "Completed run: GA_NoneType_Enc_20250129_0503\n",
      "🏃 View run GA_NoneType_Enc_20250129_0503 at: https://dagshub.com/REHXZ/PAI_CA2.mlflow/#/experiments/5/runs/7fe0bf5945ae469e8e3e5ba25fc19b49\n",
      "🧪 View experiment at: https://dagshub.com/REHXZ/PAI_CA2.mlflow/#/experiments/5\n",
      "Starting run: DE_NoneType_Enc_20250129_0504\n",
      "Completed run: DE_NoneType_Enc_20250129_0504\n",
      "🏃 View run DE_NoneType_Enc_20250129_0504 at: https://dagshub.com/REHXZ/PAI_CA2.mlflow/#/experiments/5/runs/2afd9296801a41769f207f198dd532e3\n",
      "🧪 View experiment at: https://dagshub.com/REHXZ/PAI_CA2.mlflow/#/experiments/5\n",
      "Starting run: GR_NoneType_Enc_20250129_0505\n",
      "Completed run: GR_NoneType_Enc_20250129_0505\n",
      "🏃 View run GR_NoneType_Enc_20250129_0505 at: https://dagshub.com/REHXZ/PAI_CA2.mlflow/#/experiments/5/runs/ffd219ce0a454d5cb02bb14525cff70c\n",
      "🧪 View experiment at: https://dagshub.com/REHXZ/PAI_CA2.mlflow/#/experiments/5\n",
      "Starting run: LO_NoneType_Enc_20250129_0521\n",
      "Completed run: LO_NoneType_Enc_20250129_0521\n",
      "🏃 View run LO_NoneType_Enc_20250129_0521 at: https://dagshub.com/REHXZ/PAI_CA2.mlflow/#/experiments/5/runs/4bca1af21ff14abebaebebd030f59da4\n",
      "🧪 View experiment at: https://dagshub.com/REHXZ/PAI_CA2.mlflow/#/experiments/5\n",
      "Starting run: RA_NoneType_Enc_20250129_0521\n",
      "Completed run: RA_NoneType_Enc_20250129_0521\n",
      "🏃 View run RA_NoneType_Enc_20250129_0521 at: https://dagshub.com/REHXZ/PAI_CA2.mlflow/#/experiments/5/runs/c03082d02fdb4629aeebd15f46e79fe0\n",
      "🧪 View experiment at: https://dagshub.com/REHXZ/PAI_CA2.mlflow/#/experiments/5\n",
      "Starting run: LI_NoneType_Enc_20250129_0523\n",
      "[LightGBM] [Info] Number of positive: 165970, number of negative: 165970\n",
      "[LightGBM] [Info] Auto-choosing row-wise multi-threading, the overhead of testing was 0.016520 seconds.\n",
      "You can set `force_row_wise=true` to remove the overhead.\n",
      "And if memory is not enough, you can set `force_col_wise=true`.\n",
      "[LightGBM] [Info] Total Bins 1519\n",
      "[LightGBM] [Info] Number of data points in the train set: 331940, number of used features: 38\n",
      "[LightGBM] [Info] [binary:BoostFromScore]: pavg=0.500000 -> initscore=0.000000\n",
      "Completed run: LI_NoneType_Enc_20250129_0523\n",
      "🏃 View run LI_NoneType_Enc_20250129_0523 at: https://dagshub.com/REHXZ/PAI_CA2.mlflow/#/experiments/5/runs/a30081bdcfcb489dbf19edaaf03a2337\n",
      "🧪 View experiment at: https://dagshub.com/REHXZ/PAI_CA2.mlflow/#/experiments/5\n",
      "Starting run: GA_NoneType_Enc_20250129_0523\n",
      "Completed run: GA_NoneType_Enc_20250129_0523\n",
      "🏃 View run GA_NoneType_Enc_20250129_0523 at: https://dagshub.com/REHXZ/PAI_CA2.mlflow/#/experiments/5/runs/1787bd8ed20748cda994272296851678\n",
      "🧪 View experiment at: https://dagshub.com/REHXZ/PAI_CA2.mlflow/#/experiments/5\n",
      "Starting run: DE_NoneType_Enc_20250129_0524\n",
      "Completed run: DE_NoneType_Enc_20250129_0524\n",
      "🏃 View run DE_NoneType_Enc_20250129_0524 at: https://dagshub.com/REHXZ/PAI_CA2.mlflow/#/experiments/5/runs/992e046c5ab147f8ab4ab3c95e1168d8\n",
      "🧪 View experiment at: https://dagshub.com/REHXZ/PAI_CA2.mlflow/#/experiments/5\n",
      "Starting run: GR_NoneType_Enc_20250129_0524\n",
      "Completed run: GR_NoneType_Enc_20250129_0524\n",
      "🏃 View run GR_NoneType_Enc_20250129_0524 at: https://dagshub.com/REHXZ/PAI_CA2.mlflow/#/experiments/5/runs/e4020dcd9a9a493ca6b7617aa5ec779f\n",
      "🧪 View experiment at: https://dagshub.com/REHXZ/PAI_CA2.mlflow/#/experiments/5\n",
      "Starting run: LO_NoneType_Enc_20250129_0526\n",
      "Completed run: LO_NoneType_Enc_20250129_0526\n",
      "🏃 View run LO_NoneType_Enc_20250129_0526 at: https://dagshub.com/REHXZ/PAI_CA2.mlflow/#/experiments/5/runs/685b30192a9c4c51b29bfa5df5a79878\n",
      "🧪 View experiment at: https://dagshub.com/REHXZ/PAI_CA2.mlflow/#/experiments/5\n",
      "Starting run: RA_NoneType_Enc_20250129_0526\n",
      "Completed run: RA_NoneType_Enc_20250129_0526\n",
      "🏃 View run RA_NoneType_Enc_20250129_0526 at: https://dagshub.com/REHXZ/PAI_CA2.mlflow/#/experiments/5/runs/62f3e1a666e946a9a086d04e33566ab9\n",
      "🧪 View experiment at: https://dagshub.com/REHXZ/PAI_CA2.mlflow/#/experiments/5\n",
      "Starting run: LI_NoneType_Enc_20250129_0535\n",
      "[LightGBM] [Info] Number of positive: 189201, number of negative: 1591701\n",
      "[LightGBM] [Info] Auto-choosing row-wise multi-threading, the overhead of testing was 0.061996 seconds.\n",
      "You can set `force_row_wise=true` to remove the overhead.\n",
      "And if memory is not enough, you can set `force_col_wise=true`.\n",
      "[LightGBM] [Info] Total Bins 1703\n",
      "[LightGBM] [Info] Number of data points in the train set: 1780902, number of used features: 38\n",
      "[LightGBM] [Info] [binary:BoostFromScore]: pavg=0.106239 -> initscore=-2.129749\n",
      "[LightGBM] [Info] Start training from score -2.129749\n",
      "Completed run: LI_NoneType_Enc_20250129_0535\n",
      "🏃 View run LI_NoneType_Enc_20250129_0535 at: https://dagshub.com/REHXZ/PAI_CA2.mlflow/#/experiments/5/runs/092647765701453e93792a5978ac90e3\n",
      "🧪 View experiment at: https://dagshub.com/REHXZ/PAI_CA2.mlflow/#/experiments/5\n",
      "Starting run: GA_NoneType_Enc_20250129_0535\n",
      "Completed run: GA_NoneType_Enc_20250129_0535\n",
      "🏃 View run GA_NoneType_Enc_20250129_0535 at: https://dagshub.com/REHXZ/PAI_CA2.mlflow/#/experiments/5/runs/9d0ac894a6944dbe8686a0bdd06b3efd\n",
      "🧪 View experiment at: https://dagshub.com/REHXZ/PAI_CA2.mlflow/#/experiments/5\n",
      "Starting run: DE_NoneType_Enc_20250129_0535\n",
      "Completed run: DE_NoneType_Enc_20250129_0535\n",
      "🏃 View run DE_NoneType_Enc_20250129_0535 at: https://dagshub.com/REHXZ/PAI_CA2.mlflow/#/experiments/5/runs/690d789355704bb3a7c2ee84b8375baf\n",
      "🧪 View experiment at: https://dagshub.com/REHXZ/PAI_CA2.mlflow/#/experiments/5\n",
      "Starting run: GR_NoneType_Enc_20250129_0536\n",
      "Completed run: GR_NoneType_Enc_20250129_0536\n",
      "🏃 View run GR_NoneType_Enc_20250129_0536 at: https://dagshub.com/REHXZ/PAI_CA2.mlflow/#/experiments/5/runs/af299964cc0443249a8ac7ec9df8b739\n",
      "🧪 View experiment at: https://dagshub.com/REHXZ/PAI_CA2.mlflow/#/experiments/5\n",
      "Starting run: LO_NoneType_Enc_20250129_0546\n",
      "Completed run: LO_NoneType_Enc_20250129_0546\n",
      "🏃 View run LO_NoneType_Enc_20250129_0546 at: https://dagshub.com/REHXZ/PAI_CA2.mlflow/#/experiments/5/runs/c93c5fa06c574bf29f256bc5dd208319\n",
      "🧪 View experiment at: https://dagshub.com/REHXZ/PAI_CA2.mlflow/#/experiments/5\n",
      "Starting run: RA_NoneType_Enc_20250129_0547\n",
      "Completed run: RA_NoneType_Enc_20250129_0547\n",
      "🏃 View run RA_NoneType_Enc_20250129_0547 at: https://dagshub.com/REHXZ/PAI_CA2.mlflow/#/experiments/5/runs/ec7fdb0cee19480cba6582a4483ad7dd\n",
      "🧪 View experiment at: https://dagshub.com/REHXZ/PAI_CA2.mlflow/#/experiments/5\n",
      "Starting run: LI_NoneType_Enc_20250129_0607\n",
      "[LightGBM] [Info] Number of positive: 1591701, number of negative: 1591701\n",
      "[LightGBM] [Info] Auto-choosing row-wise multi-threading, the overhead of testing was 0.176089 seconds.\n",
      "You can set `force_row_wise=true` to remove the overhead.\n",
      "And if memory is not enough, you can set `force_col_wise=true`.\n",
      "[LightGBM] [Info] Total Bins 1725\n",
      "[LightGBM] [Info] Number of data points in the train set: 3183402, number of used features: 38\n",
      "[LightGBM] [Info] [binary:BoostFromScore]: pavg=0.500000 -> initscore=0.000000\n",
      "Completed run: LI_NoneType_Enc_20250129_0607\n",
      "🏃 View run LI_NoneType_Enc_20250129_0607 at: https://dagshub.com/REHXZ/PAI_CA2.mlflow/#/experiments/5/runs/272949aa67884bd08f1c80fb7d652a8e\n",
      "🧪 View experiment at: https://dagshub.com/REHXZ/PAI_CA2.mlflow/#/experiments/5\n",
      "Starting run: GA_NoneType_Enc_20250129_0608\n",
      "Completed run: GA_NoneType_Enc_20250129_0608\n",
      "🏃 View run GA_NoneType_Enc_20250129_0608 at: https://dagshub.com/REHXZ/PAI_CA2.mlflow/#/experiments/5/runs/73905d88f15243dd98725cd5eac4c89d\n",
      "🧪 View experiment at: https://dagshub.com/REHXZ/PAI_CA2.mlflow/#/experiments/5\n",
      "Starting run: DE_NoneType_Enc_20250129_0608\n",
      "Completed run: DE_NoneType_Enc_20250129_0608\n",
      "🏃 View run DE_NoneType_Enc_20250129_0608 at: https://dagshub.com/REHXZ/PAI_CA2.mlflow/#/experiments/5/runs/8e7cd4d5176d46faac5868b8cafb935c\n",
      "🧪 View experiment at: https://dagshub.com/REHXZ/PAI_CA2.mlflow/#/experiments/5\n",
      "Starting run: GR_NoneType_Enc_20250129_0609\n",
      "Completed run: GR_NoneType_Enc_20250129_0609\n",
      "🏃 View run GR_NoneType_Enc_20250129_0609 at: https://dagshub.com/REHXZ/PAI_CA2.mlflow/#/experiments/5/runs/463543c9481a488b88f148483853e415\n",
      "🧪 View experiment at: https://dagshub.com/REHXZ/PAI_CA2.mlflow/#/experiments/5\n",
      "Starting run: LO_NoneType_Enc_20250129_0629\n",
      "Completed run: LO_NoneType_Enc_20250129_0629\n",
      "🏃 View run LO_NoneType_Enc_20250129_0629 at: https://dagshub.com/REHXZ/PAI_CA2.mlflow/#/experiments/5/runs/4ae77c192d0a49d1a1c9846f28e1f1ed\n",
      "🧪 View experiment at: https://dagshub.com/REHXZ/PAI_CA2.mlflow/#/experiments/5\n",
      "Starting run: RA_NoneType_Enc_20250129_0630\n",
      "Completed run: RA_NoneType_Enc_20250129_0630\n",
      "🏃 View run RA_NoneType_Enc_20250129_0630 at: https://dagshub.com/REHXZ/PAI_CA2.mlflow/#/experiments/5/runs/5e9f74b844134600a7e6fb1be9632596\n",
      "🧪 View experiment at: https://dagshub.com/REHXZ/PAI_CA2.mlflow/#/experiments/5\n",
      "Starting run: LI_NoneType_Enc_20250129_0646\n",
      "[LightGBM] [Info] Number of positive: 1591701, number of negative: 1591701\n",
      "[LightGBM] [Info] Auto-choosing row-wise multi-threading, the overhead of testing was 0.147259 seconds.\n",
      "You can set `force_row_wise=true` to remove the overhead.\n",
      "And if memory is not enough, you can set `force_col_wise=true`.\n",
      "[LightGBM] [Info] Total Bins 1719\n",
      "[LightGBM] [Info] Number of data points in the train set: 3183402, number of used features: 38\n",
      "[LightGBM] [Info] [binary:BoostFromScore]: pavg=0.500000 -> initscore=0.000000\n",
      "Completed run: LI_NoneType_Enc_20250129_0646\n",
      "🏃 View run LI_NoneType_Enc_20250129_0646 at: https://dagshub.com/REHXZ/PAI_CA2.mlflow/#/experiments/5/runs/002ceded392b461680a272741394cfd0\n",
      "🧪 View experiment at: https://dagshub.com/REHXZ/PAI_CA2.mlflow/#/experiments/5\n",
      "Starting run: GA_NoneType_Enc_20250129_0646\n",
      "Completed run: GA_NoneType_Enc_20250129_0646\n",
      "🏃 View run GA_NoneType_Enc_20250129_0646 at: https://dagshub.com/REHXZ/PAI_CA2.mlflow/#/experiments/5/runs/09a5255bc81f4eec815097aa269d7b5f\n",
      "🧪 View experiment at: https://dagshub.com/REHXZ/PAI_CA2.mlflow/#/experiments/5\n",
      "Starting run: DE_NoneType_Enc_20250129_0647\n",
      "Completed run: DE_NoneType_Enc_20250129_0647\n",
      "🏃 View run DE_NoneType_Enc_20250129_0647 at: https://dagshub.com/REHXZ/PAI_CA2.mlflow/#/experiments/5/runs/4341122dfe0a454d9a07295bd5874dfa\n",
      "🧪 View experiment at: https://dagshub.com/REHXZ/PAI_CA2.mlflow/#/experiments/5\n",
      "Starting run: GR_NoneType_Enc_20250129_0648\n",
      "Completed run: GR_NoneType_Enc_20250129_0648\n",
      "🏃 View run GR_NoneType_Enc_20250129_0648 at: https://dagshub.com/REHXZ/PAI_CA2.mlflow/#/experiments/5/runs/c34dd3660bbe488f8176f4b98aa538c8\n",
      "🧪 View experiment at: https://dagshub.com/REHXZ/PAI_CA2.mlflow/#/experiments/5\n",
      "Starting run: LO_NoneType_Enc_20250129_0707\n",
      "Completed run: LO_NoneType_Enc_20250129_0707\n",
      "🏃 View run LO_NoneType_Enc_20250129_0707 at: https://dagshub.com/REHXZ/PAI_CA2.mlflow/#/experiments/5/runs/6a056f78480642dd8dab0d0bb1586506\n",
      "🧪 View experiment at: https://dagshub.com/REHXZ/PAI_CA2.mlflow/#/experiments/5\n",
      "Starting run: RA_NoneType_Enc_20250129_0708\n",
      "Completed run: RA_NoneType_Enc_20250129_0708\n",
      "🏃 View run RA_NoneType_Enc_20250129_0708 at: https://dagshub.com/REHXZ/PAI_CA2.mlflow/#/experiments/5/runs/fa60ecbfb6f74799940d1b568ca631ad\n",
      "🧪 View experiment at: https://dagshub.com/REHXZ/PAI_CA2.mlflow/#/experiments/5\n",
      "Starting run: LI_NoneType_Enc_20250129_0710\n",
      "[LightGBM] [Info] Number of positive: 189201, number of negative: 189201\n",
      "[LightGBM] [Info] Auto-choosing row-wise multi-threading, the overhead of testing was 0.019276 seconds.\n",
      "You can set `force_row_wise=true` to remove the overhead.\n",
      "And if memory is not enough, you can set `force_col_wise=true`.\n",
      "[LightGBM] [Info] Total Bins 1719\n",
      "[LightGBM] [Info] Number of data points in the train set: 378402, number of used features: 38\n",
      "[LightGBM] [Info] [binary:BoostFromScore]: pavg=0.500000 -> initscore=0.000000\n",
      "Completed run: LI_NoneType_Enc_20250129_0710\n",
      "🏃 View run LI_NoneType_Enc_20250129_0710 at: https://dagshub.com/REHXZ/PAI_CA2.mlflow/#/experiments/5/runs/e6e3bf45111d4c5dba0a21c8e8053c58\n",
      "🧪 View experiment at: https://dagshub.com/REHXZ/PAI_CA2.mlflow/#/experiments/5\n",
      "Starting run: GA_NoneType_Enc_20250129_0711\n",
      "Completed run: GA_NoneType_Enc_20250129_0711\n",
      "🏃 View run GA_NoneType_Enc_20250129_0711 at: https://dagshub.com/REHXZ/PAI_CA2.mlflow/#/experiments/5/runs/160d9544d791450ba43eb3632e4abf86\n",
      "🧪 View experiment at: https://dagshub.com/REHXZ/PAI_CA2.mlflow/#/experiments/5\n",
      "Starting run: DE_NoneType_Enc_20250129_0711\n",
      "Completed run: DE_NoneType_Enc_20250129_0711\n",
      "🏃 View run DE_NoneType_Enc_20250129_0711 at: https://dagshub.com/REHXZ/PAI_CA2.mlflow/#/experiments/5/runs/1d8bd6749ba946a29afdc4d082715f60\n",
      "🧪 View experiment at: https://dagshub.com/REHXZ/PAI_CA2.mlflow/#/experiments/5\n",
      "Starting run: GR_NoneType_Enc_20250129_0711\n",
      "Completed run: GR_NoneType_Enc_20250129_0711\n",
      "🏃 View run GR_NoneType_Enc_20250129_0711 at: https://dagshub.com/REHXZ/PAI_CA2.mlflow/#/experiments/5/runs/4afce8fb4bcf4c3db166c2e303f65e81\n",
      "🧪 View experiment at: https://dagshub.com/REHXZ/PAI_CA2.mlflow/#/experiments/5\n",
      "Starting run: LO_NoneType_Enc_20250129_0713\n",
      "Completed run: LO_NoneType_Enc_20250129_0713\n",
      "🏃 View run LO_NoneType_Enc_20250129_0713 at: https://dagshub.com/REHXZ/PAI_CA2.mlflow/#/experiments/5/runs/ef99bc0f3db64e479d90514cf6abe792\n",
      "🧪 View experiment at: https://dagshub.com/REHXZ/PAI_CA2.mlflow/#/experiments/5\n",
      "Starting run: RA_NoneType_Enc_20250129_0714\n",
      "Completed run: RA_NoneType_Enc_20250129_0714\n",
      "🏃 View run RA_NoneType_Enc_20250129_0714 at: https://dagshub.com/REHXZ/PAI_CA2.mlflow/#/experiments/5/runs/6c6b473e9aee48da983529cbe33fdbb2\n",
      "🧪 View experiment at: https://dagshub.com/REHXZ/PAI_CA2.mlflow/#/experiments/5\n",
      "Starting run: LI_NoneType_Enc_20250129_0734\n",
      "[LightGBM] [Info] Number of positive: 1611458, number of negative: 1611458\n",
      "[LightGBM] [Info] Auto-choosing row-wise multi-threading, the overhead of testing was 0.131124 seconds.\n",
      "You can set `force_row_wise=true` to remove the overhead.\n",
      "And if memory is not enough, you can set `force_col_wise=true`.\n",
      "[LightGBM] [Info] Total Bins 1744\n",
      "[LightGBM] [Info] Number of data points in the train set: 3222916, number of used features: 26\n",
      "[LightGBM] [Info] [binary:BoostFromScore]: pavg=0.500000 -> initscore=0.000000\n",
      "Completed run: LI_NoneType_Enc_20250129_0734\n",
      "🏃 View run LI_NoneType_Enc_20250129_0734 at: https://dagshub.com/REHXZ/PAI_CA2.mlflow/#/experiments/5/runs/0eb8228d8e7a4f989e082f1acdd8ed23\n",
      "🧪 View experiment at: https://dagshub.com/REHXZ/PAI_CA2.mlflow/#/experiments/5\n",
      "Starting run: GA_NoneType_Enc_20250129_0735\n",
      "Completed run: GA_NoneType_Enc_20250129_0735\n",
      "🏃 View run GA_NoneType_Enc_20250129_0735 at: https://dagshub.com/REHXZ/PAI_CA2.mlflow/#/experiments/5/runs/129ca7c6e74d48caa95be6cab7ab72c2\n",
      "🧪 View experiment at: https://dagshub.com/REHXZ/PAI_CA2.mlflow/#/experiments/5\n",
      "Starting run: DE_NoneType_Enc_20250129_0735\n",
      "Completed run: DE_NoneType_Enc_20250129_0735\n",
      "🏃 View run DE_NoneType_Enc_20250129_0735 at: https://dagshub.com/REHXZ/PAI_CA2.mlflow/#/experiments/5/runs/985c47350750426d94e5eb84da3d9a0c\n",
      "🧪 View experiment at: https://dagshub.com/REHXZ/PAI_CA2.mlflow/#/experiments/5\n",
      "Starting run: GR_NoneType_Enc_20250129_0736\n",
      "Completed run: GR_NoneType_Enc_20250129_0736\n",
      "🏃 View run GR_NoneType_Enc_20250129_0736 at: https://dagshub.com/REHXZ/PAI_CA2.mlflow/#/experiments/5/runs/d0576a00922c49428269c9b02add89a1\n",
      "🧪 View experiment at: https://dagshub.com/REHXZ/PAI_CA2.mlflow/#/experiments/5\n",
      "Starting run: LO_NoneType_Enc_20250129_0753\n",
      "Completed run: LO_NoneType_Enc_20250129_0753\n",
      "🏃 View run LO_NoneType_Enc_20250129_0753 at: https://dagshub.com/REHXZ/PAI_CA2.mlflow/#/experiments/5/runs/3d0e20cb730d4ac4adf4f9756d2dde91\n",
      "🧪 View experiment at: https://dagshub.com/REHXZ/PAI_CA2.mlflow/#/experiments/5\n",
      "Starting run: RA_NoneType_Enc_20250129_0754\n",
      "Completed run: RA_NoneType_Enc_20250129_0754\n",
      "🏃 View run RA_NoneType_Enc_20250129_0754 at: https://dagshub.com/REHXZ/PAI_CA2.mlflow/#/experiments/5/runs/7b11d4ce347946788eff8c6294085b83\n",
      "🧪 View experiment at: https://dagshub.com/REHXZ/PAI_CA2.mlflow/#/experiments/5\n",
      "Starting run: LI_NoneType_Enc_20250129_0809\n",
      "[LightGBM] [Info] Number of positive: 1611458, number of negative: 1611458\n",
      "[LightGBM] [Info] Auto-choosing row-wise multi-threading, the overhead of testing was 0.161312 seconds.\n",
      "You can set `force_row_wise=true` to remove the overhead.\n",
      "And if memory is not enough, you can set `force_col_wise=true`.\n",
      "[LightGBM] [Info] Total Bins 1748\n",
      "[LightGBM] [Info] Number of data points in the train set: 3222916, number of used features: 26\n",
      "[LightGBM] [Info] [binary:BoostFromScore]: pavg=0.500000 -> initscore=0.000000\n",
      "Completed run: LI_NoneType_Enc_20250129_0809\n",
      "🏃 View run LI_NoneType_Enc_20250129_0809 at: https://dagshub.com/REHXZ/PAI_CA2.mlflow/#/experiments/5/runs/99cf05b0afea46cd828355ffb562fdf9\n",
      "🧪 View experiment at: https://dagshub.com/REHXZ/PAI_CA2.mlflow/#/experiments/5\n",
      "Starting run: GA_NoneType_Enc_20250129_0810\n",
      "Completed run: GA_NoneType_Enc_20250129_0810\n",
      "🏃 View run GA_NoneType_Enc_20250129_0810 at: https://dagshub.com/REHXZ/PAI_CA2.mlflow/#/experiments/5/runs/509cff9d771140ffbb10dbbac8234aca\n",
      "🧪 View experiment at: https://dagshub.com/REHXZ/PAI_CA2.mlflow/#/experiments/5\n",
      "Starting run: DE_NoneType_Enc_20250129_0810\n",
      "Completed run: DE_NoneType_Enc_20250129_0810\n",
      "🏃 View run DE_NoneType_Enc_20250129_0810 at: https://dagshub.com/REHXZ/PAI_CA2.mlflow/#/experiments/5/runs/a3ed36bc9dfb4a04945d2d3befe6d3eb\n",
      "🧪 View experiment at: https://dagshub.com/REHXZ/PAI_CA2.mlflow/#/experiments/5\n",
      "Starting run: GR_NoneType_Enc_20250129_0811\n",
      "Completed run: GR_NoneType_Enc_20250129_0811\n",
      "🏃 View run GR_NoneType_Enc_20250129_0811 at: https://dagshub.com/REHXZ/PAI_CA2.mlflow/#/experiments/5/runs/134cc669e3fe43f0b45df5cd53178a33\n",
      "🧪 View experiment at: https://dagshub.com/REHXZ/PAI_CA2.mlflow/#/experiments/5\n",
      "Starting run: LO_NoneType_Enc_20250129_0827\n",
      "Completed run: LO_NoneType_Enc_20250129_0827\n",
      "🏃 View run LO_NoneType_Enc_20250129_0827 at: https://dagshub.com/REHXZ/PAI_CA2.mlflow/#/experiments/5/runs/3ea21040bbe4456f96b00afef7c9a4b4\n",
      "🧪 View experiment at: https://dagshub.com/REHXZ/PAI_CA2.mlflow/#/experiments/5\n",
      "Starting run: RA_NoneType_Enc_20250129_0827\n",
      "Completed run: RA_NoneType_Enc_20250129_0827\n",
      "🏃 View run RA_NoneType_Enc_20250129_0827 at: https://dagshub.com/REHXZ/PAI_CA2.mlflow/#/experiments/5/runs/281398f5626d4007aaa922c4d453cbab\n",
      "🧪 View experiment at: https://dagshub.com/REHXZ/PAI_CA2.mlflow/#/experiments/5\n",
      "Starting run: LI_NoneType_Enc_20250129_0829\n",
      "[LightGBM] [Info] Number of positive: 199486, number of negative: 199486\n",
      "[LightGBM] [Info] Auto-choosing row-wise multi-threading, the overhead of testing was 0.018125 seconds.\n",
      "You can set `force_row_wise=true` to remove the overhead.\n",
      "And if memory is not enough, you can set `force_col_wise=true`.\n",
      "[LightGBM] [Info] Total Bins 1745\n",
      "[LightGBM] [Info] Number of data points in the train set: 398972, number of used features: 26\n",
      "[LightGBM] [Info] [binary:BoostFromScore]: pavg=0.500000 -> initscore=0.000000\n",
      "Completed run: LI_NoneType_Enc_20250129_0829\n",
      "🏃 View run LI_NoneType_Enc_20250129_0829 at: https://dagshub.com/REHXZ/PAI_CA2.mlflow/#/experiments/5/runs/9835442f1dec42e9b10a25a92179a968\n",
      "🧪 View experiment at: https://dagshub.com/REHXZ/PAI_CA2.mlflow/#/experiments/5\n",
      "Starting run: GA_NoneType_Enc_20250129_0829\n",
      "Completed run: GA_NoneType_Enc_20250129_0829\n",
      "🏃 View run GA_NoneType_Enc_20250129_0829 at: https://dagshub.com/REHXZ/PAI_CA2.mlflow/#/experiments/5/runs/2f5b64b23e9b4a1aba25be01cc6c7afc\n",
      "🧪 View experiment at: https://dagshub.com/REHXZ/PAI_CA2.mlflow/#/experiments/5\n",
      "Starting run: DE_NoneType_Enc_20250129_0830\n",
      "Completed run: DE_NoneType_Enc_20250129_0830\n",
      "🏃 View run DE_NoneType_Enc_20250129_0830 at: https://dagshub.com/REHXZ/PAI_CA2.mlflow/#/experiments/5/runs/1a3822a785264548a540964ee811ab67\n",
      "🧪 View experiment at: https://dagshub.com/REHXZ/PAI_CA2.mlflow/#/experiments/5\n",
      "Starting run: GR_NoneType_Enc_20250129_0830\n",
      "Completed run: GR_NoneType_Enc_20250129_0830\n",
      "🏃 View run GR_NoneType_Enc_20250129_0830 at: https://dagshub.com/REHXZ/PAI_CA2.mlflow/#/experiments/5/runs/e2a8b97d04ac4d828f6535abc4bd4e37\n",
      "🧪 View experiment at: https://dagshub.com/REHXZ/PAI_CA2.mlflow/#/experiments/5\n"
     ]
    }
   ],
   "source": [
    "# Initialize the tracker\n",
    "from ExperimentTrackers import PhaseTwoExperimentTracker\n",
    "tracker = PhaseTwoExperimentTracker(\"Phase2_V2\")\n",
    "\n",
    "# Load checkpoint file\n",
    "tracker.completed_runs\n",
    "\n",
    "# Run experiments with checkpointing\n",
    "tracker.run_experiments(\n",
    "    datasets=datasets,\n",
    "    experiment_combinations=experiment_combinations,\n",
    "    X_test=X_test,\n",
    "    y_test=y_test,\n",
    "    numeric_columns=numeric_columns,\n",
    "    categorical_cols=categorical_cols\n",
    ")"
   ]
  }
 ],
 "metadata": {
  "kernelspec": {
   "display_name": "PAI_env",
   "language": "python",
   "name": "python3"
  },
  "language_info": {
   "codemirror_mode": {
    "name": "ipython",
    "version": 3
   },
   "file_extension": ".py",
   "mimetype": "text/x-python",
   "name": "python",
   "nbconvert_exporter": "python",
   "pygments_lexer": "ipython3",
   "version": "3.10.16"
  }
 },
 "nbformat": 4,
 "nbformat_minor": 2
}
