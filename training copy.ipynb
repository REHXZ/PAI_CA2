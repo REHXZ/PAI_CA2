{
 "cells": [
  {
   "cell_type": "code",
   "execution_count": null,
   "metadata": {},
   "outputs": [],
   "source": [
    "import dask.dataframe as dd\n",
    "import pandas as pd\n",
    "import numpy as np\n",
    "import os\n",
    "import itertools\n",
    "from dask.diagnostics import ProgressBar\n",
    "from dask.distributed import Client\n",
    "from ExperimentTracker2 import PhaseOneExperimentTracker\n",
    "from sklearn.linear_model import LogisticRegression\n",
    "from sklearn.preprocessing import StandardScaler, MinMaxScaler, RobustScaler, OneHotEncoder\n",
    "from sklearn.ensemble import RandomForestClassifier, GradientBoostingClassifier\n",
    "from lightgbm import LGBMClassifier\n",
    "from sklearn.naive_bayes import GaussianNB\n",
    "from sklearn.tree import DecisionTreeClassifier\n",
    "from dask_ml.model_selection import train_test_split\n",
    "\n",
    "# Initialize Dask client for parallel processing\n",
    "client = Client()"
   ]
  },
  {
   "cell_type": "code",
   "execution_count": null,
   "metadata": {},
   "outputs": [],
   "source": [
    "# Load large dataset with Dask\n",
    "df = dd.read_csv(\"merged_data.csv\")"
   ]
  },
  {
   "cell_type": "code",
   "execution_count": null,
   "metadata": {},
   "outputs": [],
   "source": [
    "# Convert data types for memory efficiency\n",
    "def convert_dtypes(df):\n",
    "    df['order_value'] = df['order_value'].astype('float32')\n",
    "    df['refund_value'] = df['refund_value'].astype('float32')\n",
    "    df['num_items_ordered'] = df['num_items_ordered'].astype(float).round().astype('uint8')\n",
    "    df['order_date'] = dd.to_datetime(df['order_date'])\n",
    "    df['first_order_datetime'] = dd.to_datetime(df['first_order_datetime'])\n",
    "    df[['country_code', 'collect_type', 'payment_method']] = df[['country_code', 'collect_type', 'payment_method']].astype('category')\n",
    "    return df\n",
    "\n",
    "df = convert_dtypes(df)"
   ]
  },
  {
   "cell_type": "code",
   "execution_count": null,
   "metadata": {},
   "outputs": [],
   "source": [
    "# Payment method grouping\n",
    "def group_payment_methods(payment_method):\n",
    "    mapping = {\n",
    "        'CreditCard': ['GenericCreditCard', 'CybersourceCreditCard', 'CybersourceApplePay', 'CreditCard'],\n",
    "        'DigitalWallet': ['GCash', 'AFbKash', 'JazzCashWallet', 'AdyenBoost', 'PayPal'],\n",
    "        'BankTransfer': ['XenditDirectDebit', 'RazerOnlineBanking'],\n",
    "        'PaymentOnDelivery': ['Invoice', 'PayOnDelivery']\n",
    "    }\n",
    "    for key, values in mapping.items():\n",
    "        if payment_method in values:\n",
    "            return key\n",
    "    return 'Others'\n",
    "\n",
    "df['payment_method'] = df['payment_method'].map(group_payment_methods)"
   ]
  },
  {
   "cell_type": "code",
   "execution_count": null,
   "metadata": {},
   "outputs": [],
   "source": [
    "# Date transformations\n",
    "def date_transformations(df):\n",
    "    df['days_since_first_order'] = (df['order_date'] - df['first_order_datetime']).dt.days\n",
    "    df = df.drop(columns=['first_order_datetime'])\n",
    "    df['order_date_day_of_week'] = df['order_date'].dt.dayofweek\n",
    "    df['order_date_day'] = df['order_date'].dt.day\n",
    "    df['order_date_month'] = df['order_date'].dt.month\n",
    "    df['order_date_year'] = df['order_date'].dt.year\n",
    "    df = df.drop(columns=['order_date'])\n",
    "    return df\n",
    "\n",
    "df = date_transformations(df)\n",
    "df = df.drop(columns=['order_id', 'customer_id'])"
   ]
  },
  {
   "cell_type": "code",
   "execution_count": null,
   "metadata": {},
   "outputs": [],
   "source": [
    "# Split data\n",
    "X = df.drop(columns=['is_fraud'])\n",
    "y = df['is_fraud']\n",
    "X_train, X_test, y_train, y_test = train_test_split(X, y, test_size=0.2, random_state=42)\n"
   ]
  },
  {
   "cell_type": "code",
   "execution_count": null,
   "metadata": {},
   "outputs": [],
   "source": [
    "# Define experiment configurations\n",
    "search_space = {\n",
    "    'scaler': [None, StandardScaler(), MinMaxScaler(), RobustScaler()],\n",
    "    'encode': [{'apply': True, 'columns': ['categorical_col']}],\n",
    "    'models': [\n",
    "        {'name': 'LogisticRegression', 'instance': LogisticRegression()},\n",
    "        {'name': 'RandomForest', 'instance': RandomForestClassifier()},\n",
    "        {'name': 'LightGBM', 'instance': LGBMClassifier()},\n",
    "        {'name': 'GaussianNB', 'instance': GaussianNB()},\n",
    "        {'name': 'DecisionTree', 'instance': DecisionTreeClassifier()},\n",
    "        {'name': 'GradientBoosting', 'instance': GradientBoostingClassifier()},\n",
    "    ]\n",
    "}\n",
    "\n",
    "# Generate all combinations\n",
    "keys, values = zip(*search_space.items())\n",
    "experiment_combinations = [dict(zip(keys, v)) for v in itertools.product(*values)]\n",
    "\n",
    "categorical_cols = ['payment_method', 'country_code', 'collect_type']\n",
    "numeric_columns = ['order_value', 'refund_value', 'num_items_ordered', 'days_since_first_order',\n",
    "                   'order_date_day_of_week', 'order_date_day', 'order_date_month', 'order_date_year']"
   ]
  },
  {
   "cell_type": "code",
   "execution_count": null,
   "metadata": {},
   "outputs": [],
   "source": [
    "print(len(experiment_combinations))"
   ]
  },
  {
   "cell_type": "code",
   "execution_count": null,
   "metadata": {},
   "outputs": [],
   "source": [
    "print(experiment_combinations,X_train.shape,y_train.shape,X_test.shape,y_test.shape,numeric_columns,categorical_cols)"
   ]
  },
  {
   "cell_type": "code",
   "execution_count": null,
   "metadata": {},
   "outputs": [],
   "source": [
    "from ExperimentTracker2 import PhaseOneExperimentTracker"
   ]
  },
  {
   "cell_type": "code",
   "execution_count": null,
   "metadata": {},
   "outputs": [],
   "source": [
    "# client = Client(local_directory=\"dask_tmp\")\n",
    "\n",
    "# X_train_future = client.scatter(X_train, broadcast=True)\n",
    "# y_train_future = client.scatter(y_train, broadcast=True)\n",
    "# X_test_future = client.scatter(X_test, broadcast=True)\n",
    "# y_test_future = client.scatter(y_test, broadcast=True)"
   ]
  },
  {
   "cell_type": "code",
   "execution_count": null,
   "metadata": {},
   "outputs": [],
   "source": [
    "# # Initialize tracker and run experiments\n",
    "# tracker = PhaseOneExperimentTracker(\"Phase-1 (Final)\")\n",
    "# tracker.run_experiments(experiment_combinations, X_train, y_train, X_test, y_test, numeric_columns, categorical_cols)"
   ]
  },
  {
   "cell_type": "markdown",
   "metadata": {},
   "source": [
    "---"
   ]
  },
  {
   "cell_type": "code",
   "execution_count": null,
   "metadata": {},
   "outputs": [],
   "source": [
    "# Load datasets\n",
    "X_train = dd.read_csv('./data/X_train.csv')\n",
    "y_train = dd.read_csv('./data/y_train.csv')\n",
    "\n",
    "X_test = dd.read_csv('./data/X_test.csv')\n",
    "y_test = dd.read_csv('./data/y_test.csv')\n",
    "\n",
    "X_train_ISO = dd.read_csv('./data/X_train_ISO.csv')\n",
    "y_train_ISO = dd.read_csv('./data/y_train_ISO.csv')\n",
    "\n",
    "X_train_ISO_SMOTE = dd.read_csv('./data/X_train_ISO_smote.csv')\n",
    "y_train_ISO_SMOTE = dd.read_csv('./data/y_train_ISO_smote.csv')\n",
    "\n",
    "X_train_ISO_ROS = dd.read_csv('./data/X_train_ISO_ros.csv')\n",
    "y_train_ISO_ROS = dd.read_csv('./data/y_train_ISO_ros.csv')\n",
    "\n",
    "X_train_ISO_RUS = dd.read_csv('./data/X_train_ISO_rus.csv')\n",
    "y_train_ISO_RUS = dd.read_csv('./data/y_train_ISO_rus.csv')\n",
    "\n",
    "X_train_LOF = dd.read_csv('./data/X_train_LOF.csv')\n",
    "y_train_LOF = dd.read_csv('./data/y_train_LOF.csv')\n",
    "\n",
    "X_train_LOF_SMOTE = dd.read_csv('./data/X_train_LOF_smote.csv')\n",
    "y_train_LOF_SMOTE = dd.read_csv('./data/y_train_LOF_smote.csv')\n",
    "\n",
    "X_train_LOF_ROS = dd.read_csv('./data/X_train_LOF_ros.csv')\n",
    "y_train_LOF_ROS = dd.read_csv('./data/y_train_LOF_ros.csv')\n",
    "\n",
    "X_train_LOF_RUS = dd.read_csv('./data/X_train_LOF_rus.csv')\n",
    "y_train_LOF_RUS = dd.read_csv('./data/y_train_LOF_rus.csv')\n",
    "\n",
    "X_train_smote = dd.read_csv('./data/X_train_smote.csv')\n",
    "y_train_smote = dd.read_csv('./data/y_train_smote.csv')\n",
    "\n",
    "X_train_ros = dd.read_csv('./data/X_train_ros.csv')\n",
    "y_train_ros = dd.read_csv('./data/y_train_ros.csv')\n",
    "\n",
    "X_train_rus = dd.read_csv('./data/X_train_rus.csv')\n",
    "y_train_rus = dd.read_csv('./data/y_train_rus.csv')"
   ]
  },
  {
   "cell_type": "code",
   "execution_count": null,
   "metadata": {},
   "outputs": [],
   "source": [
    "datasets = [\n",
    "    (\"dataset_default\", X_train, y_train),\n",
    "    (\"dataset_ISO\", X_train_ISO, y_train_ISO),\n",
    "    (\"dataset_ISO_SMOTE\", X_train_ISO_SMOTE, y_train_ISO_SMOTE),\n",
    "    (\"dataset_ISO_ROS\", X_train_ISO_ROS, y_train_ISO_ROS),\n",
    "    (\"dataset_ISO_RUS\", X_train_ISO_RUS, y_train_ISO_RUS),\n",
    "    (\"dataset_LOF\", X_train_LOF, y_train_LOF),\n",
    "    (\"dataset_LOF_SMOTE\", X_train_LOF_SMOTE, y_train_LOF_SMOTE),\n",
    "    (\"dataset_LOF_ROS\", X_train_LOF_ROS, y_train_LOF_ROS),\n",
    "    (\"dataset_LOF_RUS\", X_train_LOF_RUS, y_train_LOF_RUS),\n",
    "    (\"dataset_SMOTE\", X_train_smote, y_train_smote),\n",
    "    (\"dataset_ROS\", X_train_ros, y_train_ros),\n",
    "    (\"dataset_RUS\", X_train_rus, y_train_rus)\n",
    "]"
   ]
  },
  {
   "cell_type": "code",
   "execution_count": null,
   "metadata": {},
   "outputs": [],
   "source": [
    "# Define experiment configurations\n",
    "search_space = {\n",
    "    'scaler': [None],\n",
    "    'encode': [{'apply': True, 'columns': ['categorical_col']}],\n",
    "    'models': [\n",
    "        {'name': 'LogisticRegression', 'instance': LogisticRegression()},\n",
    "        {'name': 'RandomForest', 'instance': RandomForestClassifier()},\n",
    "        {'name': 'LightGBM', 'instance': LGBMClassifier()},\n",
    "        {'name': 'GaussianNB', 'instance': GaussianNB()},\n",
    "        {'name': 'DecisionTree', 'instance': DecisionTreeClassifier()},\n",
    "        {'name': 'GradientBoosting', 'instance': GradientBoostingClassifier()},\n",
    "    ]\n",
    "}\n",
    "\n",
    "# Generate all combinations\n",
    "keys, values = zip(*search_space.items())\n",
    "experiment_combinations = [dict(zip(keys, v)) for v in itertools.product(*values)]\n",
    "\n",
    "categorical_cols = ['payment_method', 'country_code', 'collect_type']\n",
    "numeric_columns = ['order_value', 'refund_value', 'num_items_ordered', 'days_since_first_order',\n",
    "                   'order_date_day_of_week', 'order_date_day', 'order_date_month', 'order_date_year']"
   ]
  },
  {
   "cell_type": "code",
   "execution_count": null,
   "metadata": {},
   "outputs": [],
   "source": [
    "len(experiment_combinations)"
   ]
  },
  {
   "cell_type": "code",
   "execution_count": null,
   "metadata": {},
   "outputs": [],
   "source": [
    "# # Initialize the tracker\n",
    "# from ExperimentTracker2 import PhaseTwoExperimentTracker\n",
    "# tracker = PhaseTwoExperimentTracker(\"Phase-2 (Final)\")\n",
    "\n",
    "# # Load checkpoint file\n",
    "# tracker.completed_runs\n",
    "\n",
    "# # Run experiments with checkpointing\n",
    "# tracker.run_experiments(\n",
    "#     datasets=datasets,\n",
    "#     experiment_combinations=experiment_combinations,\n",
    "#     X_test=X_test,\n",
    "#     y_test=y_test,\n",
    "#     numeric_columns=numeric_columns,\n",
    "#     categorical_cols=categorical_cols\n",
    "# )"
   ]
  },
  {
   "cell_type": "code",
   "execution_count": null,
   "metadata": {},
   "outputs": [],
   "source": [
    "defined_experiment_combinations = [\n",
    "    {\n",
    "        \"scaler\": MinMaxScaler(),\n",
    "        \"encode\": {\"apply\": True, \"columns\": [\"categorical_col\"]},\n",
    "        \"models\": {\"name\": \"RandomForest\", \"instance\": RandomForestClassifier()}\n",
    "    },\n",
    "    {\n",
    "        \"scaler\": None,\n",
    "        \"encode\": {\"apply\": True, \"columns\": [\"categorical_col\"]},\n",
    "        \"models\": {\"name\": \"RandomForest\", \"instance\": RandomForestClassifier()}\n",
    "    },\n",
    "    {\n",
    "        \"scaler\": StandardScaler(),\n",
    "        \"encode\": {\"apply\": True, \"columns\": [\"categorical_col\"]},\n",
    "        \"models\": {\"name\": \"LightGBM\", \"instance\": LGBMClassifier()}\n",
    "    },\n",
    "    {\n",
    "        \"scaler\": None,\n",
    "        \"encode\": {\"apply\": True, \"columns\": [\"categorical_col\"]},\n",
    "        \"models\": {\"name\": \"LightGBM\", \"instance\": LGBMClassifier()}\n",
    "    },\n",
    "]"
   ]
  },
  {
   "cell_type": "code",
   "execution_count": null,
   "metadata": {},
   "outputs": [],
   "source": [
    "from ExperimentTrackers2 import PhaseThreeExperimentTracker\n",
    "\n",
    "tracker = PhaseThreeExperimentTracker(\"Models with Scaler\")\n",
    "\n",
    "# Load checkpoint file\n",
    "tracker.completed_runs\n",
    "\n",
    "# Run experiments with checkpointing\n",
    "tracker.run_experiments(\n",
    "    datasets=datasets,\n",
    "    experiment_combinations=defined_experiment_combinations,\n",
    "    X_test=X_test,\n",
    "    y_test=y_test,\n",
    "    numeric_columns=numeric_columns,\n",
    "    categorical_cols=categorical_cols\n",
    ")\n"
   ]
  }
 ],
 "metadata": {
  "kernelspec": {
   "display_name": "gpu_env",
   "language": "python",
   "name": "python3"
  },
  "language_info": {
   "codemirror_mode": {
    "name": "ipython",
    "version": 3
   },
   "file_extension": ".py",
   "mimetype": "text/x-python",
   "name": "python",
   "nbconvert_exporter": "python",
   "pygments_lexer": "ipython3",
   "version": "3.8.19"
  }
 },
 "nbformat": 4,
 "nbformat_minor": 2
}
