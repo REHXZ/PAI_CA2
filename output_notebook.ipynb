{
 "cells": [
  {
   "cell_type": "code",
   "execution_count": 1,
   "id": "6ab6a75b",
   "metadata": {
    "execution": {
     "iopub.execute_input": "2025-02-14T03:00:41.629468Z",
     "iopub.status.busy": "2025-02-14T03:00:41.629189Z",
     "iopub.status.idle": "2025-02-14T03:00:41.921351Z",
     "shell.execute_reply": "2025-02-14T03:00:41.920665Z"
    },
    "papermill": {
     "duration": 0.295745,
     "end_time": "2025-02-14T03:00:41.922532",
     "exception": false,
     "start_time": "2025-02-14T03:00:41.626787",
     "status": "completed"
    },
    "tags": []
   },
   "outputs": [
    {
     "name": "stdout",
     "output_type": "stream",
     "text": [
      "   x   y\n",
      "0  1   2\n",
      "1  3   4\n",
      "2  5   6\n",
      "3  6   7\n"
     ]
    }
   ],
   "source": [
    "import pandas as pd\n",
    "import numpy as np\n",
    "\n",
    "data = pd.read_csv('data/test.csv')\n",
    "\n",
    "print(data)"
   ]
  }
 ],
 "metadata": {
  "kernelspec": {
   "display_name": "PAI_env",
   "language": "python",
   "name": "python3"
  },
  "language_info": {
   "codemirror_mode": {
    "name": "ipython",
    "version": 3
   },
   "file_extension": ".py",
   "mimetype": "text/x-python",
   "name": "python",
   "nbconvert_exporter": "python",
   "pygments_lexer": "ipython3",
   "version": "3.9.21"
  },
  "papermill": {
   "default_parameters": {},
   "duration": 1.771992,
   "end_time": "2025-02-14T03:00:42.139380",
   "environment_variables": {},
   "exception": null,
   "input_path": "your_notebook.ipynb",
   "output_path": "output_notebook.ipynb",
   "parameters": {},
   "start_time": "2025-02-14T03:00:40.367388",
   "version": "2.6.0"
  }
 },
 "nbformat": 4,
 "nbformat_minor": 5
}