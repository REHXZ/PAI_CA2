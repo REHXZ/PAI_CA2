{
 "cells": [
  {
   "cell_type": "code",
   "execution_count": 28,
   "metadata": {},
   "outputs": [],
   "source": [
    "import pandas as pd\n",
    "import pandas as pd\n",
    "import numpy as np\n",
    "import os\n",
    "import itertools\n",
    "from AutomatedTraining import AutomatedTraining\n",
    "from sklearn.linear_model import LogisticRegression\n",
    "from sklearn.preprocessing import StandardScaler, MinMaxScaler, RobustScaler, OneHotEncoder\n",
    "from sklearn.ensemble import RandomForestClassifier, GradientBoostingClassifier\n",
    "from sklearn.naive_bayes import GaussianNB\n",
    "from sklearn.tree import DecisionTreeClassifier\n",
    "from sklearn.model_selection import train_test_split"
   ]
  },
  {
   "cell_type": "code",
   "execution_count": 29,
   "metadata": {},
   "outputs": [],
   "source": [
    "# import data\n",
    "df = pd.read_csv('data/merged_data.csv')"
   ]
  },
  {
   "cell_type": "code",
   "execution_count": 30,
   "metadata": {},
   "outputs": [],
   "source": [
    "# Convert data types for memory efficiency\n",
    "def convert_dtypes(df):\n",
    "    df['order_value'] = df['order_value'].astype('float32')\n",
    "    df['refund_value'] = df['refund_value'].astype('float32')\n",
    "    df['num_items_ordered'] = df['num_items_ordered'].astype(float).round().astype('uint8')\n",
    "    df['order_date'] = pd.to_datetime(df['order_date'])\n",
    "    df['first_order_datetime'] = pd.to_datetime(df['first_order_datetime'])\n",
    "    df[['country_code', 'collect_type', 'payment_method']] = df[['country_code', 'collect_type', 'payment_method']].astype('category')\n",
    "    return df\n",
    "\n",
    "df = convert_dtypes(df)"
   ]
  },
  {
   "cell_type": "code",
   "execution_count": 31,
   "metadata": {},
   "outputs": [],
   "source": [
    "# Payment method grouping\n",
    "def group_payment_methods(payment_method):\n",
    "    mapping = {\n",
    "        'CreditCard': ['GenericCreditCard', 'CybersourceCreditCard', 'CybersourceApplePay', 'CreditCard'],\n",
    "        'DigitalWallet': ['GCash', 'AFbKash', 'JazzCashWallet', 'AdyenBoost', 'PayPal'],\n",
    "        'BankTransfer': ['XenditDirectDebit', 'RazerOnlineBanking'],\n",
    "        'PaymentOnDelivery': ['Invoice', 'PayOnDelivery']\n",
    "    }\n",
    "    for key, values in mapping.items():\n",
    "        if payment_method in values:\n",
    "            return key\n",
    "    return 'Others'\n",
    "\n",
    "df['payment_method'] = df['payment_method'].map(group_payment_methods)"
   ]
  },
  {
   "cell_type": "code",
   "execution_count": 32,
   "metadata": {},
   "outputs": [],
   "source": [
    "# Date transformations\n",
    "def date_transformations(df):\n",
    "    df['days_since_first_order'] = (df['order_date'] - df['first_order_datetime']).dt.days\n",
    "    df = df.drop(columns=['first_order_datetime'])\n",
    "    df['order_date_day_of_week'] = df['order_date'].dt.dayofweek\n",
    "    df['order_date_day'] = df['order_date'].dt.day\n",
    "    df['order_date_month'] = df['order_date'].dt.month\n",
    "    df['order_date_year'] = df['order_date'].dt.year\n",
    "    df = df.drop(columns=['order_date'])\n",
    "    return df\n",
    "\n",
    "df = date_transformations(df)\n",
    "df = df.drop(columns=['order_id', 'customer_id'])"
   ]
  },
  {
   "cell_type": "code",
   "execution_count": 33,
   "metadata": {},
   "outputs": [],
   "source": [
    "# Split data\n",
    "X = df.drop(columns=['is_fraud'])\n",
    "y = df['is_fraud']\n",
    "X_train, X_test, y_train, y_test = train_test_split(X, y, test_size=0.2, random_state=42)\n",
    "\n",
    "categorical_cols = ['payment_method', 'country_code', 'collect_type']\n",
    "numeric_columns = ['order_value', 'refund_value', 'num_items_ordered', 'days_since_first_order',\n",
    "                   'order_date_day_of_week', 'order_date_day', 'order_date_month', 'order_date_year']"
   ]
  },
  {
   "cell_type": "code",
   "execution_count": 34,
   "metadata": {},
   "outputs": [
    {
     "name": "stdout",
     "output_type": "stream",
     "text": [
      "Starting automated training run: RA_202502141145_automated\n"
     ]
    },
    {
     "name": "stderr",
     "output_type": "stream",
     "text": [
      "c:\\Users\\yongj\\anaconda3\\envs\\PAI_env\\lib\\site-packages\\mlflow\\types\\utils.py:452: UserWarning: Hint: Inferred schema contains integer column(s). Integer columns in Python cannot represent missing values. If your input data contains missing values at inference time, it will be encoded as floats and will cause a schema enforcement error. The best way to avoid this problem is to infer the model schema based on a realistic data sample (training dataset) that includes missing values. Alternatively, you can declare integer columns as doubles (float64) whenever these columns may have missing values. See `Handling Integers With Missing Values <https://www.mlflow.org/docs/latest/models.html#handling-integers-with-missing-values>`_ for more details.\n",
      "  warnings.warn(\n",
      "2025/02/14 11:45:46 WARNING mlflow.models.signature: Failed to infer the model signature from the input example. Reason: MlflowException(\"Failed to enforce schema of data '      country_code  mobile_verified  num_orders_last_50days  \\\\\\n15663           PH             True                       7   \\n\\n       num_cancelled_orders_last_50days  num_refund_orders_last_50days  \\\\\\n15663                                 0                              0   \\n\\n       total_payment_last_50days  num_associated_customers collect_type  \\\\\\n15663                  64.449192                         1     delivery   \\n\\n          payment_method  order_value  num_items_ordered  refund_value  \\\\\\n15663  PaymentOnDelivery     9.851562                  2           0.0   \\n\\n       days_since_first_order  order_date_day_of_week  order_date_day  \\\\\\n15663                      34                       6              16   \\n\\n       order_date_month  order_date_year  \\n15663                 4             2023  ' with schema '['country_code': string (required), 'mobile_verified': boolean (required), 'num_orders_last_50days': long (required), 'num_cancelled_orders_last_50days': long (required), 'num_refund_orders_last_50days': long (required), 'total_payment_last_50days': double (required), 'num_associated_customers': long (required), 'collect_type': string (required), 'payment_method': string (required), 'order_value': float (required), 'num_items_ordered': integer (required), 'refund_value': float (required), 'days_since_first_order': long (required), 'order_date_day_of_week': integer (required), 'order_date_day': integer (required), 'order_date_month': integer (required), 'order_date_year': integer (required)]'. Error: Incompatible input types for column country_code. Can not safely convert category to <U0.\"). To see the full traceback, set the logging level to DEBUG via `logging.getLogger(\"mlflow\").setLevel(logging.DEBUG)`.\n"
     ]
    },
    {
     "name": "stdout",
     "output_type": "stream",
     "text": [
      "Completed automated training run: RA_202502141145_automated\n",
      "Test F1 Score: 0.7595\n",
      "🏃 View run RA_202502141145_automated at: https://dagshub.com/REHXZ/PAI_CA2.mlflow/#/experiments/21/runs/e009ccfe79234dd7b32022438ecf6699\n",
      "🧪 View experiment at: https://dagshub.com/REHXZ/PAI_CA2.mlflow/#/experiments/21\n",
      "Ending automated training run\n"
     ]
    },
    {
     "data": {
      "text/plain": [
       "(Pipeline(steps=[('preprocessor',\n",
       "                  ColumnTransformer(remainder='passthrough',\n",
       "                                    transformers=[('scaler', MinMaxScaler(),\n",
       "                                                   ['order_value',\n",
       "                                                    'refund_value',\n",
       "                                                    'num_items_ordered',\n",
       "                                                    'days_since_first_order',\n",
       "                                                    'order_date_day_of_week',\n",
       "                                                    'order_date_day',\n",
       "                                                    'order_date_month',\n",
       "                                                    'order_date_year']),\n",
       "                                                  ('encoder',\n",
       "                                                   OneHotEncoder(handle_unknown='ignore'),\n",
       "                                                   ['payment_method',\n",
       "                                                    'country_code',\n",
       "                                                    'collect_type']),\n",
       "                                                  ('drop_categorical', 'drop',\n",
       "                                                   ['payment_method',\n",
       "                                                    'country_code',\n",
       "                                                    'collect_type'])])),\n",
       "                 ('model',\n",
       "                  RandomForestClassifier(max_depth=10, random_state=42))]),\n",
       " 0.7595212187159956)"
      ]
     },
     "execution_count": 34,
     "metadata": {},
     "output_type": "execute_result"
    }
   ],
   "source": [
    "tracker = AutomatedTraining('Automated Training')\n",
    "tracker.run_experiments(X_train, y_train, X_test, y_test, categorical_cols, numeric_columns)"
   ]
  }
 ],
 "metadata": {
  "kernelspec": {
   "display_name": "PAI_env",
   "language": "python",
   "name": "python3"
  },
  "language_info": {
   "codemirror_mode": {
    "name": "ipython",
    "version": 3
   },
   "file_extension": ".py",
   "mimetype": "text/x-python",
   "name": "python",
   "nbconvert_exporter": "python",
   "pygments_lexer": "ipython3",
   "version": "3.10.16"
  }
 },
 "nbformat": 4,
 "nbformat_minor": 2
}
